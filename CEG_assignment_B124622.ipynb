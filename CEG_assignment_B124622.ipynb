{
 "cells": [
  {
   "cell_type": "code",
   "execution_count": 1,
   "metadata": {
    "collapsed": true
   },
   "outputs": [],
   "source": [
    "%alias Notung java -jar /home/catalin/Downloads/Notung-2.9.jar\n",
    "%alias PhyML /home/catalin/Downloads/PhyML-3.1_linux64\n",
    "\n",
    "from Bio import SeqIO\n",
    "import numpy as np\n",
    "import pandas as pd\n",
    "import seaborn as sns\n",
    "import matplotlib.pyplot as plt\n",
    "%matplotlib inline\n",
    "import os"
   ]
  },
  {
   "cell_type": "code",
   "execution_count": 2,
   "metadata": {
    "collapsed": true
   },
   "outputs": [],
   "source": [
    "pd.set_option('display.max_colwidth', -1)\n",
    "pd.set_option('colheader_justify', 'left')\n",
    "pd.options.display.max_rows = 200\n",
    "#d.style.set_properties(**{'text-align': 'left'})"
   ]
  },
  {
   "cell_type": "code",
   "execution_count": 3,
   "metadata": {},
   "outputs": [
    {
     "name": "stdout",
     "output_type": "stream",
     "text": [
      "\u001b[0m\u001b[01;32mCandidatus_Heimdallarchaeota.fasta\u001b[0m*    \u001b[01;32mLokiarchaeum.fasta\u001b[0m*\r\n",
      "\u001b[01;32mCandidatus_Odinarchaeota_LCB_4.fasta\u001b[0m*  \u001b[01;32mThorarchaeota_archaeon_AB_25.fasta\u001b[0m*\r\n",
      "\u001b[01;32mLokiarchaeota_archaeon_CR_4.fasta\u001b[0m*     \u001b[01;32mThorarchaeota_SMTZ-45.fasta\u001b[0m*\r\n"
     ]
    }
   ],
   "source": [
    "ls data/"
   ]
  },
  {
   "cell_type": "code",
   "execution_count": 4,
   "metadata": {},
   "outputs": [
    {
     "name": "stdout",
     "output_type": "stream",
     "text": [
      "\u001b[0m\u001b[01;32mBathyarchaeota-archaeon.fasta\u001b[0m*  \u001b[01;32mMetallosphaera-yellowstonensis.fasta\u001b[0m*\r\n",
      "\u001b[01;32mCrenarchaeota-archaeon.fasta\u001b[0m*\r\n"
     ]
    }
   ],
   "source": [
    "ls outgroup/"
   ]
  },
  {
   "cell_type": "code",
   "execution_count": 21,
   "metadata": {
    "collapsed": true
   },
   "outputs": [],
   "source": [
    "cat data/* > alltaxa.fasta"
   ]
  },
  {
   "cell_type": "code",
   "execution_count": 60,
   "metadata": {
    "collapsed": true
   },
   "outputs": [],
   "source": [
    "cat outgroup/* >> alltaxa.fasta"
   ]
  },
  {
   "cell_type": "code",
   "execution_count": 5,
   "metadata": {
    "collapsed": true
   },
   "outputs": [
    {
     "name": "stdout",
     "output_type": "stream",
     "text": [
      "OG0000000: KKK40223.1 KKK40226.1 KKK40341.1 KKK40369.1 KKK40453.1 KKK40454.1 KKK40457.1 KKK40672.1 KKK40831.1 KKK40851.1 KKK41091.1 KKK41097.1 KKK41155.1 KKK41182.1 KKK41219.1 KKK41852.1 KKK41853.1 KKK41975.1 KKK42155.1 KKK42259.1 KKK42368.1 KKK42474.1 KKK42607.1 KKK42609.1 KKK42647.1 KKK42824.1 KKK42845.1 KKK42847.1 KKK42849.1 KKK42857.1 KKK42860.1 KKK43026.1 KKK43031.1 KKK43373.1 KKK43455.1 KKK43456.1 KKK43498.1 KKK43967.1 KKK44032.1 KKK44068.1 KKK44114.1 KKK44255.1 KKK44343.1 KKK44406.1 KKK44444.1 KKK44492.1 KKK44552.1 KKK44703.1 KKK44706.1 KKK44775.1 KKK44939.1 KKK45081.1 KKK45140.1 KKK45196.1 KKK45299.1 KKK45421.1 KKK45512.1 KKK46057.1 KKK46087.1 KKK46108.1 KKK46109.1 KKK46113.1 KKK46288.1 KKK46293.1 KKK46406.1 KKK46410.1 KKK46541.1 KXH69871.1 KXH70892.1 KXH72051.1 KXH72871.1 KXH73274.1 KXH73278.1 KXH74422.1 KXH76323.1 KXH76619.1 KXH77151.1 MBS85073.1 MBS85200.1 OLS12066.1 OLS12284.1 OLS12298.1 OLS12323.1 OLS12338.1 OLS12375.1 OLS12668.1 OLS12906.1 OLS12963.1 OLS12966.1 OLS12978.1 OLS13311.1 OLS13504.1 OLS13692.1 OLS13724.1 OLS13732.1 OLS13797.1 OLS14022.1 OLS14034.1 OLS14063.1 OLS14253.1 OLS14456.1 OLS14470.1 OLS14496.1 OLS14541.1 OLS14552.1 OLS14563.1 OLS14597.1 OLS14666.1 OLS14672.1 OLS14677.1 OLS14686.1 OLS15256.1 OLS15439.1 OLS15483.1 OLS15665.1 OLS15666.1 OLS15673.1 OLS15677.1 OLS15678.1 OLS15695.1 OLS15784.1 OLS15912.1 OLS15917.1 OLS16106.1 OLS16196.1 OLS16293.1 OLS16410.1 OLS16438.1 OLS17160.1 OLS17184.1 OLS17650.1 OLS17899.1 OLS17900.1 OLS18071.1 OLS18137.1 OLS18202.1 OLS18719.1 OLS18720.1 OLS20047.1 OLS22576.1 OLS25217.1 OLS28249.1 OLS28413.1 OLS29435.1 OLS29472.1 OLS29520.1 OLS29655.1 OLS29788.1 OLS30418.1 OLS30421.1 OLS30502.1 OLS30845.1 OLS31022.1 OLS31023.1 OLS31655.1 OLS31658.1\r\n",
      "OG0000001: EHP68484.1 EHP68497.1 EHP68619.1 EHP69752.1 EHP69892.1 EHP70836.1 KKK40121.1 KKK40340.1 KKK40555.1 KKK40586.1 KKK41180.1 KKK41322.1 KKK41400.1 KKK41567.1 KKK41687.1 KKK41743.1 KKK41886.1 KKK42050.1 KKK42258.1 KKK42416.1 KKK42417.1 KKK42616.1 KKK42617.1 KKK42843.1 KKK43315.1 KKK43668.1 KKK43680.1 KKK44003.1 KKK44140.1 KKK44683.1 KKK45020.1 KKK45021.1 KKK45189.1 KKK45190.1 KKK45191.1 KKK45651.1 KKK45767.1 KKK46020.1 KKK46067.1 KKK46128.1 KKK46225.1 KKK46536.1 KON31669.1 KXH69804.1 KXH69876.1 KXH69988.1 KXH70523.1 KXH75986.1 KXH76053.1 KXH76436.1 KXH77038.1 MBS85019.1 MBS85071.1 MBS85613.1 MBS85637.1 MBS85671.1 MBS85793.1 MBS85881.1 MBS86018.1 MBS86284.1 OLS12377.1 OLS12807.1 OLS12835.1 OLS13090.1 OLS13801.1 OLS13802.1 OLS14127.1 OLS14410.1 OLS14689.1 OLS15375.1 OLS15702.1 OLS16073.1 OLS17652.1 OLS18503.1 OLS21341.1 OLS22164.1 OLS22981.1 OLS23886.1 OLS27440.1 OLS28667.1 OLS29886.1 PIU59953.1 PIU60065.1 PIU60071.1 PIU60077.1\r\n"
     ]
    }
   ],
   "source": [
    "!head Orthogroups.txt -n 2"
   ]
  },
  {
   "cell_type": "code",
   "execution_count": 78,
   "metadata": {},
   "outputs": [
    {
     "name": "stdout",
     "output_type": "stream",
     "text": [
      "11013\r\n"
     ]
    }
   ],
   "source": [
    "cat Orthogroups1545.txt | grep \"OG\" | wc -l"
   ]
  },
  {
   "cell_type": "code",
   "execution_count": 23,
   "metadata": {
    "collapsed": true
   },
   "outputs": [],
   "source": [
    "orthogroups14=orthogroups"
   ]
  },
  {
   "cell_type": "code",
   "execution_count": 295,
   "metadata": {},
   "outputs": [
    {
     "name": "stdout",
     "output_type": "stream",
     "text": [
      "11013 orthogroups in total\n"
     ]
    }
   ],
   "source": [
    "t=open(\"Orthogroups.txt\").read()\n",
    "x=\"\".join(t.split(\"\\n\")).split()\n",
    "orthogroups15=list(map(lambda x:\"\".join(x.split(\"\\n\")[:-1]).split(), t.split(\":\")[1:]))\n",
    "\n",
    "t=open(\"Orthogroups1.4.txt\").read()\n",
    "x=\"\".join(t.split(\"\\n\")).split()\n",
    "orthogroups14=list(map(lambda x:\"\".join(x.split(\"\\n\")[:-1]).split(), t.split(\":\")[1:]))\n",
    "\n",
    "t=open(\"Orthogroups1545.txt\").read()\n",
    "x=\"\".join(t.split(\"\\n\")).split()\n",
    "orthogroups1545=list(map(lambda x:\"\".join(x.split(\"\\n\")[:-1]).split(), t.split(\":\")[1:]))\n",
    "\n",
    "t=open(\"Orthogroups13.txt\").read()\n",
    "x=\"\".join(t.split(\"\\n\")).split()\n",
    "orthogroups13=list(map(lambda x:\"\".join(x.split(\"\\n\")[:-1]).split(), t.split(\":\")[1:]))\n",
    "\n",
    "t=open(\"Orthogroups1345.txt\").read()\n",
    "x=\"\".join(t.split(\"\\n\")).split()\n",
    "orthogroups1345=list(map(lambda x:\"\".join(x.split(\"\\n\")[:-1]).split(), t.split(\":\")[1:]))\n",
    "\n",
    "\n",
    "print(len(orthogroups),\"orthogroups in total\")"
   ]
  },
  {
   "cell_type": "code",
   "execution_count": 106,
   "metadata": {},
   "outputs": [
    {
     "name": "stdout",
     "output_type": "stream",
     "text": [
      "2480 orthogroups with more than one protein\n"
     ]
    }
   ],
   "source": [
    "orthogroups=orthogroups13\n",
    "print(sum(np.array(list(map(len,orthogroups)))>1), \"orthogroups with more than one protein\")"
   ]
  },
  {
   "cell_type": "code",
   "execution_count": 107,
   "metadata": {},
   "outputs": [
    {
     "name": "stdout",
     "output_type": "stream",
     "text": [
      "139 orthogroups with exactly 9 proteins\n"
     ]
    }
   ],
   "source": [
    "print(sum(np.array(list(map(len,orthogroups)))==9), \"orthogroups with exactly 9 proteins\")"
   ]
  },
  {
   "cell_type": "code",
   "execution_count": 108,
   "metadata": {},
   "outputs": [
    {
     "name": "stdout",
     "output_type": "stream",
     "text": [
      "[404, 405, 408, 409, 412, 415, 419, 422, 423, 425, 428, 429, 430, 434, 435, 438, 439, 441, 442, 443, 446, 447, 451, 452, 454, 456, 461, 462, 463, 464, 466, 472, 475, 476, 477, 479, 480, 483, 488, 497, 499, 501, 502, 504, 505, 506, 508, 509]\n"
     ]
    }
   ],
   "source": [
    "# good orthogroups containing 9 elements and all 7 unique 3-letter seqids.\n",
    "# 2 pairs of the selected species have the same 3-letter identifier at the \n",
    "# beggining of the sequences, so 7 is the max number of different 3-letter ids in an orthogroup.\n",
    "# some of these good ids will contain orthogroups from less than 9 species\n",
    "\n",
    "goodids=[i for i in range(len(orthogroups)) if len(orthogroups[i])==9 \n",
    "                                           and len(set([p[:3] for p in orthogroups[i]]))>6]\n",
    "print(goodids)"
   ]
  },
  {
   "cell_type": "code",
   "execution_count": 109,
   "metadata": {},
   "outputs": [
    {
     "data": {
      "text/plain": [
       "48"
      ]
     },
     "execution_count": 109,
     "metadata": {},
     "output_type": "execute_result"
    }
   ],
   "source": [
    "len(goodids)"
   ]
  },
  {
   "cell_type": "code",
   "execution_count": null,
   "metadata": {
    "collapsed": true
   },
   "outputs": [],
   "source": [
    "# after finding these orthogroups, I realised that Orthofinder outputs SingleCopyOrthogroups.txt,\n",
    "# which contains just the correct 38 orthogroups with exactly one protein from each species."
   ]
  },
  {
   "cell_type": "code",
   "execution_count": 4,
   "metadata": {
    "collapsed": true
   },
   "outputs": [],
   "source": [
    "def parse(ogindex):\n",
    "    orthogroup=orthogroups[ogindex]\n",
    "    i=10\n",
    "    names=[]\n",
    "    idsset=[]\n",
    "    f=open(\"OGfastas/orthogroup\"+str(ogindex)+\".fasta\",\"w+\")\n",
    "    for ID in orthogroup:\n",
    "        seqs=SeqIO.parse(\"alltaxa.fasta\",\"fasta\")\n",
    "        for s in seqs:\n",
    "            if s.id==ID:\n",
    "                f.write(\">\"+s.description+\"\\n\"+str(s.seq)+\"\\n\")\n",
    "                names+=[s.description[:6]+s.description[-4:-1].replace(\" \",\"-\")]\n",
    "                idsset+=[s.description]\n",
    "                i+=1\n",
    "    species=len(set(map(lambda x:x.split(\"[\")[-1], idsset)))\n",
    "    print(len(orthogroup),\"proteins from\",species, \"species in orthogroup number\",ogindex)\n",
    "    d=pd.DataFrame([[i[:11],\" \".join(i.split('[')[:-1])[11:],i.split('[')[-1][:-1]] for i in idsset],columns=[\"id\",\"protein\",\"species\"])\n",
    "    d[\"Orthogroup\"]=ogindex\n",
    "    f.close()\n",
    "    return d.sort_values(by=[\"protein\",\"species\"])"
   ]
  },
  {
   "cell_type": "code",
   "execution_count": 5,
   "metadata": {
    "collapsed": true
   },
   "outputs": [],
   "source": [
    "def parseortho(orthogroup):\n",
    "    i=10\n",
    "    names=[]\n",
    "    idsset=[]\n",
    "    f=open(\"OGfastas/orthogroup\"+str(ogindex)+\".fasta\",\"w+\")\n",
    "    for ID in orthogroup:\n",
    "        seqs=SeqIO.parse(\"alltaxa.fasta\",\"fasta\")\n",
    "        for s in seqs:\n",
    "            if s.id==ID:\n",
    "                f.write(\">\"+s.description+\"\\n\"+str(s.seq)+\"\\n\")\n",
    "                names+=[s.description[:6]+s.description[-4:-1].replace(\" \",\"-\")]\n",
    "                idsset+=[s.description]\n",
    "                i+=1\n",
    "    species=len(set(map(lambda x:x.split(\"[\")[-1], idsset)))\n",
    "    print(len(orthogroup),\"proteins from\",species, \"species in orthogroup number\",ogindex)\n",
    "    d=pd.DataFrame([[i[:11],\" \".join(i.split('[')[:-1])[11:],i.split('[')[-1][:-1]] for i in idsset],columns=[\"id\",\"protein\",\"species\"])\n",
    "    d[\"Orthogroup\"]=ogindex\n",
    "    f.close()\n",
    "    return d.sort_values(by=[\"protein\",\"species\"])"
   ]
  },
  {
   "cell_type": "markdown",
   "metadata": {},
   "source": [
    "# Visualize the protein alignments of these orthogroups by adding the sequences to a fasta file, aligning it with MAFFT, and opening the alignment in ClustalX. For that, rerun the following cells, either iterating or manually changing $ogindex$:"
   ]
  },
  {
   "cell_type": "code",
   "execution_count": 9,
   "metadata": {},
   "outputs": [
    {
     "name": "stdout",
     "output_type": "stream",
     "text": [
      "162 proteins from 6 species in orthogroup number 0\n"
     ]
    }
   ],
   "source": [
    "#iterate to check all orthogroups:\n",
    "i=0\n",
    "ogindex=goodids[i]\n",
    "i+=1\n",
    "\n",
    "#to set manually\n",
    "ogindex=\n",
    "\n",
    "parse(ogindex)"
   ]
  },
  {
   "cell_type": "code",
   "execution_count": 13,
   "metadata": {},
   "outputs": [
    {
     "name": "stdout",
     "output_type": "stream",
     "text": [
      "['GTP-binding domain protein ', 'GTP-binding protein ', 'GTPase KRas precursor ', 'GTPase KRas precursor ', 'GTPase KRas precursor ', 'GTPase KRas precursor ', 'GTPase KRas precursor ', 'GTPase KRas precursor ', 'GTPase KRas precursor ', 'GTPase KRas precursor ', 'GTPase KRas precursor ', 'GTPase KRas precursor ', 'GTPase KRas precursor ', 'GTPase KRas precursor ', 'GTPase KRas precursor ', 'GTPase KRas precursor ', 'GTPase KRas precursor ', 'GTPase KRas precursor ', 'GTPase KRas precursor ', 'GTPase KRas precursor ', 'GTPase KRas precursor ', 'GTPase KRas precursor ', 'GTPase KRas precursor ', 'GTPase KRas precursor, partial ', 'Rab GTPase ', 'Rab18/RabC-family small GTPase ', 'Ras family protein ', 'Ras family protein ', 'Ras family protein ', 'Ras family protein ', 'Ras family protein, partial ', 'Ras family protein, partial ', 'Transforming protein p29 precursor ', 'Transforming protein p29 precursor ', 'Transforming protein p29 precursor ', 'Transforming protein p29 precursor ', 'Uncharacterized protein RBG13Loki_4121 ', 'hypothetical protein AM326_00035 ', 'hypothetical protein AM326_00565 ', 'hypothetical protein AM326_00585 ', 'hypothetical protein AM326_00665, partial ', 'hypothetical protein AM326_02510 ', 'hypothetical protein AM326_03745 ', 'hypothetical protein AM326_04935 ', 'hypothetical protein AM326_05645 ', 'hypothetical protein AM326_07260 ', 'hypothetical protein AM326_12200 ', 'hypothetical protein CME83_00715 ', 'hypothetical protein CME83_01370 ', 'hypothetical protein RBG13Loki_0116, partial ', 'hypothetical protein RBG13Loki_0457 ', 'hypothetical protein RBG13Loki_0713, partial ', 'hypothetical protein RBG13Loki_2658 ', 'hypothetical protein RBG13Loki_4107 ', 'hypothetical protein ThorAB25_07040 ', 'hypothetical protein ThorAB25_15130, partial ', 'hypothetical protein ThorAB25_16140 ', 'member RAS oncogene family, partial ', 'putative small GTPase family protein ', 'rab family GTPase ', 'ras-related protein RHN1-like ', 'small GTP-binding domain protein ', 'small GTP-binding domain protein ', 'small GTP-binding domain protein ', 'small GTP-binding domain protein ', 'small GTP-binding domain protein ', 'small GTP-binding domain protein ', 'small GTP-binding domain protein ', 'small GTP-binding domain protein ', 'small GTP-binding domain protein ', 'small GTP-binding domain protein ', 'small GTP-binding domain protein ', 'small GTP-binding domain protein ', 'small GTP-binding domain protein ', 'small GTP-binding domain protein ', 'small GTP-binding domain protein ', 'small GTP-binding domain protein ', 'small GTP-binding domain protein ', 'small GTP-binding domain protein ', 'small GTP-binding domain protein ', 'small GTP-binding domain protein ', 'small GTP-binding domain protein ', 'small GTP-binding domain protein ', 'small GTP-binding domain protein ', 'small GTP-binding domain protein ', 'small GTP-binding domain protein ', 'small GTP-binding domain protein ', 'small GTP-binding domain protein ', 'small GTP-binding domain protein ', 'small GTP-binding domain protein ', 'small GTP-binding domain protein ', 'small GTP-binding domain protein ', 'small GTP-binding domain protein ', 'small GTP-binding domain protein ', 'small GTP-binding domain protein ', 'small GTP-binding domain protein ', 'small GTP-binding domain protein ', 'small GTP-binding domain protein ', 'small GTP-binding domain protein ', 'small GTP-binding domain protein ', 'small GTP-binding domain protein ', 'small GTP-binding domain protein ', 'small GTP-binding domain protein ', 'small GTP-binding domain protein ', 'small GTP-binding domain protein ', 'small GTP-binding domain protein ', 'small GTP-binding domain protein ', 'small GTP-binding domain protein ', 'small GTP-binding domain protein ', 'small GTP-binding domain protein ', 'small GTP-binding domain protein ', 'small GTP-binding domain protein ', 'small GTP-binding domain protein ', 'small GTP-binding domain protein ', 'small GTP-binding domain protein ', 'small GTP-binding domain protein ', 'small GTP-binding domain protein ', 'small GTP-binding domain protein ', 'small GTP-binding domain protein ', 'small GTP-binding domain protein ', 'small GTP-binding domain protein, partial ', 'small GTP-binding domain protein, partial ', 'small GTP-binding domain protein, partial ', 'small GTP-binding domain protein, partial ', 'small GTP-binding domain protein, partial ', 'small GTP-binding protein ', 'small GTP-binding protein ', 'small GTP-binding protein ', 'small GTP-binding protein ', 'small GTP-binding protein ', 'small GTP-binding protein ', 'small GTP-binding protein ', 'small GTP-binding protein ', 'small GTP-binding protein ', 'small GTP-binding protein ', 'small GTP-binding protein ', 'small GTP-binding protein ', 'small GTP-binding protein ', 'small GTP-binding protein ', 'small GTP-binding protein ', 'small GTP-binding protein ', 'small GTP-binding protein ', 'small GTP-binding protein ', 'small GTP-binding protein ', 'small GTP-binding protein ', 'small GTP-binding protein ', 'small GTP-binding protein ', 'small GTP-binding protein ', 'small GTP-binding protein ', 'small GTP-binding protein ', 'small GTP-binding protein ', 'small GTP-binding protein ', 'small GTP-binding protein ', 'small GTP-binding protein ', 'small GTP-binding protein ', 'small GTP-binding protein ', 'small GTP-binding protein ', 'small GTP-binding protein ', 'small GTP-binding protein ', 'small GTP-binding protein domain-containing protein ', 'small GTP-binding protein domain-containing protein ', 'small GTP-binding protein domain-containing protein, Ras family ']\n"
     ]
    }
   ],
   "source": [
    "print(list(df.protein))"
   ]
  },
  {
   "cell_type": "code",
   "execution_count": 176,
   "metadata": {},
   "outputs": [
    {
     "name": "stdout",
     "output_type": "stream",
     "text": [
      "Sequence format is Pearson\n",
      "Sequence 1: EHP69493.1   250 aa\n",
      "Sequence 2: KKK44869.1   250 aa\n",
      "Sequence 3: KON33356.1   250 aa\n",
      "Sequence 4: KXH71619.1   250 aa\n",
      "Sequence 5: KXH76417.1   250 aa\n",
      "Sequence 6: MBS85711.1   250 aa\n",
      "Sequence 7: OLS13299.1   250 aa\n",
      "Sequence 8: OLS31600.1   250 aa\n",
      "Sequence 9: PIU60182.1   250 aa\n",
      "Sequence format is Pearson\n",
      "Sequences assumed to be PROTEIN\n"
     ]
    }
   ],
   "source": [
    "ogindexfasta=str(ogindex)+\".fasta\"\n",
    "!mafft --genafpair --quiet --maxiterate 10000 OGfastas/orthogroup$ogindexfasta > OGfastas/aligned$ogindexfasta\n",
    "!clustalx OGfastas/aligned$ogindexfasta"
   ]
  },
  {
   "cell_type": "code",
   "execution_count": 65,
   "metadata": {
    "collapsed": true
   },
   "outputs": [],
   "source": [
    "d={}\n",
    "# These orthogroups have exactly one sequence from each organism\n",
    "# and their alignments look good.\n",
    "# To reconstrunct the species tree, we concatenate them:\n",
    "bestogs=[390,403,416,417,418,421] \n",
    "for best in bestogs:\n",
    "    for seqid in orthogroups[best]:\n",
    "        seqs=SeqIO.parse(\"alltaxa.fasta\",\"fasta\")\n",
    "        for s in seqs:\n",
    "            if s.id==seqid:\n",
    "                species=s.description.split(\"[\")[-1]\n",
    "                try: d[species]+=str(s.seq)\n",
    "                except KeyError:\n",
    "                    d[species]=str(s.seq)"
   ]
  },
  {
   "cell_type": "code",
   "execution_count": 70,
   "metadata": {
    "collapsed": true
   },
   "outputs": [],
   "source": [
    "names={'Candidatus Bathyarchaeota archaeon CG07_land_8_20_14_0_80_47_9]': 'C.Bathy-O',\n",
    " 'Candidatus Heimdallarchaeota archaeon]': 'Heimdal-I',\n",
    " 'Candidatus Lokiarchaeota archaeon CR_4]': 'C.-Loki-I',\n",
    " 'Candidatus Odinarchaeota archaeon LCB_4]': 'C.-Odin-I',\n",
    " 'Candidatus Thorarchaeota archaeon AB_25]': 'ThorAB2-I',\n",
    " 'Candidatus Thorarchaeota archaeon SMTZ-45]': 'ThorSMT-I',\n",
    " 'Lokiarchaeum sp. GC14_75]': 'Lokiarc-I',\n",
    " 'Metallosphaera yellowstonensis MK1]': 'Metallo-O',\n",
    " 'miscellaneous Crenarchaeota group-6 archaeon AD8-1]': 'Crenarc-O'}"
   ]
  },
  {
   "cell_type": "markdown",
   "metadata": {},
   "source": [
    "### To reconstruct the species tree, 6 orthogroups that had exactly one protein from each species were chosen, based on how the alignment looked. A moderate alignment quality was preferred, excluding highly conserved orthogroups and orthogroups that had very little sequence similarity. The proteins were added in a parallel multifasta, where the sequence corresponding to each species was obtained by concatenating its 6 proteins from the orthogroups."
   ]
  },
  {
   "cell_type": "code",
   "execution_count": 446,
   "metadata": {
    "scrolled": true
   },
   "outputs": [
    {
     "name": "stdout",
     "output_type": "stream",
     "text": [
      "9 proteins from 9 species in orthogroup number 390\n",
      "9 proteins from 9 species in orthogroup number 403\n",
      "9 proteins from 9 species in orthogroup number 416\n",
      "9 proteins from 9 species in orthogroup number 417\n",
      "9 proteins from 9 species in orthogroup number 418\n",
      "9 proteins from 9 species in orthogroup number 421\n"
     ]
    }
   ],
   "source": [
    "allogs=pd.concat([parse(i) for i in [390,403,416,417,418,421]])"
   ]
  },
  {
   "cell_type": "code",
   "execution_count": 447,
   "metadata": {
    "scrolled": true
   },
   "outputs": [
    {
     "data": {
      "text/html": [
       "<div>\n",
       "<style>\n",
       "    .dataframe thead tr:only-child th {\n",
       "        text-align: right;\n",
       "    }\n",
       "\n",
       "    .dataframe thead th {\n",
       "        text-align: left;\n",
       "    }\n",
       "\n",
       "    .dataframe tbody tr th {\n",
       "        vertical-align: top;\n",
       "    }\n",
       "</style>\n",
       "<table border=\"1\" class=\"dataframe\">\n",
       "  <thead>\n",
       "    <tr style=\"text-align: left;\">\n",
       "      <th></th>\n",
       "      <th>id</th>\n",
       "      <th>protein</th>\n",
       "      <th>species</th>\n",
       "      <th>Orthogroup</th>\n",
       "    </tr>\n",
       "  </thead>\n",
       "  <tbody>\n",
       "    <tr>\n",
       "      <th>3</th>\n",
       "      <td>KXH69916.1</td>\n",
       "      <td>50S ribosomal protein L24</td>\n",
       "      <td>Candidatus Thorarchaeota archaeon SMTZ-45</td>\n",
       "      <td>390</td>\n",
       "    </tr>\n",
       "    <tr>\n",
       "      <th>2</th>\n",
       "      <td>KON34383.1</td>\n",
       "      <td>50S ribosomal protein L24</td>\n",
       "      <td>miscellaneous Crenarchaeota group-6 archaeon AD8-1</td>\n",
       "      <td>390</td>\n",
       "    </tr>\n",
       "    <tr>\n",
       "      <th>8</th>\n",
       "      <td>PIU60241.1</td>\n",
       "      <td>50S ribosomal protein L24e</td>\n",
       "      <td>Candidatus Bathyarchaeota archaeon CG07_land_8_20_14_0_80_47_9</td>\n",
       "      <td>390</td>\n",
       "    </tr>\n",
       "    <tr>\n",
       "      <th>4</th>\n",
       "      <td>MBS85940.1</td>\n",
       "      <td>50S ribosomal protein L24e</td>\n",
       "      <td>Candidatus Heimdallarchaeota archaeon</td>\n",
       "      <td>390</td>\n",
       "    </tr>\n",
       "    <tr>\n",
       "      <th>6</th>\n",
       "      <td>OLS17879.1</td>\n",
       "      <td>50S ribosomal protein L24e</td>\n",
       "      <td>Candidatus Odinarchaeota archaeon LCB_4</td>\n",
       "      <td>390</td>\n",
       "    </tr>\n",
       "    <tr>\n",
       "      <th>7</th>\n",
       "      <td>OLS26623.1</td>\n",
       "      <td>50S ribosomal protein L24e</td>\n",
       "      <td>Candidatus Thorarchaeota archaeon AB_25</td>\n",
       "      <td>390</td>\n",
       "    </tr>\n",
       "    <tr>\n",
       "      <th>1</th>\n",
       "      <td>KKK45846.1</td>\n",
       "      <td>50S ribosomal protein L24e</td>\n",
       "      <td>Lokiarchaeum sp. GC14_75</td>\n",
       "      <td>390</td>\n",
       "    </tr>\n",
       "    <tr>\n",
       "      <th>5</th>\n",
       "      <td>OLS13407.1</td>\n",
       "      <td>large subunit ribosomal protein L24e</td>\n",
       "      <td>Candidatus Lokiarchaeota archaeon CR_4</td>\n",
       "      <td>390</td>\n",
       "    </tr>\n",
       "    <tr>\n",
       "      <th>0</th>\n",
       "      <td>EHP69532.1</td>\n",
       "      <td>ribosomal protein L24E</td>\n",
       "      <td>Metallosphaera yellowstonensis MK1</td>\n",
       "      <td>390</td>\n",
       "    </tr>\n",
       "    <tr>\n",
       "      <th>8</th>\n",
       "      <td>PIU60057.1</td>\n",
       "      <td>30S ribosomal protein S11</td>\n",
       "      <td>Candidatus Bathyarchaeota archaeon CG07_land_8_20_14_0_80_47_9</td>\n",
       "      <td>403</td>\n",
       "    </tr>\n",
       "    <tr>\n",
       "      <th>4</th>\n",
       "      <td>MBS86094.1</td>\n",
       "      <td>30S ribosomal protein S11</td>\n",
       "      <td>Candidatus Heimdallarchaeota archaeon</td>\n",
       "      <td>403</td>\n",
       "    </tr>\n",
       "    <tr>\n",
       "      <th>5</th>\n",
       "      <td>OLS16341.1</td>\n",
       "      <td>30S ribosomal protein S11</td>\n",
       "      <td>Candidatus Lokiarchaeota archaeon CR_4</td>\n",
       "      <td>403</td>\n",
       "    </tr>\n",
       "    <tr>\n",
       "      <th>6</th>\n",
       "      <td>OLS18064.1</td>\n",
       "      <td>30S ribosomal protein S11</td>\n",
       "      <td>Candidatus Odinarchaeota archaeon LCB_4</td>\n",
       "      <td>403</td>\n",
       "    </tr>\n",
       "    <tr>\n",
       "      <th>7</th>\n",
       "      <td>OLS25690.1</td>\n",
       "      <td>30S ribosomal protein S11</td>\n",
       "      <td>Candidatus Thorarchaeota archaeon AB_25</td>\n",
       "      <td>403</td>\n",
       "    </tr>\n",
       "    <tr>\n",
       "      <th>3</th>\n",
       "      <td>KXH71516.1</td>\n",
       "      <td>30S ribosomal protein S11</td>\n",
       "      <td>Candidatus Thorarchaeota archaeon SMTZ-45</td>\n",
       "      <td>403</td>\n",
       "    </tr>\n",
       "    <tr>\n",
       "      <th>1</th>\n",
       "      <td>KKK45074.1</td>\n",
       "      <td>30S ribosomal protein S11</td>\n",
       "      <td>Lokiarchaeum sp. GC14_75</td>\n",
       "      <td>403</td>\n",
       "    </tr>\n",
       "    <tr>\n",
       "      <th>2</th>\n",
       "      <td>KON34301.1</td>\n",
       "      <td>30S ribosomal protein S11</td>\n",
       "      <td>miscellaneous Crenarchaeota group-6 archaeon AD8-1</td>\n",
       "      <td>403</td>\n",
       "    </tr>\n",
       "    <tr>\n",
       "      <th>0</th>\n",
       "      <td>EHP68550.1</td>\n",
       "      <td>archaeal ribosomal protein S11P</td>\n",
       "      <td>Metallosphaera yellowstonensis MK1</td>\n",
       "      <td>403</td>\n",
       "    </tr>\n",
       "    <tr>\n",
       "      <th>6</th>\n",
       "      <td>OLS17448.1</td>\n",
       "      <td>Peptide chain release factor subunit 1</td>\n",
       "      <td>Candidatus Odinarchaeota archaeon LCB_4</td>\n",
       "      <td>416</td>\n",
       "    </tr>\n",
       "    <tr>\n",
       "      <th>7</th>\n",
       "      <td>OLS30605.1</td>\n",
       "      <td>Peptide chain release factor subunit 1</td>\n",
       "      <td>Candidatus Thorarchaeota archaeon AB_25</td>\n",
       "      <td>416</td>\n",
       "    </tr>\n",
       "    <tr>\n",
       "      <th>5</th>\n",
       "      <td>OLS12933.1</td>\n",
       "      <td>Translation factor, cell division protein pelota-like protein (pelA)</td>\n",
       "      <td>Candidatus Lokiarchaeota archaeon CR_4</td>\n",
       "      <td>416</td>\n",
       "    </tr>\n",
       "    <tr>\n",
       "      <th>2</th>\n",
       "      <td>KON33997.1</td>\n",
       "      <td>hypothetical protein AC479_02350</td>\n",
       "      <td>miscellaneous Crenarchaeota group-6 archaeon AD8-1</td>\n",
       "      <td>416</td>\n",
       "    </tr>\n",
       "    <tr>\n",
       "      <th>3</th>\n",
       "      <td>KXH76081.1</td>\n",
       "      <td>hypothetical protein AM326_07810</td>\n",
       "      <td>Candidatus Thorarchaeota archaeon SMTZ-45</td>\n",
       "      <td>416</td>\n",
       "    </tr>\n",
       "    <tr>\n",
       "      <th>8</th>\n",
       "      <td>PIU59890.1</td>\n",
       "      <td>mRNA surveillance protein pelota</td>\n",
       "      <td>Candidatus Bathyarchaeota archaeon CG07_land_8_20_14_0_80_47_9</td>\n",
       "      <td>416</td>\n",
       "    </tr>\n",
       "    <tr>\n",
       "      <th>4</th>\n",
       "      <td>MBS85094.1</td>\n",
       "      <td>mRNA surveillance protein pelota</td>\n",
       "      <td>Candidatus Heimdallarchaeota archaeon</td>\n",
       "      <td>416</td>\n",
       "    </tr>\n",
       "    <tr>\n",
       "      <th>1</th>\n",
       "      <td>KKK45169.1</td>\n",
       "      <td>peptide chain release factor 1</td>\n",
       "      <td>Lokiarchaeum sp. GC14_75</td>\n",
       "      <td>416</td>\n",
       "    </tr>\n",
       "    <tr>\n",
       "      <th>0</th>\n",
       "      <td>EHP68540.1</td>\n",
       "      <td>putative translation factor pelota</td>\n",
       "      <td>Metallosphaera yellowstonensis MK1</td>\n",
       "      <td>416</td>\n",
       "    </tr>\n",
       "    <tr>\n",
       "      <th>0</th>\n",
       "      <td>EHP68543.1</td>\n",
       "      <td>DNA primase</td>\n",
       "      <td>Metallosphaera yellowstonensis MK1</td>\n",
       "      <td>417</td>\n",
       "    </tr>\n",
       "    <tr>\n",
       "      <th>6</th>\n",
       "      <td>OLS17399.1</td>\n",
       "      <td>DNA primase DnaG</td>\n",
       "      <td>Candidatus Odinarchaeota archaeon LCB_4</td>\n",
       "      <td>417</td>\n",
       "    </tr>\n",
       "    <tr>\n",
       "      <th>7</th>\n",
       "      <td>OLS30602.1</td>\n",
       "      <td>DNA primase DnaG</td>\n",
       "      <td>Candidatus Thorarchaeota archaeon AB_25</td>\n",
       "      <td>417</td>\n",
       "    </tr>\n",
       "    <tr>\n",
       "      <th>1</th>\n",
       "      <td>KKK44957.1</td>\n",
       "      <td>DNA primase DnaG</td>\n",
       "      <td>Lokiarchaeum sp. GC14_75</td>\n",
       "      <td>417</td>\n",
       "    </tr>\n",
       "    <tr>\n",
       "      <th>2</th>\n",
       "      <td>KON33609.1</td>\n",
       "      <td>hypothetical protein AC479_03800</td>\n",
       "      <td>miscellaneous Crenarchaeota group-6 archaeon AD8-1</td>\n",
       "      <td>417</td>\n",
       "    </tr>\n",
       "    <tr>\n",
       "      <th>3</th>\n",
       "      <td>KXH76079.1</td>\n",
       "      <td>hypothetical protein AM326_07800</td>\n",
       "      <td>Candidatus Thorarchaeota archaeon SMTZ-45</td>\n",
       "      <td>417</td>\n",
       "    </tr>\n",
       "    <tr>\n",
       "      <th>4</th>\n",
       "      <td>MBS86143.1</td>\n",
       "      <td>hypothetical protein CME83_06300</td>\n",
       "      <td>Candidatus Heimdallarchaeota archaeon</td>\n",
       "      <td>417</td>\n",
       "    </tr>\n",
       "    <tr>\n",
       "      <th>8</th>\n",
       "      <td>PIU59888.1</td>\n",
       "      <td>hypothetical protein COS86_01845</td>\n",
       "      <td>Candidatus Bathyarchaeota archaeon CG07_land_8_20_14_0_80_47_9</td>\n",
       "      <td>417</td>\n",
       "    </tr>\n",
       "    <tr>\n",
       "      <th>5</th>\n",
       "      <td>OLS13592.1</td>\n",
       "      <td>hypothetical protein RBG13Loki_2793</td>\n",
       "      <td>Candidatus Lokiarchaeota archaeon CR_4</td>\n",
       "      <td>417</td>\n",
       "    </tr>\n",
       "    <tr>\n",
       "      <th>6</th>\n",
       "      <td>OLS17826.1</td>\n",
       "      <td>Signal recognition particle 54 kDa protein</td>\n",
       "      <td>Candidatus Odinarchaeota archaeon LCB_4</td>\n",
       "      <td>418</td>\n",
       "    </tr>\n",
       "    <tr>\n",
       "      <th>7</th>\n",
       "      <td>OLS31421.1</td>\n",
       "      <td>Signal recognition particle 54 kDa protein</td>\n",
       "      <td>Candidatus Thorarchaeota archaeon AB_25</td>\n",
       "      <td>418</td>\n",
       "    </tr>\n",
       "    <tr>\n",
       "      <th>1</th>\n",
       "      <td>KKK40885.1</td>\n",
       "      <td>Signal recognition particle 54 kDa protein</td>\n",
       "      <td>Lokiarchaeum sp. GC14_75</td>\n",
       "      <td>418</td>\n",
       "    </tr>\n",
       "    <tr>\n",
       "      <th>3</th>\n",
       "      <td>KXH76025.1</td>\n",
       "      <td>signal recognition particle</td>\n",
       "      <td>Candidatus Thorarchaeota archaeon SMTZ-45</td>\n",
       "      <td>418</td>\n",
       "    </tr>\n",
       "    <tr>\n",
       "      <th>2</th>\n",
       "      <td>KON34471.1</td>\n",
       "      <td>signal recognition particle</td>\n",
       "      <td>miscellaneous Crenarchaeota group-6 archaeon AD8-1</td>\n",
       "      <td>418</td>\n",
       "    </tr>\n",
       "    <tr>\n",
       "      <th>0</th>\n",
       "      <td>EHP68476.1</td>\n",
       "      <td>signal recognition particle GTPase</td>\n",
       "      <td>Metallosphaera yellowstonensis MK1</td>\n",
       "      <td>418</td>\n",
       "    </tr>\n",
       "    <tr>\n",
       "      <th>8</th>\n",
       "      <td>PIU59873.1</td>\n",
       "      <td>signal recognition particle protein</td>\n",
       "      <td>Candidatus Bathyarchaeota archaeon CG07_land_8_20_14_0_80_47_9</td>\n",
       "      <td>418</td>\n",
       "    </tr>\n",
       "    <tr>\n",
       "      <th>4</th>\n",
       "      <td>MBS86080.1</td>\n",
       "      <td>signal recognition particle protein</td>\n",
       "      <td>Candidatus Heimdallarchaeota archaeon</td>\n",
       "      <td>418</td>\n",
       "    </tr>\n",
       "    <tr>\n",
       "      <th>5</th>\n",
       "      <td>OLS15853.1</td>\n",
       "      <td>signal recognition particle protein Srp54</td>\n",
       "      <td>Candidatus Lokiarchaeota archaeon CR_4</td>\n",
       "      <td>418</td>\n",
       "    </tr>\n",
       "    <tr>\n",
       "      <th>6</th>\n",
       "      <td>OLS18109.1</td>\n",
       "      <td>Ribonuclease HII</td>\n",
       "      <td>Candidatus Odinarchaeota archaeon LCB_4</td>\n",
       "      <td>421</td>\n",
       "    </tr>\n",
       "    <tr>\n",
       "      <th>7</th>\n",
       "      <td>OLS28493.1</td>\n",
       "      <td>Ribonuclease HII</td>\n",
       "      <td>Candidatus Thorarchaeota archaeon AB_25</td>\n",
       "      <td>421</td>\n",
       "    </tr>\n",
       "    <tr>\n",
       "      <th>1</th>\n",
       "      <td>KKK43184.1</td>\n",
       "      <td>Ribonuclease HII</td>\n",
       "      <td>Lokiarchaeum sp. GC14_75</td>\n",
       "      <td>421</td>\n",
       "    </tr>\n",
       "    <tr>\n",
       "      <th>2</th>\n",
       "      <td>KON33798.1</td>\n",
       "      <td>hypothetical protein AC479_03180</td>\n",
       "      <td>miscellaneous Crenarchaeota group-6 archaeon AD8-1</td>\n",
       "      <td>421</td>\n",
       "    </tr>\n",
       "    <tr>\n",
       "      <th>3</th>\n",
       "      <td>KXH76899.1</td>\n",
       "      <td>hypothetical protein AM326_06250</td>\n",
       "      <td>Candidatus Thorarchaeota archaeon SMTZ-45</td>\n",
       "      <td>421</td>\n",
       "    </tr>\n",
       "    <tr>\n",
       "      <th>5</th>\n",
       "      <td>OLS15293.1</td>\n",
       "      <td>ribonuclease H, mammalian HI/archaeal HII subfamily</td>\n",
       "      <td>Candidatus Lokiarchaeota archaeon CR_4</td>\n",
       "      <td>421</td>\n",
       "    </tr>\n",
       "    <tr>\n",
       "      <th>0</th>\n",
       "      <td>EHP70663.1</td>\n",
       "      <td>ribonuclease H, mammalian HI/archaeal HII subfamily</td>\n",
       "      <td>Metallosphaera yellowstonensis MK1</td>\n",
       "      <td>421</td>\n",
       "    </tr>\n",
       "    <tr>\n",
       "      <th>8</th>\n",
       "      <td>PIU59804.1</td>\n",
       "      <td>ribonuclease HII</td>\n",
       "      <td>Candidatus Bathyarchaeota archaeon CG07_land_8_20_14_0_80_47_9</td>\n",
       "      <td>421</td>\n",
       "    </tr>\n",
       "    <tr>\n",
       "      <th>4</th>\n",
       "      <td>MBS86259.1</td>\n",
       "      <td>ribonuclease HII</td>\n",
       "      <td>Candidatus Heimdallarchaeota archaeon</td>\n",
       "      <td>421</td>\n",
       "    </tr>\n",
       "  </tbody>\n",
       "</table>\n",
       "</div>"
      ],
      "text/plain": [
       "  id            \\\n",
       "3  KXH69916.1    \n",
       "2  KON34383.1    \n",
       "8  PIU60241.1    \n",
       "4  MBS85940.1    \n",
       "6  OLS17879.1    \n",
       "7  OLS26623.1    \n",
       "1  KKK45846.1    \n",
       "5  OLS13407.1    \n",
       "0  EHP69532.1    \n",
       "8  PIU60057.1    \n",
       "4  MBS86094.1    \n",
       "5  OLS16341.1    \n",
       "6  OLS18064.1    \n",
       "7  OLS25690.1    \n",
       "3  KXH71516.1    \n",
       "1  KKK45074.1    \n",
       "2  KON34301.1    \n",
       "0  EHP68550.1    \n",
       "6  OLS17448.1    \n",
       "7  OLS30605.1    \n",
       "5  OLS12933.1    \n",
       "2  KON33997.1    \n",
       "3  KXH76081.1    \n",
       "8  PIU59890.1    \n",
       "4  MBS85094.1    \n",
       "1  KKK45169.1    \n",
       "0  EHP68540.1    \n",
       "0  EHP68543.1    \n",
       "6  OLS17399.1    \n",
       "7  OLS30602.1    \n",
       "1  KKK44957.1    \n",
       "2  KON33609.1    \n",
       "3  KXH76079.1    \n",
       "4  MBS86143.1    \n",
       "8  PIU59888.1    \n",
       "5  OLS13592.1    \n",
       "6  OLS17826.1    \n",
       "7  OLS31421.1    \n",
       "1  KKK40885.1    \n",
       "3  KXH76025.1    \n",
       "2  KON34471.1    \n",
       "0  EHP68476.1    \n",
       "8  PIU59873.1    \n",
       "4  MBS86080.1    \n",
       "5  OLS15853.1    \n",
       "6  OLS18109.1    \n",
       "7  OLS28493.1    \n",
       "1  KKK43184.1    \n",
       "2  KON33798.1    \n",
       "3  KXH76899.1    \n",
       "5  OLS15293.1    \n",
       "0  EHP70663.1    \n",
       "8  PIU59804.1    \n",
       "4  MBS86259.1    \n",
       "\n",
       "  protein                                                                 \\\n",
       "3  50S ribosomal protein L24                                               \n",
       "2  50S ribosomal protein L24                                               \n",
       "8  50S ribosomal protein L24e                                              \n",
       "4  50S ribosomal protein L24e                                              \n",
       "6  50S ribosomal protein L24e                                              \n",
       "7  50S ribosomal protein L24e                                              \n",
       "1  50S ribosomal protein L24e                                              \n",
       "5  large subunit ribosomal protein L24e                                    \n",
       "0  ribosomal protein L24E                                                  \n",
       "8  30S ribosomal protein S11                                               \n",
       "4  30S ribosomal protein S11                                               \n",
       "5  30S ribosomal protein S11                                               \n",
       "6  30S ribosomal protein S11                                               \n",
       "7  30S ribosomal protein S11                                               \n",
       "3  30S ribosomal protein S11                                               \n",
       "1  30S ribosomal protein S11                                               \n",
       "2  30S ribosomal protein S11                                               \n",
       "0  archaeal ribosomal protein S11P                                         \n",
       "6  Peptide chain release factor subunit 1                                  \n",
       "7  Peptide chain release factor subunit 1                                  \n",
       "5  Translation factor, cell division protein pelota-like protein (pelA)    \n",
       "2  hypothetical protein AC479_02350                                        \n",
       "3  hypothetical protein AM326_07810                                        \n",
       "8  mRNA surveillance protein pelota                                        \n",
       "4  mRNA surveillance protein pelota                                        \n",
       "1  peptide chain release factor 1                                          \n",
       "0  putative translation factor pelota                                      \n",
       "0  DNA primase                                                             \n",
       "6  DNA primase DnaG                                                        \n",
       "7  DNA primase DnaG                                                        \n",
       "1  DNA primase DnaG                                                        \n",
       "2  hypothetical protein AC479_03800                                        \n",
       "3  hypothetical protein AM326_07800                                        \n",
       "4  hypothetical protein CME83_06300                                        \n",
       "8  hypothetical protein COS86_01845                                        \n",
       "5  hypothetical protein RBG13Loki_2793                                     \n",
       "6  Signal recognition particle 54 kDa protein                              \n",
       "7  Signal recognition particle 54 kDa protein                              \n",
       "1  Signal recognition particle 54 kDa protein                              \n",
       "3  signal recognition particle                                             \n",
       "2  signal recognition particle                                             \n",
       "0  signal recognition particle GTPase                                      \n",
       "8  signal recognition particle protein                                     \n",
       "4  signal recognition particle protein                                     \n",
       "5  signal recognition particle protein Srp54                               \n",
       "6  Ribonuclease HII                                                        \n",
       "7  Ribonuclease HII                                                        \n",
       "1  Ribonuclease HII                                                        \n",
       "2  hypothetical protein AC479_03180                                        \n",
       "3  hypothetical protein AM326_06250                                        \n",
       "5  ribonuclease H, mammalian HI/archaeal HII subfamily                     \n",
       "0  ribonuclease H, mammalian HI/archaeal HII subfamily                     \n",
       "8  ribonuclease HII                                                        \n",
       "4  ribonuclease HII                                                        \n",
       "\n",
       "  species                                                          Orthogroup  \n",
       "3  Candidatus Thorarchaeota archaeon SMTZ-45                       390         \n",
       "2  miscellaneous Crenarchaeota group-6 archaeon AD8-1              390         \n",
       "8  Candidatus Bathyarchaeota archaeon CG07_land_8_20_14_0_80_47_9  390         \n",
       "4  Candidatus Heimdallarchaeota archaeon                           390         \n",
       "6  Candidatus Odinarchaeota archaeon LCB_4                         390         \n",
       "7  Candidatus Thorarchaeota archaeon AB_25                         390         \n",
       "1  Lokiarchaeum sp. GC14_75                                        390         \n",
       "5  Candidatus Lokiarchaeota archaeon CR_4                          390         \n",
       "0  Metallosphaera yellowstonensis MK1                              390         \n",
       "8  Candidatus Bathyarchaeota archaeon CG07_land_8_20_14_0_80_47_9  403         \n",
       "4  Candidatus Heimdallarchaeota archaeon                           403         \n",
       "5  Candidatus Lokiarchaeota archaeon CR_4                          403         \n",
       "6  Candidatus Odinarchaeota archaeon LCB_4                         403         \n",
       "7  Candidatus Thorarchaeota archaeon AB_25                         403         \n",
       "3  Candidatus Thorarchaeota archaeon SMTZ-45                       403         \n",
       "1  Lokiarchaeum sp. GC14_75                                        403         \n",
       "2  miscellaneous Crenarchaeota group-6 archaeon AD8-1              403         \n",
       "0  Metallosphaera yellowstonensis MK1                              403         \n",
       "6  Candidatus Odinarchaeota archaeon LCB_4                         416         \n",
       "7  Candidatus Thorarchaeota archaeon AB_25                         416         \n",
       "5  Candidatus Lokiarchaeota archaeon CR_4                          416         \n",
       "2  miscellaneous Crenarchaeota group-6 archaeon AD8-1              416         \n",
       "3  Candidatus Thorarchaeota archaeon SMTZ-45                       416         \n",
       "8  Candidatus Bathyarchaeota archaeon CG07_land_8_20_14_0_80_47_9  416         \n",
       "4  Candidatus Heimdallarchaeota archaeon                           416         \n",
       "1  Lokiarchaeum sp. GC14_75                                        416         \n",
       "0  Metallosphaera yellowstonensis MK1                              416         \n",
       "0  Metallosphaera yellowstonensis MK1                              417         \n",
       "6  Candidatus Odinarchaeota archaeon LCB_4                         417         \n",
       "7  Candidatus Thorarchaeota archaeon AB_25                         417         \n",
       "1  Lokiarchaeum sp. GC14_75                                        417         \n",
       "2  miscellaneous Crenarchaeota group-6 archaeon AD8-1              417         \n",
       "3  Candidatus Thorarchaeota archaeon SMTZ-45                       417         \n",
       "4  Candidatus Heimdallarchaeota archaeon                           417         \n",
       "8  Candidatus Bathyarchaeota archaeon CG07_land_8_20_14_0_80_47_9  417         \n",
       "5  Candidatus Lokiarchaeota archaeon CR_4                          417         \n",
       "6  Candidatus Odinarchaeota archaeon LCB_4                         418         \n",
       "7  Candidatus Thorarchaeota archaeon AB_25                         418         \n",
       "1  Lokiarchaeum sp. GC14_75                                        418         \n",
       "3  Candidatus Thorarchaeota archaeon SMTZ-45                       418         \n",
       "2  miscellaneous Crenarchaeota group-6 archaeon AD8-1              418         \n",
       "0  Metallosphaera yellowstonensis MK1                              418         \n",
       "8  Candidatus Bathyarchaeota archaeon CG07_land_8_20_14_0_80_47_9  418         \n",
       "4  Candidatus Heimdallarchaeota archaeon                           418         \n",
       "5  Candidatus Lokiarchaeota archaeon CR_4                          418         \n",
       "6  Candidatus Odinarchaeota archaeon LCB_4                         421         \n",
       "7  Candidatus Thorarchaeota archaeon AB_25                         421         \n",
       "1  Lokiarchaeum sp. GC14_75                                        421         \n",
       "2  miscellaneous Crenarchaeota group-6 archaeon AD8-1              421         \n",
       "3  Candidatus Thorarchaeota archaeon SMTZ-45                       421         \n",
       "5  Candidatus Lokiarchaeota archaeon CR_4                          421         \n",
       "0  Metallosphaera yellowstonensis MK1                              421         \n",
       "8  Candidatus Bathyarchaeota archaeon CG07_land_8_20_14_0_80_47_9  421         \n",
       "4  Candidatus Heimdallarchaeota archaeon                           421         "
      ]
     },
     "execution_count": 447,
     "metadata": {},
     "output_type": "execute_result"
    }
   ],
   "source": [
    "allogs"
   ]
  },
  {
   "cell_type": "code",
   "execution_count": 251,
   "metadata": {},
   "outputs": [
    {
     "name": "stdout",
     "output_type": "stream",
     "text": [
      ">Metallo-O\r\n",
      "MVSSHRCSFCGTEIPPGTGMMYVKNDGTILWFCSSKCRKYMLIQRKDAKRLKWTEAYSRVRMSSRREIRWGLARIYASQNNTIITITDITGAEIISRASGGMVVKADREKPSPYAAMLAAGRAASEALDKGLMAIHIKVRAPGGAGPKTPGPGAQPAIRSLARSGFIIGRIEDVTPIPHDTIRRPGGRRGRRVMRVLEYDERRNYLRLYVEDEDDLWLLHTILTKGDVVIARTTRDVSMGNESRRIPMTIQLRVEFTEFQSYTGRLRIHGIVEDAPEKFGIKGSHHTINLDLGEEIVIVKPWTKAQLERIEREARKRSKNMIVLVDQDELLIAIPMEQGIKILVERALQGINEQTESLEDVAKDVAEEITQFANQYQPEALILAGPGPFKEIVKDMLRVKARIYVDSVSTASRAGLAEILKRDIIDQVMRDYSISKSTKQLERALGLMARDSGLVVYGLEETREASTYGAVETLLVSEDLITDDEKRSVIEEVMNLVESKGGNVMIVPKDSPVYHQLKALSGIIGILRFRYKMTSLKYVIKLTFEVEGSVDKPDVIGAIFGQTENLFGQEFDLRELQDKGRLGRIVVEMKTKGGKSEGYIEIPSNLDKVETALIASMVESVEKVGPYNAKFVLKEIEDVRAEKLKKIIERAKEILATWTREKNLDIKEVMNEISGAVKTGELIEFGPDRLPAGPDVYSDPNLIIVEGRADIINLLRYGYRNTVAVEGASGKIQQSVVDLAKTKKTVIAFLDGDHGGDLILKELLNSNVKIDYVARAPVGREVEELTGKEIAKALSNMIPLTQYLKKQQEVLASPQRMEEAQSQQAVQLVEQPKKEIEIQIPQAAIEEIKKLPGTLEGIIFDENWRPVEKVQVRDIISKLENMSNGNVSFIVFDGVITQRLLELASSKNVKMIVGVRIGGINKKPENVKILTLSDVIGLMLEGIRDAVRKFLGGTTSYDVAVDEFIKDLQKALISSDVQVKLVFSLTNKIKERLKKESPPTSLERREWFIKIVYDELSSLFGGDKEPEVNPGSLPYVIMLVGVQGTGKTTTAGKLAYFYKKRGYKVALVGADVYRPAALEQLMQLGKQIGVPVYGEPGEKDAVGIAKRGVEKLLSEKYELIIVDTAGRHGYGEEAKLLEEMKEIYESVKPNEVILVIDASLGQKAYDLAKRFHEASKVGSIIITKMDGTAKGGGALSAVVATGAPIKFIGTGEKIDELEVFNPKRFVARVLGMGDVEAIIEKIKAVEDYEGIQKKMQEVTSGKSRLTLRDLYKQIIAMRKMGPLSKILQLMPGINLMGDIPEDQIKVGEKKMQRWLAIMNSMTYEELDNPSLLDKQRMKRIAMGSGTEVEEVKELIEHFNTIQRTLKVLKRRKKDVERLLGQLGGTMRLGIDEAGRGCLIGPMVVAGVVLSEKGMGRLRAVGVKDSKKLTRKRREELFHLILEESEAVAIAKALPDEIDTNNLNELTYRKVLEVMRALSAFPIDTVTVDRVGKEVEVIEEIYRLGLRPNVVYHADENFLEASAASIVAKVVRDRIVLELREQYGDFGSGYPSDPKTRKWVERLAKEGKPPPTIIRRTWKLLQKSAPQYYLEKVVSLGN\r\n",
      ">Lokiarc-I\r\n",
      "MVKVKKCSFCGWDIPIGRGMMYIKKDGTIFNFCTKKCRKALIVYKKKARKTRWTAHYGKEMSEKQKWAIVHIFSSYNNTIVTATDLSGAETLAKCTAGMVVKASRDESSPYAAMQCGFRTANDLRDKGIRGIHIKVRAPGGNKSQTPGPGAQACIRALARSGLQVGRIEEVTPKSHDHCRRKGGHRGRRVMKIIEINRKQEEITVKIESLNDLWSLYNIISIGDIVSARTQRRVVFKEGTKGERKQMKLKLKVENVTFHEFSNRLRVKGKILEGPEDFVSFGTYHTFNLEVLQKVTIFKEKWLNSEIKRIKYASKFESNYKMMIVAIETGLATIALITNFSHQRIATIKNHIPGKRYKQTYRNKALNDFYESIMKVLEENLKEFEINLIIFSGPGNSKNVFEEYFKKKYIKSGLTTKIRLCQASSGTESAIIETLKSKELAKLKKDVKILQEADMIEKIMTQFAEDADLIVIGMDEVSNASEKGAIKQLLIADVMIRGTSKDFKLKIEDIITKVENSGGEIYIMSTETLAGEHLVNLGSIVGILHYKFMIKITSQNDFTTKYIIEVKFTIKGVVEKSDIVGAIFGQTEGLLLDLDLRDLQKSGRIGRIEVNNESKEGISEGSIKIPSSLTRKETALLAATVETVSRVGPCEAEIFLVEIRDVRESKRKRIIERAAELLKQWDQKSLEQSEIEEKIDTDIKLGEIITWGPENLPAGPEVEKNPDILIVEGRADVLNLLRIGVKNTIAVQGTHIPKSVIGLVKKKKTISCFLDGDRGGTIILNELMQLVKLDYISRAPDGYEVEELTRKQMVKSLQNKRSVKDYRNHGKRFSKEKAFNQKDGALHKIFKKLKVKNESEIIKAIDGIESSHSIGFNKSVEKLFDIPVGELFEKIREFKDTKYLLIDGILTNRLLSLSLNLKIKFIACKHKEEDLKIPEQLIVYYFMVLEKLGRSLDTAIRRIRRLPLVDKDAINALIQDLQRALLQADVKVELVFEMTENIKKEAMNTKLQKSRRKDFIIKLIHDELIKLLGGKPAPIRIKPGKKNVILLVGIQGSGKTTTIGKLAKYYKSKGYKVAAITTDTWRPGAYEQLVQLTNQIGIKTYGNPNEKNAIKIAVQETKRAINDGNDLIIADTAGRHKEEKELMKEMAILEQKLKPNEICLVIDGTLGQQAFDQAAAFDNTTHLGSIIVTKLDGTAKGGGALSACAATHAGIRFIGVGEKIDDLDEFEPSKFVGSLLGIPDIESLVQKVEEAEIAPDDETVKRMMHGKFTLEDLYVQLASIKKLGKFQKILGMMGGGNIPNALKDDAERNLERWRIVLDSMTHEEKMEPKIIKKTRKRRIAIGSGTDYSVINKMLDQYNQMKKFMKRFLQMQKKGKGVPGMPGLPGGKAGTDFMKKLGKFMNSSSVHDGYPRLVCGIDEAGRGPVIGPMVICGVCFRSSNLEILTDIGVKDSKKLNSKKRRALSEIIKKECLSYKLQIVSVQEIDERADKNITLNRLEELKFANIINDLKPNIIYLDAADVNQERFGNSISKLLNYSTEKIISKHKADDIFPIVSAASIVAKDKRDAIIEELKEIHGDLGSGYPSDRKTIDFLRDWIKNKKEIPYFARKSWETIKKITEEELSNRKITDFF\r\n",
      ">Crenarc-O\r\n",
      "MPKPKKCSFCGNDFPSGKGMIYVKNDGTLLWFCSSKCRKSSLNFKRDSRKFKWTTYFGKEEKGKGMSSKKNEKWGIVHIYSSYNNTIIHITDISGAETIARTSGGMFVKADRMESSPYAAMRAASAAAGIAQDKGITAIHIKVRAPGGSGPRTPGPGAQAAIRAFARFGFRIERIEEVTPVPHDGTRRPGGRRGRRVMKIIEKNLQKNFVKLIPTSEDDFWHLYNVIYRNDEVYAYSSRAIKSDSDYSRPKSGERISAFIGVKVDYVSWDRFLGRLRIHGTICHAPEKIPTGVHHTIVVSLHKPVTIVKETWPKHIIDRLKKATRTEKSIIVVSIDDESFAIAQTKQYGVDIKVEERIRLPGKRNPEHRKKAMTENFKKVLSSIMQIRAASNNSIILLGVGFIKNDFTAFLLKESPQISKAIVDIKSVNNGGSSGIFEALRSGILHKASNKLRIMEETEIIEEIMSRLGKEEKTISYGIDCVQNAAILGAVDKIVIADSLLRESSEINRRKLEHLMKKVEDQKGRIFIISTEHEAGKKLLGLGGIVALLRFSINMEVTITGASQTFTIKYITQAKFEIDGVVEKPDVIGAVFGQTEGLFGPELDLRELQKTGRIGRIEINLQSRNDKTSGTIIIPTSMDRVSTALIAASIESINRVGPCSAKVRLEKIEDIREARRKEIINRAKEILHKWNIESMPSVDQVYKQVSNTMKIGKVGKYGPENLPAGPRLESSNEIYIVEGRADIINLMRCGISNTVAIEGAKIPESIKRLTKEKEATALLDGDRGGDLILKELRQVASIKYVGRAPRGKEIEECNCKEINKAIAEKVPINKQQKSKNSFIKPEIPSEILKVAKELEGTLEAVLLDEKFETIERLPVSELAKELEKTKGIKCIVFDGIITQRIVDIAAEKNIERIVASRISEAVKPVLNVELNTIMVLDRLGSSLYGALKKVFKASVVDEALVKELVRDIQRALLQSDVNVNLVLDISKRIEERALKERVPPGIARREHLIKVVYEELTRFVGDKTVPIKLEPGKRKILMLVGIQGSGKTTVSSKLARYYQKKGLKPALICADTYRPGAFAQLQQLAKRINIPIYGDLKAKDPLKVVFKGINLFTDKDLIIIDTAGRHKEERELIKEMNLLEKKIKPDEVIMVIDGTIGQQALLQAKNFHENTPIGSIIVTKLDGSARGGGALSAVAATGAPIKFIGTGEKIADLEQFVPSRFVGRLLGMGDLETLLEKVREAEIKVPKKKAKAILSGKFTLTDMYEQFEAVKGMGPFSKIFKMLPGMSYEIPEEMMSTAEDRLEKWRVIIQSMRVEEKENPKLLNSSRVRRIARGSGTTEKEVKDLLKQYVMMRKMLKMFKRKKKLPFLSKGFPAGFKMLIAGLDEAGRGCVIGPLVITGYAIKEKKIPLLRELGIKDSKKLTRKKREKIIPRIIELSEAYKIIKLSPDQIDKVVKSKIKFHKLNRLEAETMAQVIKILKPDKAYIDAADVKEKRFQEYVLEKLSIKINIVARHKADEIFPVVSAASIIAKVNRDKEILFLKDKYGDFGSGYLSDKKTITFLKECIKKNGEYPECVRKSWKPAMRIKNERGTKQTRLFES\r\n",
      ">ThorSMT-I\r\n",
      "MVGTQRCVFCEKDIEPGTGLAFVQTKDGSVLWFCSNKCKVARLKRRMKPRATKWTKGFQKGGKAKMSKEERDKWGVAHIYASYNDTIIMITDITGAETLARYSGGMMVKADRNESSPHAAMQAAFQAAREAKDKGIYGIHIRVRAPGGHGPKTPGPGAQAAIRALSRAGLRIGIIDEVTPMPHDGTRKPGGRRGRRVMKIMKQVLKEGKIVLKIETLDDLWHLYNTVSTNDIVISKTSRRVRIGDENSRKQESTRKTMVLKLKVEDVSFHNFSNRVRIKGVILEGPDDLVNIGSYHTINIETGDTLTIIKEHWPKFVLDRLKEATKSQIRPICLIVTIEDGTAELFLAADSGIQETVRIRMSISRKRGDQKSYDATMRDFFADTLLALQSQLEQYEFGLIVIAGPGFVKDHFKEFLIGAKIKDLPPVVVESTNSIGVPGAKEILYRGVISRAVTELKVETETRLVETLIEHISKDNGLGAYGNDEVFNAVQYGAVEELLITDKRLREGEENERRWMDSLIRNTEKTRGSFHIVSTEHPAGDQLQRLGGIGAILRFKIIQMVDKPDVVGAIFGQTEGLLGEDLDLRELQRTGRIGRIQIVIRSEGGNSTGEIVIPVSLNKTATAILAASLETVDRVGPCTARVILEKLEDIRGAKRRKVVSRAISILKGWEEDISPGTEEIQTAVTKGSKVTVAKYGPDSLPAGPGLDEGSEIIIVEGRADVINLMKCGITNTVAVEGTHIPKSIVDLTKKRGKKIIAFLDGDRGGDLILRELMQVAKVHYIARAPEGKEVENLTRREVTKALQAQIPADQALTLVKDRKATPARRKRPSKKVTKTRRGTKSVDDFDKPALEEDDQISSRRRAVTRRIPVAIDEVYLSKIGDIKESFKALLYGEDKQVIIECGVAELAKILEEQERVPAIVFDGVITQRLVDIAGKKKTELMIGAAVADIENKPTSMKIVTFDDLGQMVLEGLGKSLNSALKRLFGASVVDEELVKELVKDIQRALLVADVDVNLVMAITKRVQEQALDERLPRGVSRREHIVRVVWDTLAFFLGEKTVPLTINPGKPNLVMMVGIQGSGKTTTIGKLARYYQKRGIRTGVICADNFRPGAYNQLKQLAEKSNVPFWGDESEKDAIKLAKQGVREMQKKGIELILLDTSGRHREETGLIKEMRDISKSVKPQEIVLVVDGTLGQQAGVQAAAFKKATDIGSIIVTKLDGSAKGGGALSAVAATQAPIKFIGLGEGMDAIEPFNPTKFVGRLLGMSDIRGLIEKVKEAQIEVEEDAAKRIMKGQFTLKDMMAQMKQLKKMGPIGKVMEMLGLQYKLPDGIAEIQEENMKRWEVIMNSMTKAELEEPKLIKSSRIKRIAKGSGTSQKDVRDLLKQHDQMKKMMKHMGKQRRGRKGAIPGFPGLQMVKTKTQLYGICGVDEAGRGPMIGPMVICGVLIDPDSIYELEKIGIRDSKMLSPTRRSNLGKRIEKIAVKTSFRSISAKDIDKRRKHTTMNEIEVDEFVSILKELRPKTIYLDAADVKADRFGKKIGERSGLAAQGAEIVSEHKADARYPIVSAASILAKVERDRVISRLHEKYGNFGSGYPSDPKTVDFVRDLVKKNKKMPSIVRKSWDSVRKIIDDESA\r\n",
      ">Heimdal-I\r\n",
      "MIRDYECSFCGKDIDRGTGMMYVKLDGSILRFCSKKCRISQVNHKRNPRKLKWTTKYERKYMSEEEIKTEQMEPEITEEVIDTQEQVETETSPETPVRRRRKRKRNLWGVCHILSTYNDTHILISDLTGAETISSKSGGMFVKAHRQESSPFAAMRAAYAAAEEAKSKGYNSLHVRVRARGGNKSRTPGPGVQAALRAFARSGMRIGRIDDVTPLPHDGSRRKGGRRGRRMMKILKESKDENSLSILPENSDDLYLIYNTIFINNIIEAKTSRKIKETGDRINLWVKXKVIDTQFHGFGEIIRVRGIILEASDETVSLGSHHSINLELLKEVKIIKPNGWNLSELKRLKNSNFTNANGLIIIIIDDEEMLAVQVGEHATKKLLELKPSITRKGSDPEGNHNETKKYFNEVAGFMXDLKQDNLAKYWIIGGPGFIKENFGEFLKENYXEFIXNLKIVDTLNTGMKGVKEVLLNKVPENFKVGISAKKQSELMSMFMERLGRNKDNIAYGSDLEELANMGSVKYLLVLDKELHKLPEHRGKIERIMSIVEKMGGNSVLMSSQYDEERTNILEGFGGIIAILRYEIKKMGNVKYSDESIKYLLKARIEIDGVVDKSDIVGALFGQTEGLLDQDMELKHLQRTGRIGRIDLNVTNVSGATKGTLEIPSSLNKIETAIIAATIESVDRVGACGCSIILDNIVDVRKYKLESITKRAAEIMKKWNIEDQNDGMNISKIVEKEAKRGRIVSFGYEKLSAGQGVYHSDQLILVEGRADVANLLKMGIENTIALGGTNVPDTVINLCKNREVTALLDGDRGGDMILKELLLNTQIEFVARAPKGFEIEHLSMKKITKALENKVEVIDSDFISERYSVVDFLRKNNRWKYLDKARDRDDRREDDRHSKYDRRSRDFKKSRFRERSDRKLRTRDKRDRKSNFRERGRDKRSDRRTKRHNMIEVPEEIKNIIDGVKQTMSAVFMDENHGTQLTVSTENVFEELNNYENQIATLVVDGVISNRLLNLANQKSIKLIAGAKIGEIDHTPKNIQYVTFNRVKMVLASLGKTLSGAINKILKKGPIDKGLILXLKNEIFKAXXDADIQFDIAYKMTEIVHERALIENPPPGISRRDAMINIVYEELARIMGWEAEILNLDKKKKNVIMVIGIQGSGKTTTIGKLSYNLKKDWNLGLISTDTWRPGAYDQLKQLGDKVGVDVYGDPDEKKAEKLAKNGLKHFSKQNKNLIIVDTAGRXKXEIELLKEMKRLNKIVKPDEIILVIDGTLGQSAFNQAKAFAERTDIGSIIVTKLDGTAKGGGAISAAAATKAPIKYIGVGEDVTELEKFDPKGFAGRILGMGDIKGLLEQVERAQINTDEDRAKEMMKGNITYDDMVEMFESMNQFGGLRKLLXKLPGGLSYNIDDDMLSMSKGKMSQYKNIILSMTKKERHAEVKLGKTRIDRIAMGSGVSSDDVKELRKQKEMAEKWIKQMMKGGGRGRNKGMGGLPFNLPGMMMIAGIDEAGRGPVIGPLVIGLVLAKKDQLEKLQKLGVDDSKKLSISKRTMLSQIIMENVEYYDTLVINPLEIDNYVFNENLTLTTLMEHGLKKIIQPIKSKITFLQIDKMGGNDFADRFKDDIKGKIICEEKGDAKYTSIGAASILAKVVRDRIIENIKKDVKKSDPNLPGLGSGYPSDPETKNFLREYFMKYNEFSDYVRKSWSTISNLTDILSQSNLDDF\r\n",
      ">C.-Loki-I\r\n",
      "MVKSRNCDFCGKPIQPGKGTIYVKNDGIVWNFCTRRCRVLKIRYKKNPRKAPWTKFYKQGMQKKKKSAEKWAICHVFASYNDTIITATDLTGAETLAKCTGGMVVKADRDEGKPYAAMKCGFRVARDLHDKGITHIHIFVRAPGGNGAKAPGAGAQAAVRALARSGLRVGRIEETTPIPHDKTRRKGGRRGRRVMKIIKFDRKKGELVLHTEALNDLWTLYNVLYPGDKLEGRTTRRVVVREGDKGDRRPMFLGIRVESVAFDEFVNRLRVKGQIYRGPDDFVSMGSFHTFNLEPGDELSIIKDVWYDHLLQRLKKSVDATKGYQVLXXXXXAGDGIIALLSNYSQTIIAKIHENISGKRFGKAAWEQELDNFFVQMAKVVEENLAKYEIRLILVVGPGFTKEKFAEYLQKYVPAAKDKVKLETATSAEESAIYEALRKGTLQTILQDQRVVYETDLMEEVMRRIGKDQPTLTFGIAETKQAVQFGAIEKILISDVKFRESQGDDRQNLEELLHNIEKANGKVEIVSSLHPAGEQLLKMGGFIGLLRFRVDNKMGDDLDLRELQRTGRIGRIQVEFESSGGQSSGKIIIPSNLDRVETAILAATIESVDRVGPCNAEMKIESISDAREDKRKQIVGRATELLKKWESDVSPDAVEITEGIKDTLRVEEIRSYGKEQLPAGPAIDESKEIVIVEGRADVLACLRYGVKNCIAVQGTKIPKTIIDLCKEKSATVFLDGDRGGDMILNELLQLTDVDAIARAPAGMEVEQLTQKQFMKALQSKIPAAEIKAKLNIGGKKKKEKKEKEPKKPHNKKAKVTPPNHGERKAGERTTPVETSPAQPPQPPIALPPEVFTRMKGMVGTNEAVGFDGESKEVFVTGTSALMDTLKNATAPVKMIIFDGIITQRILGLAIEKQVELIIGINTSGKIDPKSIKIYFFKDFFMVLENLGRALDNTVRRLRGLPKVDKDAIRATIQDLQRALLAADVKVELVFDVTAKIEKRAMDEKLPPGINRKEHIIRCIHDELSHLLGGQPAPMRIKPNRQNIILMVGIQGSGKTTTVGKLANYYKKKQFRVGVVCSDTWRPGAYDQLKQLAESIEVPIWGDPKEKNAIKLAIKGAKKFVDEKCEIIIVDTAGRHKEEKDLMKEMQEIEQKLLPDETILVLDGSLGQQAYNQAKVFAETTKVGSIIVTKLDGSAKGGGALSAVVATGAPIRFIGEGEKVDALEAFDPTSFVGNLLGIPDIKGLLEKIKEAQIEPEEDVAKRFMKGNFTLDDLYKQMKAMRKMGPLKSWLTKLGGQNLPDEMKDVAEQQLDKWKVVLDSMTQYEKDNPMIIKKSRIARVARGSGQSYTEIKNLLKQYDQMKKMVKGMVRGMRGGRKGKGKGGMPGIPGMPGFPGMGPGGMKLPPGVKGLKKKFRMKIIGGIDEAGRGPVFGPMIVCGLTILEEKYFILKEMGVKDSKLLTPRNREKLAPQIQKVVEKLVIRELSPEKIDDLRAKGVSMNEIEVQIMAEILTELKPDVVYIDAVDVKEERFGQNIKRLAGLKNVEIIAEHKADFTYPIVGAASIIAKTRRDAEIAKIQTKYGEIGSGYPSDPVTIKFLENWVQNHKNLPPFARKSWKTSQNILNNSVRQRKITDF\r\n",
      ">C.-Odin-I\r\n",
      "MRIFKCSFCGDDIQVGKGLTYFKIDGTPLHFCSSKCKKSLLLYNRKPRRVKWTKHYPRQPKQSASASNTAEKSMSENKEKSKTESVKADKTNSKQEEKTQRQQQASKPTALGSKEKQLWGIAHIYSSFNDTIVHITDLSGAETIARYSGGMIVKADREESSPYAAMQAAFKAAQAAKDKGVVGIHIKVRAPGGRSAVTPGPGAQAAIRALARAGLRIGRIEENTPIPHDGTRVKGGRRGRRVMRILFFDEKKSRMKIKVESLDDLWTLYNIISKNDIVYGRTFRRIKQNEEAIRADKGERIPVYLGIRVEETSFHGFADRLRIKGRIVSGPEDLISAGSFHTLNVEVDSQIEIVKDRWSKTDLKRIDEALKSSSSPVIILCAVDSNEASIALMGSFQTKIVTRITESIPGKRLTDKENTEAYQRFYASILKVIETLLGESRVDYIIIAGPGFVKDHLRDYIIHRKPELKNMIITDTVSSGDVSGINEIIKRGAAISVLSKMRVIEHSSLIEDVLKRLAKNSGDVAYGFDDVRDAAERGAVQTLLVTDELVRSLDETKRSNVHNLIEIVENMSGDVKIFSVQTPPGEQLKGLGGVAALLRFNLFKDSRRMSLNDKEELTTIKYIIKVRFEVDGVVEKPDVIGAVFGQTEGLLGDELDLRELQKTGRIGRIGVTLELKNGKAAGEITVPSSLDRAETAILAAALETIDRVGPCTARMTLEKIEDVRSVKREKILDRAADILKKWTETVAPETADITEAVMRAIKPEDIVKYGPEELPAGPGLEESDSIIIVEGRADVINLLKHGFRNTVAVEGTNIPKSIIDLCNEKVVTVFTDGDRGGELILKELLQVADIDYVARAPPGKEVEELTRKEIVKCLRNKVPVEQVLSLYKPAYKEHKPQPEHVEEKIKEPYPTKHVHPRRIVKKGRKIKPAISLPDTLVDKISTLPETSQALILNEGGDEIARLPVSELADKLETIERAHLIAFDGVITQRIVDLASQKKIKYLVGARIGKIQKKPAETELITFDDIQKNSMVLESLGKKLSEAVRKLVRAPLVDERAVKEFIIELQRALLEADTNVELVLELSKRIEKRAMEVELPPGITRREYVLKMVYEELTNILGKRSEPIRLKPGQSNVIMLVGIQGSGKTTTAGKLANYFKKRGIRTALVCADTFRLGAYEQLKQLAEQINVPFYGEPASKDTVKIAKNGISLFKEEKIEAIIIDTAGRHKEEKSLFQEMISLSNEIKPQEIILVIDGSIGQQAHVQAKAFAEATNIGSIIVTKLDGSGRGGGALSAVAATGAPIKFIGTGEKIDDLESFDPPSFLSRLLGMGDLKTLVEKIQEAEATPDREEAKAFLKGQFTLKDMMEQMEKFKKVGTFSKILSYFGLGGKLPEGWETEASEKLDKWKIIMQSMNKKELEDPKIIDKSRINRIAKGSGTSPKDVRELLDQYNMMRKFAKSIGKTRGRGKIGKMMPKGFNYGGMNDGMILGIDEAGRGPVVGPMVICGAIIREDKLSVLAELNPVDSKKLSPRQREWFREKLEKLLDGYKILVVEPREIDAYVVRNRLNHLETVKFLEIIRFFKPSEVYVDAPVLRTERFARILSVKLDYKPRIIAENKAEKYHIVAAASILAKTTRDRLINELEKVYGEFGTGYCHDPKTINFINNWIQKHRSLPDIVRKSWVTSKNWVNKFLQTKLTF\r\n",
      ">ThorAB2-I\r\n",
      "MVGTQRCSFCGKDIEPGTGSAFVQTKDGAVFWFCSNKCKVNRLKRRMKPRDTKWTTAYEKGGKVSRMSKEERDKWGIAHIFASYNDTIIMITDITGAETLARYSGGMMVKADRNESSPHAAMQAAFQAAREAKDKGIYGIHIRVRAPGGHGPKTPGPGAQAAIRALSRAGLRIGIIDEVTPMPHDGTRKPGGRRGRRVMKRVLKEGKIVLKIETLDDLWHLYNTVGPSDIVISRTSRRVRVGDEDSRKSDSVRKVMMLKLRVEDVSFHNFSNRVRLKGVILEGPGDLVNIGSYHTINVETGDTLTIIKEHWPKFVLDRLKEAEKSQLRPMCLIVTIEDGTAELFLAADSGIQEAVRIRTTISRKRGDQKSHDATMKDFFSDTLLALRSQLEQHEFGLIVVAGPGFVKDHFRDFLVGAKIKDLPPVVVESANSIGVPGAKEILYRGVISKAVTELKAETETRLVETLIEHISKDNGLGAYGNTEVSNAVDFGAVEELLITDKKLREGAEKERRWMDALIRNTEKTRGSFHIVSTEHPAGDQLQRLGGIGAILRFRITQMVDKPDVVGAVFGQTEGLLGEDLDLRELQRTGRIGRIQIVIRSAGGKSTGEVVIPVSLNKTATAILAASLETVDRVGPCTAKVTLEKLEDIRGAKRRKVVSRAISILKGWEEEISPGTDEIKTAVTKGSKVQVSKYGPDNLPAGPGLTGSSEIIIVEGRADVINLMKCGIANTVAVEGTHVPKSIVELTKKRGKRVIAFLDGDRGGDLILRELMQVAKVHSIARAPEGKEVEDLTRKEVTKALQAQIPADQALALVKDRRATSTQKKRPVKKDTRTRREPRRPDSFRKPEMAEERRAPSRRRPVSRRVPVTVDEVYVSKIGEIKESFKAVLFGKDKKVIVECGVAELAKTLEDQEEVPTIVFDGVITQRLVDIASKKKTQLMVGAAVADIENKPSSMKIVTFDDLSQMSNHTQVHPINNPVFSLPPLSTILVVIQRRRLIWTADGALPEDGDVVLVLEGLGKSLNSALKKLFGASVIDEELVKELVKDIQRALLVADVDVSLVMAITERVQEQALDETLPRGVSRREHIVRVVWDTLAFFLGEKTVPLTINPGKPNLVMMVGIQGSGKTTTIGKLARYYQKRGIKTGVICADNFRPGAYSQLKQLAEKSNVPFWGDEDEKDATKLAKKGVKEMQKKGIELILLDTSGRHREETGLIKEMRDISKGVKPQEIVLVIDGTLGQQAGVQAAAFQKATNIGSIIVTKLDGGAKGGGALSAVAATQAPIKFIGVGEGMDAIETFDPTKFAGRLLGMSDIRGLIDKVREAQIEVEEDQAKRIMKGQFTLKDMMAQMKQLKKMGPIGKVMEMLGLQYKLPEGMAEIQEENMKRWEVMMNSMTKDELEEPKLIKSSRIKRIAKGSGTSQKDVRDLLKQHEQMKKMMKQMGKQRRGRKGGIPGLPGLEGLGMTGLHGTAGIDEAGRGPMIGPMVICGVLIDSAKLPELVEIGAKDSKTLSHSQRLKLKEKIMLVISKMEIRYVSAADIDRLRKRTTLNEIEVAEFVSIARALKPQEIYLDAADVKADRFGEKIGNLSGLASKGAKIVSEHKADSKYPIVSAASIIAKVERDRAISEYHKKYGDFGSGYPSDPKTVDFVTNLVRNNQKLPPIIRKSWESVRKILDEESAEQSTLD\r\n",
      ">C.Bathy-O\r\n",
      "MPRPRKCSFCGNDFPAGTGMMYVKNDGSILWFCSSKCRKSSKFGRDARKLKWTAYFGKEEKGRAMSGASKRNEKWAVVHIFSSYNNTLIHITDISGAETISRTSGGMFVKADRMESSRYAAMRAASAAAEVAKDKGITAIHIKVRAPGGSGPRTPGPGAQAAIRALARAGFRIERIEEVTPVPHDGTRRPGGRRGRRVMKALKILETNLKKGFVKVVPETMDDFWHLYNVIYKNDVVYSYTTREIKPNEKYARPKRGERVRVLLGVKVEDVGWDRLLGRLRIHGTIIEAPEIVPTGAHHTLNITLNTPLTIVKKEWPKHNIERLRNASRTSEKPIIVVAIDDESYVIATTAQYGVETKVEERIKLPGKNEAEKRTAAMSEYFRKTLSSLRQIWALTHRPITIIGVGFVKNDFAKFLQNEASDIAKSVMDVKSVNNSGIVGINEALRSGVLTKTMKQLRVAEETEVVEEVLKRLGKGELNVTYGLEEVEKAEETGAVEKLVLADTVLRDSSDEKRLLMEELMKKVEQKNGSIIVVSTEHEAGAKLLSLSGVAALLRFPIPQMHAKLEIEGVVEKPDVIGAVFGQTEGLFGPELDLRELQKTGRIGRIEIDLHSKNDETTGDITIPTSLDRVSTALIASSIESINRVGPCASKVTLEKIEDVREARRKVIIDRAKEILHKWTIESMPSVDEVFKEVSETLKLGKVEKYSSEELPAGPGLESAKEIIIVEGRADIINLMRCGLLNTIALEGAKVPEAIKKLCKEKEATALLDGDRGGDLILKELLQVTDAKFVARAPRGKEVEELNCKEIFDALGAKVPIQEVSKPSRKEKQKVEVPKEVAETIKGLEGTLEAVLLNEKSEQIERLPVNQLAEKLQQTEGIDTVVFDGIITQRIVDVAVEKNIKRIIASRISDAVKPSLTVQLTTFSEVAQSMSIDRLGSSLYEAIRKVFRASVIDEATVKELVHDIQKALLQADVNVQLVLDISKRIEERALKEKVPPGVSRREHLIKVVYEELTRFLGEKSIPIKIEPGKRKVIMLVGIQGSGKTTAAAKLARYFQKRGLKPAVVCVDTYRPGAYAQLQQLANRINVPFYGDLKAKDPVKVAFDGLKQFGGKDIVMIDTAGRHKEEQELIKEMKMLEKSLKPDEVMLVIDGTIGQQATVQAKAFHEATPIGSILVTKLDGSARGGGALSAVAATGAPIKFIGTGEKVEDIESFVPSRFVGRLLGMGDLETLIEKVHEAEVKVPEKKAKAILSGKFTLTDMYEQFEAMKGMGTFRKLLKMLPGMSYNIPEDMLNTAEGRLEKWRVMIQSMTPEEKDDPKIFNASRMKRVAKGSGTSEKEVKELLKQYVMMRRMLKTLRRKKKLPFFGKGMPLELKMLVAGVDDAGRGCVIGPLVIAGVLMKEADVPKLVQMGVRDSKLLSPHRRETLAVEIRHVAEKISIAKLSPREIDVVVESGRKLHKLNRLEAQTMAKVIEALRPDIAYVDASDVLEERYKQHILECLPFEVEIVSEHKADRTYPIVSAASIIAKVERDSEIAKLADVYGDFGSGYPSDPRTISFLQECLNKFKGYPDFVRKSWKPAKKVADEKNSRQTKLT\r\n"
     ]
    }
   ],
   "source": [
    "f=open(\"OGfastas/concatenatedforspecies.fasta\",\"w+\")\n",
    "for i in d:\n",
    "    f.write(\">\"+names[i]+\"\\n\"+d[i]+\"\\n\")\n",
    "f.close()\n",
    "!cat OGfastas/concatenatedforspecies.fasta"
   ]
  },
  {
   "cell_type": "code",
   "execution_count": 268,
   "metadata": {
    "collapsed": true
   },
   "outputs": [],
   "source": [
    "!mafft --genafpair --quiet --maxiterate 10000 OGfastas/concatenatedforspecies.fasta > OGfastas/alignedconcatenatedforspecies.fasta"
   ]
  },
  {
   "cell_type": "code",
   "execution_count": 260,
   "metadata": {
    "collapsed": true
   },
   "outputs": [],
   "source": [
    "!seqret -auto -sprotein1 -sequence fasta::OGfastas/alignedconcatenatedforspecies.fasta -outseq phylip::OGfastas/alignedconcatenatedforspecies.phy"
   ]
  },
  {
   "cell_type": "code",
   "execution_count": 261,
   "metadata": {},
   "outputs": [
    {
     "name": "stdout",
     "output_type": "stream",
     "text": [
      " 9 1878\r\n",
      "Metallo-O MVSSHRCSFC GTEIPPGTGM MYVK-NDGTI LWFCSSKCRK YMLIQRKDAK\r\n",
      "Lokiarc-I MVKVKKCSFC GWDIPIGRGM MYIK-KDGTI FNFCTKKCRK ALIVYKKKAR\r\n",
      "Crenarc-O MPKPKKCSFC GNDFPSGKGM IYVK-NDGTL LWFCSSKCRK SSLNFKRDSR\r\n",
      "ThorSMT-I MVGTQRCVFC EKDIEPGTGL AFVQTKDGSV LWFCSNKCKV ARLKRRMKPR\r\n",
      "Heimdal-I MIRDYECSFC GKDIDRGTGM MYVK-LDGSI LRFCSKKCRI SQVNHKRNPR\r\n",
      "C.-Loki-I MVKSRNCDFC GKPIQPGKGT IYVK-NDGIV WNFCTRRCRV LKIRYKKNPR\r\n",
      "C.-Odin-I M-RIFKCSFC GDDIQVGKGL TYFK-IDGTP LHFCSSKCKK SLLLYNRKPR\r\n",
      "ThorAB2-I MVGTQRCSFC GKDIEPGTGS AFVQTKDGAV FWFCSNKCKV NRLKRRMKPR\r\n",
      "C.Bathy-O MPRPRKCSFC GNDFPAGTGM MYVK-NDGSI LWFCSSKCRK SS-KFGRDAR\r\n",
      "\r\n",
      "          RLKWTEAYSR V--------- ----RMS--- ---------- ----------\r\n",
      "          KTRWTAHYGK E--------- -----MS--- ---------- ----------\r\n",
      "          KFKWTTYFGK EEKG------ ---KGMS--- ---------- ----------\r\n",
      "          ATKWTKGFQK GGK------- ---AKMS--- ---------- ----------\r\n",
      "          KLKWTTKYER K--------- ----YMSE-- EEIKTEQMEP EITEEVIDTQ\r\n",
      "          KAPWTKFYKQ G--------- -----MQ--- ---------- ----------\r\n",
      "          RVKWTKHYPR QPKQSASASN TAEKSMSENK EKSKTESVKA DKTNSKQEEK\r\n",
      "          DTKWTTAYEK GGKV------ ---SRMS--- ---------- ----------\r\n",
      "          KLKWTAYFGK EEKG------ ---RAMS--- ---------- ----------\r\n",
      "\r\n",
      "          ---------- -------SRR EIRWGLARIY ASQNNTIITI TDITGAEIIS\r\n",
      "          ---------- ---------E KQKWAIVHIF SSYNNTIVTA TDLSGAETLA\r\n",
      "          ---------- -------SKK NEKWGIVHIY SSYNNTIIHI TDISGAETIA\r\n",
      "          ---------- -------KEE RDKWGVAHIY ASYNDTIIMI TDITGAETLA\r\n",
      "          EQVETETSPE TPVRRRRKRK RNLWGVCHIL STYNDTHILI SDLTGAETIS\r\n",
      "          ---------- -----KKKKS AEKWAICHVF ASYNDTIITA TDLTGAETLA\r\n",
      "          TQRQQQASKP TALG---SKE KQLWGIAHIY SSFNDTIVHI TDLSGAETIA\r\n",
      "          ---------- -------KEE RDKWGIAHIF ASYNDTIIMI TDITGAETLA\r\n",
      "          ---------- -----GASKR NEKWAVVHIF SSYNNTLIHI TDISGAETIS\r\n",
      "\r\n",
      "          RASGGMVVKA DREKPSPYAA MLAAGRAASE ALDKGLMAIH IKVRAPGGAG\r\n",
      "          KCTAGMVVKA SRDESSPYAA MQCGFRTAND LRDKGIRGIH IKVRAPGGNK\r\n",
      "          RTSGGMFVKA DRMESSPYAA MRAASAAAGI AQDKGITAIH IKVRAPGGSG\r\n",
      "          RYSGGMMVKA DRNESSPHAA MQAAFQAARE AKDKGIYGIH IRVRAPGGHG\r\n",
      "          SKSGGMFVKA HRQESSPFAA MRAAYAAAEE AKSKGYNSLH VRVRARGGNK\r\n",
      "          KCTGGMVVKA DRDEGKPYAA MKCGFRVARD LHDKGITHIH IFVRAPGGNG\r\n",
      "          RYSGGMIVKA DREESSPYAA MQAAFKAAQA AKDKGVVGIH IKVRAPGGRS\r\n",
      "          RYSGGMMVKA DRNESSPHAA MQAAFQAARE AKDKGIYGIH IRVRAPGGHG\r\n",
      "          RTSGGMFVKA DRMESSRYAA MRAASAAAEV AKDKGITAIH IKVRAPGGSG\r\n",
      "\r\n",
      "          PKTPGPGAQP AIRSLARSGF IIGRIEDVTP IPHDTIRRPG GRRGRRVM--\r\n",
      "          SQTPGPGAQA CIRALARSGL QVGRIEEVTP KSHDHCRRKG GHRGRRVM--\r\n",
      "          PRTPGPGAQA AIRAFARFGF RIERIEEVTP VPHDGTRRPG GRRGRRVM--\r\n",
      "          PKTPGPGAQA AIRALSRAGL RIGIIDEVTP MPHDGTRKPG GRRGRRVM--\r\n",
      "          SRTPGPGVQA ALRAFARSGM RIGRIDDVTP LPHDGSRRKG GRRGRRMM--\r\n",
      "          AKAPGAGAQA AVRALARSGL RVGRIEETTP IPHDKTRRKG GRRGRRVM--\r\n",
      "          AVTPGPGAQA AIRALARAGL RIGRIEENTP IPHDGTRVKG GRRGRRVM--\r\n",
      "          PKTPGPGAQA AIRALSRAGL RIGIIDEVTP MPHDGTRKPG GRRGRRVM--\r\n",
      "          PRTPGPGAQA AIRALARAGF RIERIEEVTP VPHDGTRRPG GRRGRRVMKA\r\n",
      "\r\n",
      "          -RVLEYDERR NYLRLYVEDE DDLWLLHTIL TKGDVVIART TRDVSM----\r\n",
      "          -KIIEINRKQ EEITVKIESL NDLWSLYNII SIGDIVSART QRRVVFKE--\r\n",
      "          -KIIEKNLQK NFVKLIPTSE DDFWHLYNVI YRNDEVYAYS SRAIKSDSDY\r\n",
      "          -KIMKQVLKE GKIVLKIETL DDLWHLYNTV STNDIVISKT SRRVRIGDEN\r\n",
      "          -KILKESKDE NSLSILPENS DDLYLIYNTI FINNIIEAKT SRKI------\r\n",
      "          -KIIKFDRKK GELVLHTEAL NDLWTLYNVL YPGDKLEGRT TRRVVVRE--\r\n",
      "          -RILFFDEKK SRMKIKVESL DDLWTLYNII SKNDIVYGRT FRRIKQNEEA\r\n",
      "          ----KRVLKE GKIVLKIETL DDLWHLYNTV GPSDIVISRT SRRVRVGDED\r\n",
      "          LKILETNLKK GFVKVVPETM DDFWHLYNVI YKNDVVYSYT TREIKPNEKY\r\n",
      "\r\n",
      "          --GNESRRIP MTIQLRVEFT EFQSYTGRLR IHGIVEDAPE KFGIKGSHHT\r\n",
      "          --GTKGERKQ MKLKLKVENV TFHEFSNRLR VKGKILEGPE DFVSFGTYHT\r\n",
      "          SRPKSGERIS AFIGVKVDYV SWDRFLGRLR IHGTICHAPE -KIPTGVHHT\r\n",
      "          SRKQESTRKT MVLKLKVEDV SFHNFSNRVR IKGVILEGPD DLVNIGSYHT\r\n",
      "          --KETGDRIN LWVKXKVIDT QFHGFGEIIR VRGIILEASD ETVSLGSHHS\r\n",
      "          --GDKGDRRP MFLGIRVESV AFDEFVNRLR VKGQIYRGPD DFVSMGSFHT\r\n",
      "          IRADKGERIP VYLGIRVEET SFHGFADRLR IKGRIVSGPE DLISAGSFHT\r\n",
      "          SRKSDSVRKV MMLKLRVEDV SFHNFSNRVR LKGVILEGPG DLVNIGSYHT\r\n",
      "          ARPKRGERVR VLLGVKVEDV GWDRLLGRLR IHGTIIEAPE -IVPTGAHHT\r\n",
      "\r\n",
      "          INLDLGEEIV IVK--PWTKA QLERIEREAR KRSKN--MIV LVDQDELLIA\r\n",
      "          FNLEVLQKVT IFK-EKWLNS EIKRIKYASK FESNYKMMIV AIETGLATIA\r\n",
      "          IVVSLHKPVT IVK-ETWPKH IIDRLKKATR TEKS--IIVV SIDDESFAIA\r\n",
      "          INIETGDTLT IIK-EHWPKF VLDRLKEATK SQIRPICLIV TIEDGTAELF\r\n",
      "          INLELLKEVK IIKPNGWNLS ELKRLKNSNF TNANG-LIII IIDDEEMLAV\r\n",
      "          FNLEPGDELS IIK-DVWYDH LLQRLKKSVD ATKGYQVLXX XXXAGDGIIA\r\n",
      "          LNVEVDSQIE IVK-DRWSKT DLKRIDEALK SSSSPVIILC AVDSNEASIA\r\n",
      "          INVETGDTLT IIK-EHWPKF VLDRLKEAEK SQLRPMCLIV TIEDGTAELF\r\n",
      "          LNITLNTPLT IVK-KEWPKH NIERLRNASR TSEKP-IIVV AIDDESYVIA\r\n",
      "\r\n",
      "          IPMEQGIKIL VER--ALQGI NE----QTES LEDVAKDVAE EITQFANQYQ\r\n",
      "          LITNFSHQRI ATIKNHIPGK RYKQTYRNKA LNDFYESIMK VLEENLKEFE\r\n",
      "          QTKQYGVDIK VEERIRLPGK RNPEH-RKKA MTENFKKVLS SIMQ-IRAAS\r\n",
      "          LAADSGIQET VRIRMSISRK RGDQKSYDAT MRDFFADTLL ALQSQLEQYE\r\n",
      "          QVGEHATKKL LELKPSITRK GSDPEGNHNE TKKYFNEVAG FMXDLKQDNL\r\n",
      "          LLSNYSQTII AKIHENISGK RFGKAAWEQE LDNFFVQMAK VVEENLAKYE\r\n",
      "          LMGSFQTKIV TRITESIPGK RLTDKENTEA YQRFYASILK VIETLLGESR\r\n",
      "          LAADSGIQEA VRIRTTISRK RGDQKSHDAT MKDFFSDTLL ALRSQLEQHE\r\n",
      "          TTAQYGVETK VEERIKLPGK NEAEK-RTAA MSEYFRKTLS SLRQ-IWALT\r\n",
      "\r\n",
      "          PEALILAGPG PFKEIVKDML RV-------K ARIYVDSVST ASRAGLAEIL\r\n",
      "          INLIIFSGPG NSKNVFEEYF KKKYIKSGLT TKIRLCQASS GTESAIIETL\r\n",
      "          NNSIILLGVG FIKNDFTAFL LKESPQIS-K AIVDIKSVNN GGSSGIFEAL\r\n",
      "          FGLIVIAGPG FVKDHFKEFL IGAKIKD--L PPVVVESTNS IGVPGAKEIL\r\n",
      "          AKYWIIGGPG FIKENFGEFL KENYXEF--I XNLKIVDTLN TGMKGVKEVL\r\n",
      "          IRLILVVGPG FTKEKFAEYL QKYVPAA--K DKVKLETATS AEESAIYEAL\r\n",
      "          VDYIIIAGPG FVKDHLRDYI IHRKPEL--K NMIITDTVSS GDVSGINEII\r\n",
      "          FGLIVVAGPG FVKDHFRDFL VGAKIKD--L PPVVVESANS IGVPGAKEIL\r\n",
      "          HRPITIIGVG FVKNDFAKFL QNEASDIA-K SVMDVKSVNN SGIVGINEAL\r\n",
      "\r\n",
      "          KRDIIDQVMR DYSISKSTKQ LERALGLMAR DSGLVVYGLE ETREASTYGA\r\n",
      "          KSKELAKLKK DVKILQEADM IEKIMTQFAE DADLIVIGMD EVSNASEKGA\r\n",
      "          RSGILHKASN KLRIMEETEI IEEIMSRLGK EEKTISYGID CVQNAAILGA\r\n",
      "          YRGVISRAVT ELKVETETRL VETLIEHISK DNGLGAYGND EVFNAVQYGA\r\n",
      "          LNKVPENFKV GISAKKQSEL MSMFMERLGR NKDNIAYG-S DLEELANMGS\r\n",
      "          RKGTLQTILQ DQRVVYETDL MEEVMRRIGK DQPTLTFGIA ETKQAVQFGA\r\n",
      "          KRGAAISVLS KMRVIEHSSL IEDVLKRLAK NSGDVAYGFD DVRDAAERGA\r\n",
      "          YRGVISKAVT ELKAETETRL VETLIEHISK DNGLGAYGNT EVSNAVDFGA\r\n",
      "          RSGVLTKTMK QLRVAEETEV VEEVLKRLGK GELNVTYGLE EVEKAEETGA\r\n",
      "\r\n",
      "          VETLLVSEDL ITD--DEKRS VIEEVMNLVE SKGGNVMIVP KDSPVYHQ--\r\n",
      "          IKQLLIADVM IRGTSKDFKL KIEDIITKVE NSGGEIYIMS TETLAGEH--\r\n",
      "          VDKIVIADSL LRESSEINRR KLEHLMKKVE DQKGRIFIIS TEHEAGKK--\r\n",
      "          VEELLITDKR LREGEENERR WMDSLIRNTE KTRGSFHIVS TEHPAGDQ--\r\n",
      "          VKYLLVLDKE LHKLPE-HRG KIERIMSIVE KMGGNSVLMS SQYDEERTNI\r\n",
      "          IEKILISDVK FRESQGDDRQ NLEELLHNIE KANGKVEIVS SLHPAGEQ--\r\n",
      "          VQTLLVTDEL VRSLDETKRS NVHNLIEIVE NMSGDVKIFS VQTPPGEQ--\r\n",
      "          VEELLITDKK LREGAEKERR WMDALIRNTE KTRGSFHIVS TEHPAGDQ--\r\n",
      "          VEKLVLADTV LRDSSDEKRL LMEELMKKVE QKNGSIIVVS TEHEAGAK--\r\n",
      "\r\n",
      "          LKALSGIIGI LRFRYKM--- ---------- TSLKYVIKLT FEVEGSVDKP\r\n",
      "          LVNLGSIVGI LHYKFMIK-- ----ITSQND FTTKYIIEVK FTIKGVVEKS\r\n",
      "          LLGLGGIVAL LRFSINME-- -VTITGASQT FTIKYITQAK FEIDGVVEKP\r\n",
      "          LQRLGGIGAI LRFKIIQ--- ---------- ---------- -----MVDKP\r\n",
      "          LEGFGGIIAI LRYEIKKMG- ----NVKYSD ESIKYLLKAR IEIDGVVDKS\r\n",
      "          LLKMGGFIGL LRFRV----- ---------- ---------- ----------\r\n",
      "          LKGLGGVAAL LRFNLFKDSR RMSLNDKEEL TTIKYIIKVR FEVDGVVEKP\r\n",
      "          LQRLGGIGAI LRFRITQ--- ---------- ---------- -----MVDKP\r\n",
      "          LLSLSGVAAL LRFPIPQ--- ---------- ------MHAK LEIEGVVEKP\r\n",
      "\r\n",
      "          DVIGAIFGQT ENLFGQEFDL RELQDKGRLG RIVVEMKTKG GKSEGYIEIP\r\n",
      "          DIVGAIFGQT EGLL-LDLDL RDLQKSGRIG RIEVNNESKE GISEGSIKIP\r\n",
      "          DVIGAVFGQT EGLFGPELDL RELQKTGRIG RIEINLQSRN DKTSGTIIIP\r\n",
      "          DVVGAIFGQT EGLLGEDLDL RELQRTGRIG RIQIVIRSEG GNSTGEIVIP\r\n",
      "          DIVGALFGQT EGLLDQDMEL KHLQRTGRIG RIDLNVTNVS GATKGTLEIP\r\n",
      "          ---------- DNKMGDDLDL RELQRTGRIG RIQVEFESSG GQSSGKIIIP\r\n",
      "          DVIGAVFGQT EGLLGDELDL RELQKTGRIG RIGVTLELKN GKAAGEITVP\r\n",
      "          DVVGAVFGQT EGLLGEDLDL RELQRTGRIG RIQIVIRSAG GKSTGEVVIP\r\n",
      "          DVIGAVFGQT EGLFGPELDL RELQKTGRIG RIEIDLHSKN DETTGDITIP\r\n",
      "\r\n",
      "          SNLDKVETAL IASMVESVEK VGPYNAKFVL KEIEDVRAEK LKKIIERAKE\r\n",
      "          SSLTRKETAL LAATVETVSR VGPCEAEIFL VEIRDVRESK RKRIIERAAE\r\n",
      "          TSMDRVSTAL IAASIESINR VGPCSAKVRL EKIEDIREAR RKEIINRAKE\r\n",
      "          VSLNKTATAI LAASLETVDR VGPCTARVIL EKLEDIRGAK RRKVVSRAIS\r\n",
      "          SSLNKIETAI IAATIESVDR VGACGCSIIL DNIVDVRKYK LESITKRAAE\r\n",
      "          SNLDRVETAI LAATIESVDR VGPCNAEMKI ESISDAREDK RKQIVGRATE\r\n",
      "          SSLDRAETAI LAAALETIDR VGPCTARMTL EKIEDVRSVK REKILDRAAD\r\n",
      "          VSLNKTATAI LAASLETVDR VGPCTAKVTL EKLEDIRGAK RRKVVSRAIS\r\n",
      "          TSLDRVSTAL IASSIESINR VGPCASKVTL EKIEDVREAR RKVIIDRAKE\r\n",
      "\r\n",
      "          ILATWTREKN LDIKEVMNEI SGAVKTGELI EFGPDRLPAG PDVYSDPNLI\r\n",
      "          LLKQWDQK-S LEQSEIEEKI DTDIKLGEII TWGPENLPAG PEVEKNPDIL\r\n",
      "          ILHKWNIESM PSVDQVYKQV SNTMKIGKVG KYGPENLPAG PRLESSNEIY\r\n",
      "          ILKGWEEDIS PGTEEIQTAV TKGSKV-TVA KYGPDSLPAG PGLDEGSEII\r\n",
      "          IMKKWNIEDQ NDGMNISKIV EKEAKRGRIV SFGYEKLSAG QGVYHSDQLI\r\n",
      "          LLKKWESDVS PDAVEITEGI KDTLRVEEIR SYGKEQLPAG PAIDESKEIV\r\n",
      "          ILKKWTETVA PETADITEAV MRAIKPEDIV KYGPEELPAG PGLEESDSII\r\n",
      "          ILKGWEEEIS PGTDEIKTAV TKGSKV-QVS KYGPDNLPAG PGLTGSSEII\r\n",
      "          ILHKWTIESM PSVDEVFKEV SETLKLGKVE KYSSEELPAG PGLESAKEII\r\n",
      "\r\n",
      "          IVEGRADIIN LLRYGYRNTV AVEGASGKIQ QSVVDLAKTK -KTVIAFLDG\r\n",
      "          IVEGRADVLN LLRIGVKNTI AVQGT--HIP KSVIGLVKKK -KTISCFLDG\r\n",
      "          IVEGRADIIN LMRCGISNTV AIEGA--KIP ESIKRLTKE- -KEATALLDG\r\n",
      "          IVEGRADVIN LMKCGITNTV AVEGT--HIP KSIVDLTKKR GKKIIAFLDG\r\n",
      "          LVEGRADVAN LLKMGIENTI ALGGT--NVP DTVINLCKN- -REVTALLDG\r\n",
      "          IVEGRADVLA CLRYGVKNCI AVQGT--KIP KTIIDLCKE- -KSATVFLDG\r\n",
      "          IVEGRADVIN LLKHGFRNTV AVEGT--NIP KSIIDLCNE- -KVVTVFTDG\r\n",
      "          IVEGRADVIN LMKCGIANTV AVEGT--HVP KSIVELTKKR GKRVIAFLDG\r\n",
      "          IVEGRADIIN LMRCGLLNTI ALEGA--KVP EAIKKLCKE- -KEATALLDG\r\n",
      "\r\n",
      "          DHGGDLILKE LLNSNVKIDY VARAPVGREV EELTGKEIAK ALSNMIPLTQ\r\n",
      "          DRGGTIILNE LMQL-VKLDY ISRAPDGYEV EELTRKQMVK SLQNKRSVKD\r\n",
      "          DRGGDLILKE LRQV-ASIKY VGRAPRGKEI EECNCKEINK AIAEKVPINK\r\n",
      "          DRGGDLILRE LMQV-AKVHY IARAPEGKEV ENLTRREVTK ALQAQIPADQ\r\n",
      "          DRGGDMILKE LLLN-TQIEF VARAPKGFEI EHLSMKKITK ALENKVEVID\r\n",
      "          DRGGDMILNE LLQL-TDVDA IARAPAGMEV EQLTQKQFMK ALQSKIPAAE\r\n",
      "          DRGGELILKE LLQV-ADIDY VARAPPGKEV EELTRKEIVK CLRNKVPVEQ\r\n",
      "          DRGGDLILRE LMQV-AKVHS IARAPEGKEV EDLTRKEVTK ALQAQIPADQ\r\n",
      "          DRGGDLILKE LLQV-TDAKF VARAPRGKEV EELNCKEIFD ALGAKVPIQE\r\n",
      "\r\n",
      "          YLK------- ---------- ---------- ---------- -KQQEVLASP\r\n",
      "          YRN------- ---------- ---------- ---------- ---HGKRFSK\r\n",
      "          QQK------- ---------- ---------- ---------- ----------\r\n",
      "          ALT------- ---LVKD--- ------RKAT ---------- -PARRKRPSK\r\n",
      "          SDFISERYSV VDFLRKNNRW KYLDKARDRD DRREDDRHSK YDRRSRDFKK\r\n",
      "          IKA---KLNI ---------- ----GGKKKK EKKEKEPKKP HNKKAKVTPP\r\n",
      "          VLS------- ---LYKP--- ---------- ---------- -AYKEHKPQP\r\n",
      "          ALA------- ---LVKD--- ------RRAT ---------- -STQKKRPVK\r\n",
      "          VSK------- ---------- ---------- ---------- ----------\r\n",
      "\r\n",
      "          QRMEEAQSQQ AVQLVEQP-- ---------- ------KKEI EIQIPQAAIE\r\n",
      "          EKAFNQKDGA LHKIF----- ---------- -------KKL KVKNESEIIK\r\n",
      "          ---------- ---------- ---------- ----SKNSFI KPEIPSEILK\r\n",
      "          KVTKTRRGTK SVDDFDKP-- -ALEEDDQIS SRRRAVTRRI PVAIDEVYLS\r\n",
      "          SRFRERSDRK LRTRDKRDRK SNFRERGRDK RSDRRTKRHN MIEVPEEIKN\r\n",
      "          NHGERKAGER TTPVETSP-- ---------- ----AQPPQP PIALPPEVFT\r\n",
      "          EHVEEKIKEP YPTKHVHP-- ------RRIV K--KGRKIKP AISLPDTLVD\r\n",
      "          KDTRTRREPR RPDSFRKP-- -EMAEERRAP SRRRPVSRRV PVTVDEVYVS\r\n",
      "          ---------- -------P-- ---------- ----SRKEKQ KVEVPKEVAE\r\n",
      "\r\n",
      "          EIKKLPGTLE GIIFDENWRP VEKVQVRDII SKLENMSNGN VSFIVFDGVI\r\n",
      "          AIDGIESS-H SIGFNKSVEK LFDIPVGELF EKIREFK--D TKYLLIDGIL\r\n",
      "          VAKELEGTLE AVLLDEKFET IERLPVSELA KELEKTK--G IKCIVFDGII\r\n",
      "          KIGDIKESFK ALLYGEDKQV IIECGVAELA KILEEQE--R VPAIVFDGVI\r\n",
      "          IIDGVKQTMS AVFMDENHGT QLTVSTENVF EELNNYEN-Q IATLVVDGVI\r\n",
      "          RMKGMVGTNE AVGFDGESKE VFVTGTSALM DTLKNATA-P VKMIIFDGII\r\n",
      "          KISTLPETSQ ALILNEGGDE IARLPVSELA DKLETIE--R AHLIAFDGVI\r\n",
      "          KIGEIKESFK AVLFGKDKKV IVECGVAELA KTLEDQE--E VPTIVFDGVI\r\n",
      "          TIKGLEGTLE AVLLNEKSEQ IERLPVNQLA EKLQQTE--G IDTVVFDGII\r\n",
      "\r\n",
      "          TQRLLELASS KNVKMIVGVR IGGINKKPEN VKILTLSDV- ----------\r\n",
      "          TNRLLSLSLN LKIKFIACKH KEEDLKIPEQ LIVYYF---- ----------\r\n",
      "          TQRIVDIAAE KNIERIVASR ISEAVKPVLN VELNTI---- ----------\r\n",
      "          TQRLVDIAGK KKTELMIGAA VADIENKPTS MKIVTFDDLG Q---------\r\n",
      "          SNRLLNLANQ KSIKLIAGAK IGEIDHTPKN IQYVTFNRV- ----------\r\n",
      "          TQRILGLAIE KQVELIIGIN TSGKID-PKS IKIYFFKDF- ----------\r\n",
      "          TQRIVDLASQ KKIKYLVGAR IGKIQKKPAE TELITFDDIQ KN--------\r\n",
      "          TQRLVDIASK KKTQLMVGAA VADIENKPSS MKIVTFDDLS QMSNHTQVHP\r\n",
      "          TQRIVDVAVE KNIKRIIASR ISDAVKPSLT VQLTTFSEVA Q---------\r\n",
      "\r\n",
      "          ---------- ---------- ---------- ------IGLM LE----GIRD\r\n",
      "          ---------- ---------- ---------- --------MV LEKLGRSLDT\r\n",
      "          ---------- ---------- ---------- --------MV LDRLGSSLYG\r\n",
      "          ---------- ---------- ---------- --------MV LEGLGKSLNS\r\n",
      "          ---------- ---------- ---------- -------KMV LASLGKTLSG\r\n",
      "          ---------- ---------- ---------- -------FMV LENLGRALDN\r\n",
      "          ---------- ---------- ---------- -------SMV LESLGKKLSE\r\n",
      "          INNPVFSLPP LSTILVVIQR RRLIWTADGA LPEDGDVVLV LEGLGKSLNS\r\n",
      "          ---------- ---------- ---------- -------SMS IDRLGSSLYE\r\n",
      "\r\n",
      "          AVRKFLGGTT SYDVAVDEFI KDLQKALISS DVQVKLVFSL TNKIKERLKK\r\n",
      "          AIRRIRRLPL VDKDAINALI QDLQRALLQA DVKVELVFEM TENIKKEAMN\r\n",
      "          ALKKVFKASV VDEALVKELV RDIQRALLQS DVNVNLVLDI SKRIEERALK\r\n",
      "          ALKRLFGASV VDEELVKELV KDIQRALLVA DVDVNLVMAI TKRVQEQALD\r\n",
      "          AINKILKKGP IDKGLILXLK NEIFKAXXDA DIQFDIAYKM TEIVHERALI\r\n",
      "          TVRRLRGLPK VDKDAIRATI QDLQRALLAA DVKVELVFDV TAKIEKRAMD\r\n",
      "          AVRKLVRAPL VDERAVKEFI IELQRALLEA DTNVELVLEL SKRIEKRAME\r\n",
      "          ALKKLFGASV IDEELVKELV KDIQRALLVA DVDVSLVMAI TERVQEQALD\r\n",
      "          AIRKVFRASV IDEATVKELV HDIQKALLQA DVNVQLVLDI SKRIEERALK\r\n",
      "\r\n",
      "          ESPPTSLERR EWFIKIVYDE LSSLFGGDKE P-EVNPGSLP YVIMLVGVQG\r\n",
      "          TKLQKS-RRK DFIIKLIHDE LIKLLGGKPA PIRIKPGK-K NVILLVGIQG\r\n",
      "          ERVPPGIARR EHLIKVVYEE LTRFVGDKTV PIKLEPGK-R KILMLVGIQG\r\n",
      "          ERLPRGVSRR EHIVRVVWDT LAFFLGEKTV PLTINPGK-P NLVMMVGIQG\r\n",
      "          ENPPPGISRR DAMINIVYEE LARIMGWEAE ILNLDKKK-K NVIMVIGIQG\r\n",
      "          EKLPPGINRK EHIIRCIHDE LSHLLGGQPA PMRIKPNR-Q NIILMVGIQG\r\n",
      "          VELPPGITRR EYVLKMVYEE LTNILGKRSE PIRLKPGQ-S NVIMLVGIQG\r\n",
      "          ETLPRGVSRR EHIVRVVWDT LAFFLGEKTV PLTINPGK-P NLVMMVGIQG\r\n",
      "          EKVPPGVSRR EHLIKVVYEE LTRFLGEKSI PIKIEPGK-R KVIMLVGIQG\r\n",
      "\r\n",
      "          TGKTTTAGKL AYFYKKRGYK VALVGADVYR PAALEQLMQL GKQIGVPVYG\r\n",
      "          SGKTTTIGKL AKYYKSKGYK VAAITTDTWR PGAYEQLVQL TNQIGIKTYG\r\n",
      "          SGKTTVSSKL ARYYQKKGLK PALICADTYR PGAFAQLQQL AKRINIPIYG\r\n",
      "          SGKTTTIGKL ARYYQKRGIR TGVICADNFR PGAYNQLKQL AEKSNVPFWG\r\n",
      "          SGKTTTIGKL S-YNLKKDWN LGLISTDTWR PGAYDQLKQL GDKVGVDVYG\r\n",
      "          SGKTTTVGKL ANYYKKKQFR VGVVCSDTWR PGAYDQLKQL AESIEVPIWG\r\n",
      "          SGKTTTAGKL ANYFKKRGIR TALVCADTFR LGAYEQLKQL AEQINVPFYG\r\n",
      "          SGKTTTIGKL ARYYQKRGIK TGVICADNFR PGAYSQLKQL AEKSNVPFWG\r\n",
      "          SGKTTAAAKL ARYFQKRGLK PAVVCVDTYR PGAYAQLQQL ANRINVPFYG\r\n",
      "\r\n",
      "          EPGEKDAVGI AKRGVEKLLS EKYELIIVDT AGRHGYGEEA KLLEEMKEIY\r\n",
      "          NPNEKNAIKI AVQETKRAIN DGNDLIIADT AGRH--KEEK ELMKEMAILE\r\n",
      "          DLKAKDPLKV VFKGINLFTD K--DLIIIDT AGRH--KEER ELIKEMNLLE\r\n",
      "          DESEKDAIKL AKQGVREMQK KGIELILLDT SGRH--REET GLIKEMRDIS\r\n",
      "          DPDEKKAEKL AKNGLKHFSK QNKNLIIVDT AGRX--KXEI ELLKEMKRLN\r\n",
      "          DPKEKNAIKL AIKGAKKFVD EKCEIIIVDT AGRH--KEEK DLMKEMQEIE\r\n",
      "          EPASKDTVKI AKNGISLFKE EKIEAIIIDT AGRH--KEEK SLFQEMISLS\r\n",
      "          DEDEKDATKL AKKGVKEMQK KGIELILLDT SGRH--REET GLIKEMRDIS\r\n",
      "          DLKAKDPVKV AFDGLKQFGG K--DIVMIDT AGRH--KEEQ ELIKEMKMLE\r\n",
      "\r\n",
      "          ESVKPNEVIL VIDASLGQKA YDLAKRFHEA SKVGSIIITK MDGTAKGGGA\r\n",
      "          QKLKPNEICL VIDGTLGQQA FDQAAAFDNT THLGSIIVTK LDGTAKGGGA\r\n",
      "          KKIKPDEVIM VIDGTIGQQA LLQAKNFHEN TPIGSIIVTK LDGSARGGGA\r\n",
      "          KSVKPQEIVL VVDGTLGQQA GVQAAAFKKA TDIGSIIVTK LDGSAKGGGA\r\n",
      "          KIVKPDEIIL VIDGTLGQSA FNQAKAFAER TDIGSIIVTK LDGTAKGGGA\r\n",
      "          QKLLPDETIL VLDGSLGQQA YNQAKVFAET TKVGSIIVTK LDGSAKGGGA\r\n",
      "          NEIKPQEIIL VIDGSIGQQA HVQAKAFAEA TNIGSIIVTK LDGSGRGGGA\r\n",
      "          KGVKPQEIVL VIDGTLGQQA GVQAAAFQKA TNIGSIIVTK LDGGAKGGGA\r\n",
      "          KSLKPDEVML VIDGTIGQQA TVQAKAFHEA TPIGSILVTK LDGSARGGGA\r\n",
      "\r\n",
      "          LSAVVATGAP IKFIGTGEKI DELEVFNPKR FVARVLGMGD VEAIIEKIKA\r\n",
      "          LSACAATHAG IRFIGVGEKI DDLDEFEPSK FVGSLLGIPD IESLVQKVEE\r\n",
      "          LSAVAATGAP IKFIGTGEKI ADLEQFVPSR FVGRLLGMGD LETLLEKVRE\r\n",
      "          LSAVAATQAP IKFIGLGEGM DAIEPFNPTK FVGRLLGMSD IRGLIEKVKE\r\n",
      "          ISAAAATKAP IKYIGVGEDV TELEKFDPKG FAGRILGMGD IKGLLEQVER\r\n",
      "          LSAVVATGAP IRFIGEGEKV DALEAFDPTS FVGNLLGIPD IKGLLEKIKE\r\n",
      "          LSAVAATGAP IKFIGTGEKI DDLESFDPPS FLSRLLGMGD LKTLVEKIQE\r\n",
      "          LSAVAATQAP IKFIGVGEGM DAIETFDPTK FAGRLLGMSD IRGLIDKVRE\r\n",
      "          LSAVAATGAP IKFIGTGEKV EDIESFVPSR FVGRLLGMGD LETLIEKVHE\r\n",
      "\r\n",
      "          VE--DYEGIQ KKMQEVTSGK SRLTLRDLYK QIIAMRKMGP LSKILQLMPG\r\n",
      "          AEIAPDDETV KRMM-----H GKFTLEDLYV QLASIKKLGK FQKILGMMGG\r\n",
      "          AEIKVPKKKA KAIL-----S GKFTLTDMYE QFEAVKGMGP FSKIFKMLPG\r\n",
      "          AQIEVEEDAA KRIM-----K GQFTLKDMMA QMKQLKKMGP IGKVMEML-G\r\n",
      "          AQINTDEDRA KEMM-----K GNITYDDMVE MFESMNQFGG LRKLLXKLPG\r\n",
      "          AQIEPEEDVA KRFM-----K GNFTLDDLYK QMKAMRKMGP LKSWLTKLGG\r\n",
      "          AEATPDREEA KAFL-----K GQFTLKDMME QMEKFKKVGT FSKILSYF-G\r\n",
      "          AQIEVEEDQA KRIM-----K GQFTLKDMMA QMKQLKKMGP IGKVMEML-G\r\n",
      "          AEVKVPEKKA KAIL-----S GKFTLTDMYE QFEAMKGMGT FRKLLKMLPG\r\n",
      "\r\n",
      "          INLMGDIPED QIKVGEKKMQ RWLAIMNSMT YEELDNPSLL DKQRMKRIAM\r\n",
      "          ----GNIPNA LKDDAERNLE RWRIVLDSMT HEEKMEPKII KKTRKRRIAI\r\n",
      "          --MSYEIPEE MMSTAEDRLE KWRVIIQSMR VEEKENPKLL NSSRVRRIAR\r\n",
      "          --LQYKLPDG IAEIQEENMK RWEVIMNSMT KAELEEPKLI KSSRIKRIAK\r\n",
      "          G-LSYNIDDD MLSMSKGKMS QYKNIILSMT KKERHAEVKL GKTRIDRIAM\r\n",
      "          ----QNLPDE MKDVAEQQLD KWKVVLDSMT QYEKDNPMII KKSRIARVAR\r\n",
      "          --LGGKLPEG WETEASEKLD KWKIIMQSMN KKELEDPKII DKSRINRIAK\r\n",
      "          --LQYKLPEG MAEIQEENMK RWEVMMNSMT KDELEEPKLI KSSRIKRIAK\r\n",
      "          --MSYNIPED MLNTAEGRLE KWRVMIQSMT PEEKDDPKIF NASRMKRVAK\r\n",
      "\r\n",
      "          GSGTEVEEVK ELIEHFNTIQ RTLKVLKRRK K--------- ---DVERLLG\r\n",
      "          GSGTDYSVIN KMLDQYNQMK KFMKRFLQMQ KKGK------ ---GVPGMPG\r\n",
      "          GSGTTEKEVK DLLKQYVMMR KMLKMFKRKK KLPFLSK--- ------GFP-\r\n",
      "          GSGTSQKDVR DLLKQHDQMK KMMKHMGKQR R-GRKGA--- ----IPGFPG\r\n",
      "          GSGVSSDDVK ELRKQKEMAE KWIKQMMKGG GRGRNKG--- ----MGGLP-\r\n",
      "          GSGQSYTEIK NLLKQYDQMK KMVKGMVRGM RGGRKGKGKG GMPGIPGMPG\r\n",
      "          GSGTSPKDVR ELLDQYNMMR KFAKSIGKTR GRGKIGK--- ------MMP-\r\n",
      "          GSGTSQKDVR DLLKQHEQMK KMMKQMGKQR R-GRKGG--- ----IPGLPG\r\n",
      "          GSGTSEKEVK ELLKQYVMMR RMLKTLRRKK KLPFFGK--- ------GMP-\r\n",
      "\r\n",
      "          QLG-G----- ---------- ---------- ---TMRLGID EAGRGCLIGP\r\n",
      "          LPG-GKAGTD F---MKKLGK FMNS-SSVHD GYPRLVCGID EAGRGPVIGP\r\n",
      "          ---------- ---------A GFKM------ ----LIAGLD EAGRGCVIGP\r\n",
      "          L--------- ---------Q MVKTKTQL-- ---YGICGVD EAGRGPMIGP\r\n",
      "          ---------- ---------- -FNL-PGM-- ---MMIAGID EAGRGPVIGP\r\n",
      "          FPGMGPGGMK LPPGVKGLKK KFRM------ ---KIIGGID EAGRGPVFGP\r\n",
      "          ---------- ---------K GFNY-GGMND ---GMILGID EAGRGPVVGP\r\n",
      "          L--------- ---------E GLGM-TGL-- ---HGTAGID EAGRGPMIGP\r\n",
      "          ---------- ---------L ELKM------ ----LVAGVD DAGRGCVIGP\r\n",
      "\r\n",
      "          MVVAGVVLSE KGMGRLRAVG VKDSKKLTRK RREELFHLIL EESEAVAIAK\r\n",
      "          MVICGVCFRS SNLEILTDIG VKDSKKLNSK KRRALSEIIK KECLSYKLQI\r\n",
      "          LVITGYAIKE KKIPLLRELG IKDSKKLTRK KREKIIPRII ELSEAYKIIK\r\n",
      "          MVICGVLIDP DSIYELEKIG IRDSKMLSPT RRSNLGKRIE KIAVKTSFRS\r\n",
      "          LVIGLVLAKK DQLEKLQKLG VDDSKKLSIS KRTMLSQIIM ENVEYYDTLV\r\n",
      "          MIVCGLTILE EKYFILKEMG VKDSKLLTPR NREKLAPQIQ KVVEKLVIRE\r\n",
      "          MVICGAIIRE DKLSVLAELN PVDSKKLSPR QREWFREKLE KLLDGYKILV\r\n",
      "          MVICGVLIDS AKLPELVEIG AKDSKTLSHS QRLKLKEKIM LVISKMEIRY\r\n",
      "          LVIAGVLMKE ADVPKLVQMG VRDSKLLSPH RRETLAVEIR HVAEKISIAK\r\n",
      "\r\n",
      "          ALPDEIDT-- ------NNLN ELTYRKVLEV MRALSAFPID TVTVD-----\r\n",
      "          VSVQEIDERA DKN---ITLN RLEELKFANI INDLKP---N IIYLDAADVN\r\n",
      "          LSPDQIDKVV KSKIKFHKLN RLEAETMAQV IKILKP---D KAYIDAADVK\r\n",
      "          ISAKDIDKRR KH----TTMN EIEVDEFVSI LKELRP---K TIYLDAADVK\r\n",
      "          INPLEIDNYV FNEN--LTLT TLMEHGLKKI IQPIKS---K ITFLQIDKMG\r\n",
      "          LSPEKIDDLR AKG---VSMN EIEVQIMAEI LTELKP---D VVYIDAVDVK\r\n",
      "          VEPREIDAYV VR----NRLN HLETVKFLEI IRFFKP---S EVYVDAPVLR\r\n",
      "          VSAADIDRLR KR----TTLN EIEVAEFVSI ARALKP---Q EIYLDAADVK\r\n",
      "          LSPREIDVVV ESGRKLHKLN RLEAQTMAKV IEALRP---D IAYVDASDVL\r\n",
      "\r\n",
      "          ------RVGK EVEVIEEIYR LGL--R-PNV V--YHADENF LEASAASIVA\r\n",
      "          ----QERFGN SISK-----L LNY--STEKI ISKHKADDIF PIVSAASIVA\r\n",
      "          ----EKRFQE YVLE-----K LSI--K-INI VARHKADEIF PVVSAASIIA\r\n",
      "          ----ADRFGK KIGE-----R SGLAAQGAEI VSEHKADARY PIVSAASILA\r\n",
      "          GNDFADRFKD DI-------- -----K-GKI ICEEKGDAKY TSIGAASILA\r\n",
      "          ----EERFGQ NIKR-----L AGL--KNVEI IAEHKADFTY PIVGAASIIA\r\n",
      "          ----TERFAR ILSV-----K LDY--K-PRI IAENKAE-KY HIVAAASILA\r\n",
      "          ----ADRFGE KIGN-----L SGLASKGAKI VSEHKADSKY PIVSAASIIA\r\n",
      "          ----EERYKQ HILE-----C LPF--E-VEI VSEHKADRTY PIVSAASIIA\r\n",
      "\r\n",
      "          KVVRDRIVLE LREQYGD--- ----FGSGYP SDPKTRKWVE RLAKEGKPPP\r\n",
      "          KDKRDAIIEE LKEIHGD--- ----LGSGYP SDRKTIDFLR DWIKNKKEIP\r\n",
      "          KVNRDKEILF LKDKYGD--- ----FGSGYL SDKKTITFLK ECIKKNGEYP\r\n",
      "          KVERDRVISR LHEKYGN--- ----FGSGYP SDPKTVDFVR DLVKKNKKMP\r\n",
      "          KVVRDRIIEN IKKDVKKSDP NLPGLGSGYP SDPETKNFLR EYFMKYNEFS\r\n",
      "          KTRRDAEIAK IQTKYGE--- ----IGSGYP SDPVTIKFLE NWVQNHKNLP\r\n",
      "          KTTRDRLINE LEKVYGE--- ----FGTGYC HDPKTINFIN NWIQKHRSLP\r\n",
      "          KVERDRAISE YHKKYGD--- ----FGSGYP SDPKTVDFVT NLVRNNQKLP\r\n",
      "          KVERDSEIAK LADVYGD--- ----FGSGYP SDPRTISFLQ ECLNKFKGYP\r\n",
      "\r\n",
      "          TIIRRTWKLL QKSAPQY-YL EKVVSLGN\r\n",
      "          YFARKSWETI KKITEEE-LS NRKITDFF\r\n",
      "          ECVRKSWKPA MRIKNERGTK QTRLFES-\r\n",
      "          SIVRKSWDSV RKIIDDESA- --------\r\n",
      "          DYVRKSWSTI SNLTDI--LS QSNLDDF-\r\n",
      "          PFARKSWKTS QNILNNS-VR QRKITDF-\r\n",
      "          DIVRKSWVTS KNWVNK--FL QTKLT-F-\r\n",
      "          PIIRKSWESV RKILDEESAE QSTLD---\r\n",
      "          DFVRKSWKPA KKVADEKNSR QTKLT---\r\n"
     ]
    }
   ],
   "source": [
    "!cat OGfastas/alignedconcatenatedforspecies.phy"
   ]
  },
  {
   "cell_type": "code",
   "execution_count": 265,
   "metadata": {},
   "outputs": [
    {
     "name": "stdout",
     "output_type": "stream",
     "text": [
      "Sequence format is Pearson\n",
      "Sequence 1: Metallo-O   1878 aa\n",
      "Sequence 2: Lokiarc-I   1878 aa\n",
      "Sequence 3: Crenarc-O   1878 aa\n",
      "Sequence 4: ThorSMT-I   1878 aa\n",
      "Sequence 5: Heimdal-I   1878 aa\n",
      "Sequence 6: C.-Loki-I   1878 aa\n",
      "Sequence 7: C.-Odin-I   1878 aa\n",
      "Sequence 8: ThorAB2-I   1878 aa\n",
      "Sequence 9: C.Bathy-O   1878 aa\n",
      "Sequence format is Pearson\n",
      "Sequences assumed to be PROTEIN\n"
     ]
    }
   ],
   "source": [
    "!clustalx OGfastas/alignedconcatenatedforspecies.fasta"
   ]
  },
  {
   "cell_type": "code",
   "execution_count": 266,
   "metadata": {
    "scrolled": true
   },
   "outputs": [
    {
     "name": "stdout",
     "output_type": "stream",
     "text": [
      "\n",
      "\n",
      "\n",
      "\n",
      "\n",
      "\n",
      "                                 ..........................                                      \n",
      " ooooooooooooooooooooooooooooo        CURRENT SETTINGS        ooooooooooooooooooooooooooooooooooo\n",
      "                                 ..........................                                      \n",
      "\n",
      "                . Sequence filename:\t\t\t\t alignedconcatenatedforspecies.phy\n",
      "                . Data type:\t\t\t\t\t aa\n",
      "                . Alphabet size:\t\t\t\t 20\n",
      "                . Sequence format:\t\t\t\t interleaved\n",
      "                . Number of data sets:\t\t\t\t 1\n",
      "                . Nb of bootstrapped data sets:\t\t\t 0\n",
      "                . Compute approximate likelihood ratio test:\t yes (SH-like branch supports)\n",
      "                . Model name:\t\t\t\t\t LG\n",
      "                . Proportion of invariable sites:\t\t 0.000000\n",
      "                . Number of subst. rate categs:\t\t\t 4\n",
      "                . Gamma distribution parameter:\t\t\t estimated\n",
      "                . 'Middle' of each rate class:\t\t\t mean\n",
      "                . Amino acid equilibrium frequencies:\t\t model\n",
      "                . Optimise tree topology:\t\t\t yes\n",
      "                . Tree topology search:\t\t\t\t NNIs\n",
      "                . Starting tree:\t\t\t\t BioNJ\n",
      "                . Add random input tree:\t\t\t no\n",
      "                . Optimise branch lengths:\t\t\t yes\n",
      "                . Optimise substitution model parameters:\t yes\n",
      "                . Run ID:\t\t\t\t\t none\n",
      "                . Random seed:\t\t\t\t\t 1522590447\n",
      "                . Subtree patterns aliasing:\t\t\t no\n",
      "                . Version:\t\t\t\t\t 20120412\n",
      "\n",
      " oooooooooooooooooooooooooooooooooooooooooooooooooooooooooooooooooooooooooooooooooooooooooooooooo\n",
      "\n",
      "\n",
      "\n",
      ". 1547 patterns found (out of a total of 1878 sites). \n",
      "\n",
      ". 418 sites without polymorphism (22.26%).\n",
      "\n",
      ". Computing pairwise distances...\n",
      "\n",
      ". Building BioNJ tree...\n",
      "\n",
      ". This analysis requires at least 25 Mo of memory space.\n",
      "\n",
      ". Refining the input tree...\n",
      "\n",
      ". Maximizing likelihood (using NNI moves)...\n",
      "\n",
      ". (    4 sec) [    -25736.2567] [Alpha              ][  1.084618]\n",
      ". (    4 sec) [    -25736.2567] [Topology           ][# nnis=  1]\n",
      ". (    5 sec) [    -25726.6156] [Topology           ][# nnis=  0]\n",
      ". (    7 sec) [    -25723.0168] [Topology           ][# nnis=  0]\n",
      ". (    8 sec) [    -25722.0322] [Topology           ]\n",
      ". (    8 sec) [    -25721.8500] [Alpha              ][  1.053750]\n",
      ". (    8 sec) [    -25721.8500] [Topology           ][# nnis=  0]\n",
      ". (    9 sec) [    -25721.3889] [Topology           ][# nnis=  0]\n",
      ". (   11 sec) [    -25721.2074] [Topology           ]\n",
      ". (   11 sec) [    -25721.2074] [Branch lengths     ]\n",
      ". (   12 sec) [    -25721.0723] [Alpha              ][  1.040078]\n",
      ". (   12 sec) [    -25721.0723] [Branch lengths     ]\n",
      ". (   13 sec) [    -25721.0359] [Alpha              ][  1.037835]\n",
      ". (   13 sec) [    -25721.0359] [Branch lengths     ]\n",
      ". (   13 sec) [    -25721.0295] [Alpha              ][  1.036797]\n",
      ". (   14 sec) [    -25721.0295] [Branch lengths     ]\n",
      ". (   14 sec) [    -25721.0286] [Alpha              ][  1.036797]\n",
      ". (   15 sec) [    -25721.0286] [Alpha              ][  1.036797]\n",
      "\n",
      ". Checking for NNIs, optimizing five branches...\n",
      "\n",
      "\n",
      "\n",
      ". Log likelihood of the current tree: -25721.028584.\n",
      "\n",
      ". Compute fast branch supports on the most likely tree...\n",
      "\n",
      ". Printing the most likely tree in file 'alignedconcatenatedforspecies.phy_phyml_tree.txt'...\n",
      "\n",
      ". Time used 0h0m42s\n",
      "\n",
      "oooooooooooooooooooooooooooooooooooooooooooooooooooooooooooooooooooooooooooooooooooooooooooooooo\n"
     ]
    }
   ],
   "source": [
    "%PhyML -i OGfastas/alignedconcatenatedforspecies.phy -d aa -s BEST"
   ]
  },
  {
   "cell_type": "code",
   "execution_count": 271,
   "metadata": {
    "scrolled": false
   },
   "outputs": [
    {
     "name": "stdout",
     "output_type": "stream",
     "text": [
      "2\t1\r\n",
      "2\t2\r\n"
     ]
    }
   ],
   "source": [
    "Notung -g OGfastas/alignedconcatenatedforspecies.phy_phyml_tree.txt"
   ]
  },
  {
   "cell_type": "code",
   "execution_count": 438,
   "metadata": {
    "collapsed": true
   },
   "outputs": [],
   "source": [
    "def stringhits(stringlist):\n",
    "    tmp=[]\n",
    "    for string in stringlist:\n",
    "        alltaxa=SeqIO.parse(\"alltaxa.fasta\",\"fasta\")\n",
    "        for i in alltaxa:\n",
    "            if string.lower() in i.description.lower():\n",
    "                tmp+=[i.description]\n",
    "                \n",
    "    stringhits=[i[:10] for i in tmp]\n",
    "    global commonogs\n",
    "    commonogs=[]\n",
    "    for j in stringhits:\n",
    "        for og in range(len(orthogroups)):\n",
    "            if j in orthogroups[og]:\n",
    "                commonogs+=[og]\n",
    "    \n",
    "    plt.figure(figsize=[19,6])\n",
    "    sns.countplot(commonogs)\n",
    "    plt.title(\"Occurence of  '\"+\"' or '\".join(stringlist)+\"'  in different orthogroups\",fontsize=15)\n",
    "    plt.xlabel(\"Orthogroup ID\",fontsize=15)\n",
    "    plt.ylabel(\"count\",fontsize=15)\n",
    "    plt.xticks(fontsize=14)\n",
    "    plt.show()\n"
   ]
  },
  {
   "cell_type": "code",
   "execution_count": 443,
   "metadata": {},
   "outputs": [
    {
     "data": {
      "image/png": "[encoded data removed]",
      "text/plain": [
       "<matplotlib.figure.Figure at 0x7f805404b5f8>"
      ]
     },
     "metadata": {},
     "output_type": "display_data"
    }
   ],
   "source": [
    "stringhits([\"penicilin\",\"penicillin\"])"
   ]
  },
  {
   "cell_type": "code",
   "execution_count": 444,
   "metadata": {
    "scrolled": true
   },
   "outputs": [
    {
     "name": "stdout",
     "output_type": "stream",
     "text": [
      "10 proteins from 3 species in orthogroup number 379\n",
      "3 proteins from 2 species in orthogroup number 1866\n",
      "2 proteins from 2 species in orthogroup number 2291\n",
      "2 proteins from 2 species in orthogroup number 2294\n"
     ]
    }
   ],
   "source": [
    "allogs=pd.concat([parse(i) for i in set(commonogs)])"
   ]
  },
  {
   "cell_type": "code",
   "execution_count": 445,
   "metadata": {
    "scrolled": true
   },
   "outputs": [
    {
     "name": "stdout",
     "output_type": "stream",
     "text": [
      "{379, 1866, 2291, 2294}\n"
     ]
    },
    {
     "data": {
      "text/html": [
       "<div>\n",
       "<style>\n",
       "    .dataframe thead tr:only-child th {\n",
       "        text-align: right;\n",
       "    }\n",
       "\n",
       "    .dataframe thead th {\n",
       "        text-align: left;\n",
       "    }\n",
       "\n",
       "    .dataframe tbody tr th {\n",
       "        vertical-align: top;\n",
       "    }\n",
       "</style>\n",
       "<table border=\"1\" class=\"dataframe\">\n",
       "  <thead>\n",
       "    <tr style=\"text-align: left;\">\n",
       "      <th></th>\n",
       "      <th>id</th>\n",
       "      <th>protein</th>\n",
       "      <th>species</th>\n",
       "      <th>Orthogroup</th>\n",
       "    </tr>\n",
       "  </thead>\n",
       "  <tbody>\n",
       "    <tr>\n",
       "      <th>4</th>\n",
       "      <td>KKK45547.1</td>\n",
       "      <td>putative penicillin-binding protein PbpX</td>\n",
       "      <td>Lokiarchaeum sp. GC14_75</td>\n",
       "      <td>379</td>\n",
       "    </tr>\n",
       "    <tr>\n",
       "      <th>5</th>\n",
       "      <td>KKK45576.1</td>\n",
       "      <td>putative penicillin-binding protein PbpX</td>\n",
       "      <td>Lokiarchaeum sp. GC14_75</td>\n",
       "      <td>379</td>\n",
       "    </tr>\n",
       "    <tr>\n",
       "      <th>2</th>\n",
       "      <td>OLS22977.1</td>\n",
       "      <td>putative penicillin-binding protein PbpX</td>\n",
       "      <td>Candidatus Thorarchaeota archaeon AB_25</td>\n",
       "      <td>1866</td>\n",
       "    </tr>\n",
       "    <tr>\n",
       "      <th>0</th>\n",
       "      <td>OLS14029.1</td>\n",
       "      <td>penicilin amidase</td>\n",
       "      <td>Candidatus Lokiarchaeota archaeon CR_4</td>\n",
       "      <td>2291</td>\n",
       "    </tr>\n",
       "    <tr>\n",
       "      <th>1</th>\n",
       "      <td>OLS14006.1</td>\n",
       "      <td>putative penicillin-binding protein 2</td>\n",
       "      <td>Candidatus Lokiarchaeota archaeon CR_4</td>\n",
       "      <td>2294</td>\n",
       "    </tr>\n",
       "  </tbody>\n",
       "</table>\n",
       "</div>"
      ],
      "text/plain": [
       "  id           protein                                     \\\n",
       "4  KKK45547.1   putative penicillin-binding protein PbpX    \n",
       "5  KKK45576.1   putative penicillin-binding protein PbpX    \n",
       "2  OLS22977.1   putative penicillin-binding protein PbpX    \n",
       "0  OLS14029.1   penicilin amidase                           \n",
       "1  OLS14006.1   putative penicillin-binding protein 2       \n",
       "\n",
       "  species                                   Orthogroup  \n",
       "4  Lokiarchaeum sp. GC14_75                 379         \n",
       "5  Lokiarchaeum sp. GC14_75                 379         \n",
       "2  Candidatus Thorarchaeota archaeon AB_25  1866        \n",
       "0  Candidatus Lokiarchaeota archaeon CR_4   2291        \n",
       "1  Candidatus Lokiarchaeota archaeon CR_4   2294        "
      ]
     },
     "execution_count": 445,
     "metadata": {},
     "output_type": "execute_result"
    }
   ],
   "source": [
    "print(set(commonogs))\n",
    "penicillins=allogs[allogs.protein.str.contains(\"penicil\")].sort_values(by=\"Orthogroup\")\n",
    "penicillins"
   ]
  },
  {
   "cell_type": "code",
   "execution_count": 75,
   "metadata": {},
   "outputs": [
    {
     "data": {
      "image/png": "[encoded data removed]",
      "text/plain": [
       "<matplotlib.figure.Figure at 0x7f8092c126a0>"
      ]
     },
     "metadata": {},
     "output_type": "display_data"
    },
    {
     "data": {
      "image/png": "[encoded data removed]",
      "text/plain": [
       "<matplotlib.figure.Figure at 0x7f8055d5f5c0>"
      ]
     },
     "metadata": {},
     "output_type": "display_data"
    },
    {
     "data": {
      "image/png": "[encoded data removed]",
      "text/plain": [
       "<matplotlib.figure.Figure at 0x7f8055f686d8>"
      ]
     },
     "metadata": {},
     "output_type": "display_data"
    }
   ],
   "source": [
    "orthogroups=orthogroups14\n",
    "stringhits([\"penicilin\",\"penicillin\"])\n",
    "orthogroups=orthogroups15\n",
    "stringhits([\"penicilin\",\"penicillin\"])\n",
    "orthogroups=orthogroups1545\n",
    "stringhits([\"penicilin\",\"penicillin\"])"
   ]
  },
  {
   "cell_type": "code",
   "execution_count": 115,
   "metadata": {
    "scrolled": false
   },
   "outputs": [
    {
     "data": {
      "image/png": "[encoded data removed]",
      "text/plain": [
       "<matplotlib.figure.Figure at 0x7f8055367e48>"
      ]
     },
     "metadata": {},
     "output_type": "display_data"
    },
    {
     "name": "stdout",
     "output_type": "stream",
     "text": [
      "48\n",
      "162 proteins from 6 species in orthogroup number 0\n"
     ]
    },
    {
     "data": {
      "image/png": "[encoded data removed]",
      "text/plain": [
       "<matplotlib.figure.Figure at 0x7f8055d06860>"
      ]
     },
     "metadata": {},
     "output_type": "display_data"
    },
    {
     "name": "stdout",
     "output_type": "stream",
     "text": [
      "51\n",
      "156 proteins from 6 species in orthogroup number 0\n"
     ]
    },
    {
     "data": {
      "image/png": "[encoded data removed]",
      "text/plain": [
       "<matplotlib.figure.Figure at 0x7f8055b86a20>"
      ]
     },
     "metadata": {},
     "output_type": "display_data"
    },
    {
     "name": "stdout",
     "output_type": "stream",
     "text": [
      "70\n",
      "127 proteins from 6 species in orthogroup number 0\n"
     ]
    },
    {
     "data": {
      "image/png": "[encoded data removed]",
      "text/plain": [
       "<matplotlib.figure.Figure at 0x7f805e4e6e10>"
      ]
     },
     "metadata": {},
     "output_type": "display_data"
    },
    {
     "name": "stdout",
     "output_type": "stream",
     "text": [
      "46\n",
      "170 proteins from 7 species in orthogroup number 0\n"
     ]
    }
   ],
   "source": [
    "orthogroups=orthogroups14\n",
    "stringhits([\"gtp\"])\n",
    "print(len(set(commonogs)))\n",
    "gtp14=parse(0)\n",
    "orthogroups=orthogroups15\n",
    "stringhits([\"gtp\"])\n",
    "print(len(set(commonogs)))\n",
    "gtp15=parse(0)\n",
    "orthogroups=orthogroups1545\n",
    "stringhits([\"gtp\"])\n",
    "print(len(set(commonogs)))\n",
    "gtp1545=parse(0)\n",
    "orthogroups=orthogroups13\n",
    "stringhits([\"gtp\"])\n",
    "print(len(set(commonogs)))\n",
    "gtp13=parse(0)"
   ]
  },
  {
   "cell_type": "code",
   "execution_count": 330,
   "metadata": {},
   "outputs": [],
   "source": [
    "orthogroups=orthogroups15"
   ]
  },
  {
   "cell_type": "code",
   "execution_count": 608,
   "metadata": {},
   "outputs": [
    {
     "name": "stdout",
     "output_type": "stream",
     "text": [
      "1918\n"
     ]
    }
   ],
   "source": [
    "lists = [orthogroups15,orthogroups14,orthogroups13,orthogroups1545,orthogroups1345]\n",
    "sets = [set(tuple(x) for x in y) for y in lists]\n",
    "l=[list(i) for i in set.intersection(*sets) if len(i)>1]\n",
    "print(sum([1 for i in l]))\n",
    "robustogs=[]\n",
    "for j in l:\n",
    "    for i in range(len(orthogroups)):\n",
    "        if orthogroups[i]==j:\n",
    "            robustogs+=[i]"
   ]
  },
  {
   "cell_type": "code",
   "execution_count": 361,
   "metadata": {},
   "outputs": [
    {
     "name": "stdout",
     "output_type": "stream",
     "text": [
      "[390, 391, 393, 394, 395, 396, 399, 400, 401, 402, 403, 405, 406, 407, 410, 411, 412, 413, 414, 415, 416, 417, 418, 419, 420, 421, 422, 423, 426, 427, 428, 429, 430, 431, 432, 434, 435, 436, 437, 438, 440, 441, 443, 444, 446, 447, 448, 449, 450, 451, 452, 454, 455, 456, 457, 458, 459, 460, 461, 462, 464, 465, 466, 467, 468, 469, 470, 471, 472, 474, 475, 476, 477, 479, 480, 481, 482, 483, 484, 485, 486, 487, 488, 489, 490, 491, 492, 493, 494, 495, 496, 497, 498, 503, 504, 505, 508, 509, 510, 513, 514, 516, 518, 522]\n"
     ]
    }
   ],
   "source": [
    "print(sorted(robustogs)) #390,403,416,417,418,421"
   ]
  },
  {
   "cell_type": "code",
   "execution_count": 611,
   "metadata": {},
   "outputs": [
    {
     "name": "stdout",
     "output_type": "stream",
     "text": [
      "42 proteins from 9 species in orthogroup number 13\n"
     ]
    },
    {
     "data": {
      "text/html": [
       "<div>\n",
       "<style>\n",
       "    .dataframe thead tr:only-child th {\n",
       "        text-align: right;\n",
       "    }\n",
       "\n",
       "    .dataframe thead th {\n",
       "        text-align: left;\n",
       "    }\n",
       "\n",
       "    .dataframe tbody tr th {\n",
       "        vertical-align: top;\n",
       "    }\n",
       "</style>\n",
       "<table border=\"1\" class=\"dataframe\">\n",
       "  <thead>\n",
       "    <tr style=\"text-align: left;\">\n",
       "      <th></th>\n",
       "      <th>id</th>\n",
       "      <th>protein</th>\n",
       "      <th>species</th>\n",
       "      <th>Orthogroup</th>\n",
       "    </tr>\n",
       "  </thead>\n",
       "  <tbody>\n",
       "    <tr>\n",
       "      <th>30</th>\n",
       "      <td>OLS18697.1</td>\n",
       "      <td>Oligopeptide transport ATP-binding protein OppD</td>\n",
       "      <td>Candidatus Odinarchaeota archaeon LCB_4</td>\n",
       "      <td>13</td>\n",
       "    </tr>\n",
       "    <tr>\n",
       "      <th>33</th>\n",
       "      <td>OLS29464.1</td>\n",
       "      <td>Oligopeptide transport ATP-binding protein OppD</td>\n",
       "      <td>Candidatus Thorarchaeota archaeon AB_25</td>\n",
       "      <td>13</td>\n",
       "    </tr>\n",
       "    <tr>\n",
       "      <th>34</th>\n",
       "      <td>OLS30373.1</td>\n",
       "      <td>Oligopeptide transport ATP-binding protein OppD</td>\n",
       "      <td>Candidatus Thorarchaeota archaeon AB_25</td>\n",
       "      <td>13</td>\n",
       "    </tr>\n",
       "    <tr>\n",
       "      <th>36</th>\n",
       "      <td>OLS31081.1</td>\n",
       "      <td>Oligopeptide transport ATP-binding protein OppD</td>\n",
       "      <td>Candidatus Thorarchaeota archaeon AB_25</td>\n",
       "      <td>13</td>\n",
       "    </tr>\n",
       "    <tr>\n",
       "      <th>38</th>\n",
       "      <td>OLS31092.1</td>\n",
       "      <td>Oligopeptide transport ATP-binding protein OppD</td>\n",
       "      <td>Candidatus Thorarchaeota archaeon AB_25</td>\n",
       "      <td>13</td>\n",
       "    </tr>\n",
       "    <tr>\n",
       "      <th>39</th>\n",
       "      <td>OLS31097.1</td>\n",
       "      <td>Oligopeptide transport ATP-binding protein OppD</td>\n",
       "      <td>Candidatus Thorarchaeota archaeon AB_25</td>\n",
       "      <td>13</td>\n",
       "    </tr>\n",
       "    <tr>\n",
       "      <th>4</th>\n",
       "      <td>KKK40962.1</td>\n",
       "      <td>Oligopeptide transport ATP-binding protein OppD</td>\n",
       "      <td>Lokiarchaeum sp. GC14_75</td>\n",
       "      <td>13</td>\n",
       "    </tr>\n",
       "    <tr>\n",
       "      <th>6</th>\n",
       "      <td>KKK45598.1</td>\n",
       "      <td>Oligopeptide transport ATP-binding protein OppD</td>\n",
       "      <td>Lokiarchaeum sp. GC14_75</td>\n",
       "      <td>13</td>\n",
       "    </tr>\n",
       "    <tr>\n",
       "      <th>9</th>\n",
       "      <td>KKK45713.1</td>\n",
       "      <td>Oligopeptide transport ATP-binding protein OppD</td>\n",
       "      <td>Lokiarchaeum sp. GC14_75</td>\n",
       "      <td>13</td>\n",
       "    </tr>\n",
       "    <tr>\n",
       "      <th>31</th>\n",
       "      <td>OLS18698.1</td>\n",
       "      <td>Oligopeptide transport ATP-binding protein OppF</td>\n",
       "      <td>Candidatus Odinarchaeota archaeon LCB_4</td>\n",
       "      <td>13</td>\n",
       "    </tr>\n",
       "    <tr>\n",
       "      <th>32</th>\n",
       "      <td>OLS29463.1</td>\n",
       "      <td>Oligopeptide transport ATP-binding protein OppF</td>\n",
       "      <td>Candidatus Thorarchaeota archaeon AB_25</td>\n",
       "      <td>13</td>\n",
       "    </tr>\n",
       "    <tr>\n",
       "      <th>35</th>\n",
       "      <td>OLS30374.1</td>\n",
       "      <td>Oligopeptide transport ATP-binding protein OppF</td>\n",
       "      <td>Candidatus Thorarchaeota archaeon AB_25</td>\n",
       "      <td>13</td>\n",
       "    </tr>\n",
       "    <tr>\n",
       "      <th>37</th>\n",
       "      <td>OLS31091.1</td>\n",
       "      <td>Oligopeptide transport ATP-binding protein OppF</td>\n",
       "      <td>Candidatus Thorarchaeota archaeon AB_25</td>\n",
       "      <td>13</td>\n",
       "    </tr>\n",
       "    <tr>\n",
       "      <th>5</th>\n",
       "      <td>KKK40963.1</td>\n",
       "      <td>Oligopeptide transport ATP-binding protein OppF</td>\n",
       "      <td>Lokiarchaeum sp. GC14_75</td>\n",
       "      <td>13</td>\n",
       "    </tr>\n",
       "    <tr>\n",
       "      <th>7</th>\n",
       "      <td>KKK45599.1</td>\n",
       "      <td>Oligopeptide transport ATP-binding protein OppF</td>\n",
       "      <td>Lokiarchaeum sp. GC14_75</td>\n",
       "      <td>13</td>\n",
       "    </tr>\n",
       "    <tr>\n",
       "      <th>8</th>\n",
       "      <td>KKK45712.1</td>\n",
       "      <td>Oligopeptide transport ATP-binding protein OppF</td>\n",
       "      <td>Lokiarchaeum sp. GC14_75</td>\n",
       "      <td>13</td>\n",
       "    </tr>\n",
       "    <tr>\n",
       "      <th>12</th>\n",
       "      <td>KXH70678.1</td>\n",
       "      <td>dipeptide/oligopeptide/nickel ABC transporter ATP-binding protein</td>\n",
       "      <td>Candidatus Thorarchaeota archaeon SMTZ-45</td>\n",
       "      <td>13</td>\n",
       "    </tr>\n",
       "    <tr>\n",
       "      <th>16</th>\n",
       "      <td>KXH72897.1</td>\n",
       "      <td>dipeptide/oligopeptide/nickel ABC transporter ATP-binding protein</td>\n",
       "      <td>Candidatus Thorarchaeota archaeon SMTZ-45</td>\n",
       "      <td>13</td>\n",
       "    </tr>\n",
       "    <tr>\n",
       "      <th>10</th>\n",
       "      <td>KON33395.1</td>\n",
       "      <td>hypothetical protein AC479_04735</td>\n",
       "      <td>miscellaneous Crenarchaeota group-6 archaeon AD8-1</td>\n",
       "      <td>13</td>\n",
       "    </tr>\n",
       "    <tr>\n",
       "      <th>14</th>\n",
       "      <td>KXH72887.1</td>\n",
       "      <td>hypothetical protein AM326_00750</td>\n",
       "      <td>Candidatus Thorarchaeota archaeon SMTZ-45</td>\n",
       "      <td>13</td>\n",
       "    </tr>\n",
       "    <tr>\n",
       "      <th>18</th>\n",
       "      <td>KXH72906.1</td>\n",
       "      <td>hypothetical protein AM326_00845</td>\n",
       "      <td>Candidatus Thorarchaeota archaeon SMTZ-45</td>\n",
       "      <td>13</td>\n",
       "    </tr>\n",
       "    <tr>\n",
       "      <th>19</th>\n",
       "      <td>KXH72913.1</td>\n",
       "      <td>hypothetical protein AM326_00880</td>\n",
       "      <td>Candidatus Thorarchaeota archaeon SMTZ-45</td>\n",
       "      <td>13</td>\n",
       "    </tr>\n",
       "    <tr>\n",
       "      <th>20</th>\n",
       "      <td>KXH76652.1</td>\n",
       "      <td>hypothetical protein AM326_06815</td>\n",
       "      <td>Candidatus Thorarchaeota archaeon SMTZ-45</td>\n",
       "      <td>13</td>\n",
       "    </tr>\n",
       "    <tr>\n",
       "      <th>13</th>\n",
       "      <td>KXH70680.1</td>\n",
       "      <td>hypothetical protein AM326_12265</td>\n",
       "      <td>Candidatus Thorarchaeota archaeon SMTZ-45</td>\n",
       "      <td>13</td>\n",
       "    </tr>\n",
       "    <tr>\n",
       "      <th>23</th>\n",
       "      <td>MBS85757.1</td>\n",
       "      <td>hypothetical protein CME83_04300</td>\n",
       "      <td>Candidatus Heimdallarchaeota archaeon</td>\n",
       "      <td>13</td>\n",
       "    </tr>\n",
       "    <tr>\n",
       "      <th>40</th>\n",
       "      <td>PIU59511.1</td>\n",
       "      <td>hypothetical protein COS86_03845, partial</td>\n",
       "      <td>Candidatus Bathyarchaeota archaeon CG07_land_8_20_14_0_80_47_9</td>\n",
       "      <td>13</td>\n",
       "    </tr>\n",
       "    <tr>\n",
       "      <th>26</th>\n",
       "      <td>OLS13350.1</td>\n",
       "      <td>oligopeptide ABC transporter ATP-binding protein</td>\n",
       "      <td>Candidatus Lokiarchaeota archaeon CR_4</td>\n",
       "      <td>13</td>\n",
       "    </tr>\n",
       "    <tr>\n",
       "      <th>15</th>\n",
       "      <td>KXH72888.1</td>\n",
       "      <td>oligopeptide ABC transporter ATP-binding protein</td>\n",
       "      <td>Candidatus Thorarchaeota archaeon SMTZ-45</td>\n",
       "      <td>13</td>\n",
       "    </tr>\n",
       "    <tr>\n",
       "      <th>21</th>\n",
       "      <td>KXH76653.1</td>\n",
       "      <td>oligopeptide ABC transporter ATP-binding protein</td>\n",
       "      <td>Candidatus Thorarchaeota archaeon SMTZ-45</td>\n",
       "      <td>13</td>\n",
       "    </tr>\n",
       "    <tr>\n",
       "      <th>28</th>\n",
       "      <td>OLS15919.1</td>\n",
       "      <td>oligopeptide/dipeptide ABC transporter ATPase</td>\n",
       "      <td>Candidatus Lokiarchaeota archaeon CR_4</td>\n",
       "      <td>13</td>\n",
       "    </tr>\n",
       "    <tr>\n",
       "      <th>29</th>\n",
       "      <td>OLS15920.1</td>\n",
       "      <td>oligopeptide/dipeptide ABC transporter ATPase</td>\n",
       "      <td>Candidatus Lokiarchaeota archaeon CR_4</td>\n",
       "      <td>13</td>\n",
       "    </tr>\n",
       "    <tr>\n",
       "      <th>0</th>\n",
       "      <td>EHP69609.1</td>\n",
       "      <td>oligopeptide/dipeptide ABC transporter, ATP-binding protein</td>\n",
       "      <td>Metallosphaera yellowstonensis MK1</td>\n",
       "      <td>13</td>\n",
       "    </tr>\n",
       "    <tr>\n",
       "      <th>1</th>\n",
       "      <td>EHP69610.1</td>\n",
       "      <td>oligopeptide/dipeptide ABC transporter, ATP-binding protein</td>\n",
       "      <td>Metallosphaera yellowstonensis MK1</td>\n",
       "      <td>13</td>\n",
       "    </tr>\n",
       "    <tr>\n",
       "      <th>2</th>\n",
       "      <td>EHP71109.1</td>\n",
       "      <td>oligopeptide/dipeptide ABC transporter, ATP-binding protein</td>\n",
       "      <td>Metallosphaera yellowstonensis MK1</td>\n",
       "      <td>13</td>\n",
       "    </tr>\n",
       "    <tr>\n",
       "      <th>3</th>\n",
       "      <td>EHP71110.1</td>\n",
       "      <td>oligopeptide/dipeptide ABC transporter, ATP-binding protein</td>\n",
       "      <td>Metallosphaera yellowstonensis MK1</td>\n",
       "      <td>13</td>\n",
       "    </tr>\n",
       "    <tr>\n",
       "      <th>22</th>\n",
       "      <td>MBS85755.1</td>\n",
       "      <td>peptide ABC transporter ATP-binding protein</td>\n",
       "      <td>Candidatus Heimdallarchaeota archaeon</td>\n",
       "      <td>13</td>\n",
       "    </tr>\n",
       "    <tr>\n",
       "      <th>25</th>\n",
       "      <td>MBS85978.1</td>\n",
       "      <td>peptide ABC transporter ATP-binding protein</td>\n",
       "      <td>Candidatus Heimdallarchaeota archaeon</td>\n",
       "      <td>13</td>\n",
       "    </tr>\n",
       "    <tr>\n",
       "      <th>11</th>\n",
       "      <td>KON33396.1</td>\n",
       "      <td>peptide ABC transporter ATP-binding protein</td>\n",
       "      <td>miscellaneous Crenarchaeota group-6 archaeon AD8-1</td>\n",
       "      <td>13</td>\n",
       "    </tr>\n",
       "    <tr>\n",
       "      <th>41</th>\n",
       "      <td>PIU59512.1</td>\n",
       "      <td>peptide ABC transporter substrate-binding protein</td>\n",
       "      <td>Candidatus Bathyarchaeota archaeon CG07_land_8_20_14_0_80_47_9</td>\n",
       "      <td>13</td>\n",
       "    </tr>\n",
       "    <tr>\n",
       "      <th>24</th>\n",
       "      <td>MBS85975.1</td>\n",
       "      <td>peptide ABC transporter substrate-binding protein</td>\n",
       "      <td>Candidatus Heimdallarchaeota archaeon</td>\n",
       "      <td>13</td>\n",
       "    </tr>\n",
       "    <tr>\n",
       "      <th>17</th>\n",
       "      <td>KXH72898.1</td>\n",
       "      <td>peptide ABC transporter substrate-binding protein</td>\n",
       "      <td>Candidatus Thorarchaeota archaeon SMTZ-45</td>\n",
       "      <td>13</td>\n",
       "    </tr>\n",
       "    <tr>\n",
       "      <th>27</th>\n",
       "      <td>OLS15743.1</td>\n",
       "      <td>putative ABC-type peptide transport system, ATPase component 1</td>\n",
       "      <td>Candidatus Lokiarchaeota archaeon CR_4</td>\n",
       "      <td>13</td>\n",
       "    </tr>\n",
       "  </tbody>\n",
       "</table>\n",
       "</div>"
      ],
      "text/plain": [
       "   id            \\\n",
       "30  OLS18697.1    \n",
       "33  OLS29464.1    \n",
       "34  OLS30373.1    \n",
       "36  OLS31081.1    \n",
       "38  OLS31092.1    \n",
       "39  OLS31097.1    \n",
       "4   KKK40962.1    \n",
       "6   KKK45598.1    \n",
       "9   KKK45713.1    \n",
       "31  OLS18698.1    \n",
       "32  OLS29463.1    \n",
       "35  OLS30374.1    \n",
       "37  OLS31091.1    \n",
       "5   KKK40963.1    \n",
       "7   KKK45599.1    \n",
       "8   KKK45712.1    \n",
       "12  KXH70678.1    \n",
       "16  KXH72897.1    \n",
       "10  KON33395.1    \n",
       "14  KXH72887.1    \n",
       "18  KXH72906.1    \n",
       "19  KXH72913.1    \n",
       "20  KXH76652.1    \n",
       "13  KXH70680.1    \n",
       "23  MBS85757.1    \n",
       "40  PIU59511.1    \n",
       "26  OLS13350.1    \n",
       "15  KXH72888.1    \n",
       "21  KXH76653.1    \n",
       "28  OLS15919.1    \n",
       "29  OLS15920.1    \n",
       "0   EHP69609.1    \n",
       "1   EHP69610.1    \n",
       "2   EHP71109.1    \n",
       "3   EHP71110.1    \n",
       "22  MBS85755.1    \n",
       "25  MBS85978.1    \n",
       "11  KON33396.1    \n",
       "41  PIU59512.1    \n",
       "24  MBS85975.1    \n",
       "17  KXH72898.1    \n",
       "27  OLS15743.1    \n",
       "\n",
       "   protein                                                              \\\n",
       "30  Oligopeptide transport ATP-binding protein OppD                      \n",
       "33  Oligopeptide transport ATP-binding protein OppD                      \n",
       "34  Oligopeptide transport ATP-binding protein OppD                      \n",
       "36  Oligopeptide transport ATP-binding protein OppD                      \n",
       "38  Oligopeptide transport ATP-binding protein OppD                      \n",
       "39  Oligopeptide transport ATP-binding protein OppD                      \n",
       "4   Oligopeptide transport ATP-binding protein OppD                      \n",
       "6   Oligopeptide transport ATP-binding protein OppD                      \n",
       "9   Oligopeptide transport ATP-binding protein OppD                      \n",
       "31  Oligopeptide transport ATP-binding protein OppF                      \n",
       "32  Oligopeptide transport ATP-binding protein OppF                      \n",
       "35  Oligopeptide transport ATP-binding protein OppF                      \n",
       "37  Oligopeptide transport ATP-binding protein OppF                      \n",
       "5   Oligopeptide transport ATP-binding protein OppF                      \n",
       "7   Oligopeptide transport ATP-binding protein OppF                      \n",
       "8   Oligopeptide transport ATP-binding protein OppF                      \n",
       "12  dipeptide/oligopeptide/nickel ABC transporter ATP-binding protein    \n",
       "16  dipeptide/oligopeptide/nickel ABC transporter ATP-binding protein    \n",
       "10  hypothetical protein AC479_04735                                     \n",
       "14  hypothetical protein AM326_00750                                     \n",
       "18  hypothetical protein AM326_00845                                     \n",
       "19  hypothetical protein AM326_00880                                     \n",
       "20  hypothetical protein AM326_06815                                     \n",
       "13  hypothetical protein AM326_12265                                     \n",
       "23  hypothetical protein CME83_04300                                     \n",
       "40  hypothetical protein COS86_03845, partial                            \n",
       "26  oligopeptide ABC transporter ATP-binding protein                     \n",
       "15  oligopeptide ABC transporter ATP-binding protein                     \n",
       "21  oligopeptide ABC transporter ATP-binding protein                     \n",
       "28  oligopeptide/dipeptide ABC transporter ATPase                        \n",
       "29  oligopeptide/dipeptide ABC transporter ATPase                        \n",
       "0   oligopeptide/dipeptide ABC transporter, ATP-binding protein          \n",
       "1   oligopeptide/dipeptide ABC transporter, ATP-binding protein          \n",
       "2   oligopeptide/dipeptide ABC transporter, ATP-binding protein          \n",
       "3   oligopeptide/dipeptide ABC transporter, ATP-binding protein          \n",
       "22  peptide ABC transporter ATP-binding protein                          \n",
       "25  peptide ABC transporter ATP-binding protein                          \n",
       "11  peptide ABC transporter ATP-binding protein                          \n",
       "41  peptide ABC transporter substrate-binding protein                    \n",
       "24  peptide ABC transporter substrate-binding protein                    \n",
       "17  peptide ABC transporter substrate-binding protein                    \n",
       "27  putative ABC-type peptide transport system, ATPase component 1       \n",
       "\n",
       "   species                                                          Orthogroup  \n",
       "30  Candidatus Odinarchaeota archaeon LCB_4                         13          \n",
       "33  Candidatus Thorarchaeota archaeon AB_25                         13          \n",
       "34  Candidatus Thorarchaeota archaeon AB_25                         13          \n",
       "36  Candidatus Thorarchaeota archaeon AB_25                         13          \n",
       "38  Candidatus Thorarchaeota archaeon AB_25                         13          \n",
       "39  Candidatus Thorarchaeota archaeon AB_25                         13          \n",
       "4   Lokiarchaeum sp. GC14_75                                        13          \n",
       "6   Lokiarchaeum sp. GC14_75                                        13          \n",
       "9   Lokiarchaeum sp. GC14_75                                        13          \n",
       "31  Candidatus Odinarchaeota archaeon LCB_4                         13          \n",
       "32  Candidatus Thorarchaeota archaeon AB_25                         13          \n",
       "35  Candidatus Thorarchaeota archaeon AB_25                         13          \n",
       "37  Candidatus Thorarchaeota archaeon AB_25                         13          \n",
       "5   Lokiarchaeum sp. GC14_75                                        13          \n",
       "7   Lokiarchaeum sp. GC14_75                                        13          \n",
       "8   Lokiarchaeum sp. GC14_75                                        13          \n",
       "12  Candidatus Thorarchaeota archaeon SMTZ-45                       13          \n",
       "16  Candidatus Thorarchaeota archaeon SMTZ-45                       13          \n",
       "10  miscellaneous Crenarchaeota group-6 archaeon AD8-1              13          \n",
       "14  Candidatus Thorarchaeota archaeon SMTZ-45                       13          \n",
       "18  Candidatus Thorarchaeota archaeon SMTZ-45                       13          \n",
       "19  Candidatus Thorarchaeota archaeon SMTZ-45                       13          \n",
       "20  Candidatus Thorarchaeota archaeon SMTZ-45                       13          \n",
       "13  Candidatus Thorarchaeota archaeon SMTZ-45                       13          \n",
       "23  Candidatus Heimdallarchaeota archaeon                           13          \n",
       "40  Candidatus Bathyarchaeota archaeon CG07_land_8_20_14_0_80_47_9  13          \n",
       "26  Candidatus Lokiarchaeota archaeon CR_4                          13          \n",
       "15  Candidatus Thorarchaeota archaeon SMTZ-45                       13          \n",
       "21  Candidatus Thorarchaeota archaeon SMTZ-45                       13          \n",
       "28  Candidatus Lokiarchaeota archaeon CR_4                          13          \n",
       "29  Candidatus Lokiarchaeota archaeon CR_4                          13          \n",
       "0   Metallosphaera yellowstonensis MK1                              13          \n",
       "1   Metallosphaera yellowstonensis MK1                              13          \n",
       "2   Metallosphaera yellowstonensis MK1                              13          \n",
       "3   Metallosphaera yellowstonensis MK1                              13          \n",
       "22  Candidatus Heimdallarchaeota archaeon                           13          \n",
       "25  Candidatus Heimdallarchaeota archaeon                           13          \n",
       "11  miscellaneous Crenarchaeota group-6 archaeon AD8-1              13          \n",
       "41  Candidatus Bathyarchaeota archaeon CG07_land_8_20_14_0_80_47_9  13          \n",
       "24  Candidatus Heimdallarchaeota archaeon                           13          \n",
       "17  Candidatus Thorarchaeota archaeon SMTZ-45                       13          \n",
       "27  Candidatus Lokiarchaeota archaeon CR_4                          13          "
      ]
     },
     "execution_count": 611,
     "metadata": {},
     "output_type": "execute_result"
    }
   ],
   "source": [
    "parse(13)"
   ]
  },
  {
   "cell_type": "code",
   "execution_count": 387,
   "metadata": {},
   "outputs": [],
   "source": [
    "singlecopyorthogroups=['OG0000390', 'OG0000391', 'OG0000394', 'OG0000400', 'OG0000403', 'OG0000413', 'OG0000416', 'OG0000417', 'OG0000418', 'OG0000421', 'OG0000422', 'OG0000427', 'OG0000430', 'OG0000431', 'OG0000433', 'OG0000434', 'OG0000437', 'OG0000438', 'OG0000441', 'OG0000448', 'OG0000449', 'OG0000450', 'OG0000451', 'OG0000454', 'OG0000459', 'OG0000462', 'OG0000465', 'OG0000467', 'OG0000468', 'OG0000471', 'OG0000476', 'OG0000485', 'OG0000487', 'OG0000488', 'OG0000489', 'OG0000491', 'OG0000492', 'OG0000493']\n",
    "singlecopyorthogroups=[int(i[-3:]) for i in singlecopyorthogroups]"
   ]
  },
  {
   "cell_type": "code",
   "execution_count": 434,
   "metadata": {
    "collapsed": true
   },
   "outputs": [],
   "source": [
    "orthogroups=orthogroups15"
   ]
  },
  {
   "cell_type": "code",
   "execution_count": null,
   "metadata": {
    "collapsed": true
   },
   "outputs": [],
   "source": [
    "#ychf, L-aspartate oxidase"
   ]
  },
  {
   "cell_type": "code",
   "execution_count": 535,
   "metadata": {},
   "outputs": [
    {
     "data": {
      "image/png": "[encoded data removed]",
      "text/plain": [
       "<matplotlib.figure.Figure at 0x7f8051ee8748>"
      ]
     },
     "metadata": {},
     "output_type": "display_data"
    }
   ],
   "source": [
    "stringhits([\"succinate\"]) "
   ]
  },
  {
   "cell_type": "code",
   "execution_count": 449,
   "metadata": {},
   "outputs": [
    {
     "name": "stdout",
     "output_type": "stream",
     "text": [
      "10 proteins from 6 species in orthogroup number 369\n"
     ]
    },
    {
     "data": {
      "text/html": [
       "<div>\n",
       "<style>\n",
       "    .dataframe thead tr:only-child th {\n",
       "        text-align: right;\n",
       "    }\n",
       "\n",
       "    .dataframe thead th {\n",
       "        text-align: left;\n",
       "    }\n",
       "\n",
       "    .dataframe tbody tr th {\n",
       "        vertical-align: top;\n",
       "    }\n",
       "</style>\n",
       "<table border=\"1\" class=\"dataframe\">\n",
       "  <thead>\n",
       "    <tr style=\"text-align: left;\">\n",
       "      <th></th>\n",
       "      <th>id</th>\n",
       "      <th>protein</th>\n",
       "      <th>species</th>\n",
       "      <th>Orthogroup</th>\n",
       "    </tr>\n",
       "  </thead>\n",
       "  <tbody>\n",
       "    <tr>\n",
       "      <th>5</th>\n",
       "      <td>OLS16107.1</td>\n",
       "      <td>L-aspartate oxidase</td>\n",
       "      <td>Candidatus Lokiarchaeota archaeon CR_4</td>\n",
       "      <td>369</td>\n",
       "    </tr>\n",
       "    <tr>\n",
       "      <th>6</th>\n",
       "      <td>OLS21048.1</td>\n",
       "      <td>L-aspartate oxidase</td>\n",
       "      <td>Candidatus Thorarchaeota archaeon AB_25</td>\n",
       "      <td>369</td>\n",
       "    </tr>\n",
       "    <tr>\n",
       "      <th>3</th>\n",
       "      <td>KKK45769.1</td>\n",
       "      <td>L-aspartate oxidase</td>\n",
       "      <td>Lokiarchaeum sp. GC14_75</td>\n",
       "      <td>369</td>\n",
       "    </tr>\n",
       "    <tr>\n",
       "      <th>7</th>\n",
       "      <td>OLS29491.1</td>\n",
       "      <td>Succinate dehydrogenase flavoprotein subunit</td>\n",
       "      <td>Candidatus Thorarchaeota archaeon AB_25</td>\n",
       "      <td>369</td>\n",
       "    </tr>\n",
       "    <tr>\n",
       "      <th>8</th>\n",
       "      <td>OLS30198.1</td>\n",
       "      <td>Succinate dehydrogenase flavoprotein subunit</td>\n",
       "      <td>Candidatus Thorarchaeota archaeon AB_25</td>\n",
       "      <td>369</td>\n",
       "    </tr>\n",
       "    <tr>\n",
       "      <th>2</th>\n",
       "      <td>KKK42519.1</td>\n",
       "      <td>Succinate dehydrogenase flavoprotein subunit</td>\n",
       "      <td>Lokiarchaeum sp. GC14_75</td>\n",
       "      <td>369</td>\n",
       "    </tr>\n",
       "    <tr>\n",
       "      <th>9</th>\n",
       "      <td>PIU58752.1</td>\n",
       "      <td>fumarate reductase (quinol) flavoprotein subunit</td>\n",
       "      <td>Candidatus Bathyarchaeota archaeon CG07_land_8_20_14_0_80_47_9</td>\n",
       "      <td>369</td>\n",
       "    </tr>\n",
       "    <tr>\n",
       "      <th>4</th>\n",
       "      <td>MBS85482.1</td>\n",
       "      <td>fumarate reductase/succinate dehydrogenase flavoprotein subunit</td>\n",
       "      <td>Candidatus Heimdallarchaeota archaeon</td>\n",
       "      <td>369</td>\n",
       "    </tr>\n",
       "    <tr>\n",
       "      <th>0</th>\n",
       "      <td>EHP70689.1</td>\n",
       "      <td>ubiquinone-dependent succinate dehydrogenase or fumarate reductase, flavoprotein subunit</td>\n",
       "      <td>Metallosphaera yellowstonensis MK1</td>\n",
       "      <td>369</td>\n",
       "    </tr>\n",
       "    <tr>\n",
       "      <th>1</th>\n",
       "      <td>EHP71291.1</td>\n",
       "      <td>ubiquinone-dependent succinate dehydrogenase or fumarate reductase, flavoprotein subunit</td>\n",
       "      <td>Metallosphaera yellowstonensis MK1</td>\n",
       "      <td>369</td>\n",
       "    </tr>\n",
       "  </tbody>\n",
       "</table>\n",
       "</div>"
      ],
      "text/plain": [
       "  id            \\\n",
       "5  OLS16107.1    \n",
       "6  OLS21048.1    \n",
       "3  KKK45769.1    \n",
       "7  OLS29491.1    \n",
       "8  OLS30198.1    \n",
       "2  KKK42519.1    \n",
       "9  PIU58752.1    \n",
       "4  MBS85482.1    \n",
       "0  EHP70689.1    \n",
       "1  EHP71291.1    \n",
       "\n",
       "  protein                                                                                     \\\n",
       "5  L-aspartate oxidase                                                                         \n",
       "6  L-aspartate oxidase                                                                         \n",
       "3  L-aspartate oxidase                                                                         \n",
       "7  Succinate dehydrogenase flavoprotein subunit                                                \n",
       "8  Succinate dehydrogenase flavoprotein subunit                                                \n",
       "2  Succinate dehydrogenase flavoprotein subunit                                                \n",
       "9  fumarate reductase (quinol) flavoprotein subunit                                            \n",
       "4  fumarate reductase/succinate dehydrogenase flavoprotein subunit                             \n",
       "0  ubiquinone-dependent succinate dehydrogenase or fumarate reductase, flavoprotein subunit    \n",
       "1  ubiquinone-dependent succinate dehydrogenase or fumarate reductase, flavoprotein subunit    \n",
       "\n",
       "  species                                                          Orthogroup  \n",
       "5  Candidatus Lokiarchaeota archaeon CR_4                          369         \n",
       "6  Candidatus Thorarchaeota archaeon AB_25                         369         \n",
       "3  Lokiarchaeum sp. GC14_75                                        369         \n",
       "7  Candidatus Thorarchaeota archaeon AB_25                         369         \n",
       "8  Candidatus Thorarchaeota archaeon AB_25                         369         \n",
       "2  Lokiarchaeum sp. GC14_75                                        369         \n",
       "9  Candidatus Bathyarchaeota archaeon CG07_land_8_20_14_0_80_47_9  369         \n",
       "4  Candidatus Heimdallarchaeota archaeon                           369         \n",
       "0  Metallosphaera yellowstonensis MK1                              369         \n",
       "1  Metallosphaera yellowstonensis MK1                              369         "
      ]
     },
     "execution_count": 449,
     "metadata": {},
     "output_type": "execute_result"
    }
   ],
   "source": [
    "parse(369)"
   ]
  },
  {
   "cell_type": "code",
   "execution_count": 448,
   "metadata": {},
   "outputs": [
    {
     "name": "stdout",
     "output_type": "stream",
     "text": [
      "8 proteins from 7 species in orthogroup number 578\n"
     ]
    },
    {
     "data": {
      "text/html": [
       "<div>\n",
       "<style>\n",
       "    .dataframe thead tr:only-child th {\n",
       "        text-align: right;\n",
       "    }\n",
       "\n",
       "    .dataframe thead th {\n",
       "        text-align: left;\n",
       "    }\n",
       "\n",
       "    .dataframe tbody tr th {\n",
       "        vertical-align: top;\n",
       "    }\n",
       "</style>\n",
       "<table border=\"1\" class=\"dataframe\">\n",
       "  <thead>\n",
       "    <tr style=\"text-align: left;\">\n",
       "      <th></th>\n",
       "      <th>id</th>\n",
       "      <th>protein</th>\n",
       "      <th>species</th>\n",
       "      <th>Orthogroup</th>\n",
       "    </tr>\n",
       "  </thead>\n",
       "  <tbody>\n",
       "    <tr>\n",
       "      <th>5</th>\n",
       "      <td>OLS17906.1</td>\n",
       "      <td>Ribosome-binding ATPase YchF</td>\n",
       "      <td>Candidatus Odinarchaeota archaeon LCB_4</td>\n",
       "      <td>578</td>\n",
       "    </tr>\n",
       "    <tr>\n",
       "      <th>6</th>\n",
       "      <td>OLS28338.1</td>\n",
       "      <td>Ribosome-binding ATPase YchF</td>\n",
       "      <td>Candidatus Thorarchaeota archaeon AB_25</td>\n",
       "      <td>578</td>\n",
       "    </tr>\n",
       "    <tr>\n",
       "      <th>1</th>\n",
       "      <td>KKK42550.1</td>\n",
       "      <td>Ribosome-binding ATPase YchF</td>\n",
       "      <td>Lokiarchaeum sp. GC14_75</td>\n",
       "      <td>578</td>\n",
       "    </tr>\n",
       "    <tr>\n",
       "      <th>2</th>\n",
       "      <td>KON32962.1</td>\n",
       "      <td>hypothetical protein AC479_06170</td>\n",
       "      <td>miscellaneous Crenarchaeota group-6 archaeon AD8-1</td>\n",
       "      <td>578</td>\n",
       "    </tr>\n",
       "    <tr>\n",
       "      <th>4</th>\n",
       "      <td>KXH70566.1</td>\n",
       "      <td>hypothetical protein AM326_04170</td>\n",
       "      <td>Candidatus Thorarchaeota archaeon SMTZ-45</td>\n",
       "      <td>578</td>\n",
       "    </tr>\n",
       "    <tr>\n",
       "      <th>0</th>\n",
       "      <td>EHP69451.1</td>\n",
       "      <td>putative GTPase, probable translation factor</td>\n",
       "      <td>Metallosphaera yellowstonensis MK1</td>\n",
       "      <td>578</td>\n",
       "    </tr>\n",
       "    <tr>\n",
       "      <th>7</th>\n",
       "      <td>PIU59358.1</td>\n",
       "      <td>redox-regulated ATPase YchF</td>\n",
       "      <td>Candidatus Bathyarchaeota archaeon CG07_land_8_20_14_0_80_47_9</td>\n",
       "      <td>578</td>\n",
       "    </tr>\n",
       "    <tr>\n",
       "      <th>3</th>\n",
       "      <td>KON34017.1</td>\n",
       "      <td>translation-associated GTPase</td>\n",
       "      <td>miscellaneous Crenarchaeota group-6 archaeon AD8-1</td>\n",
       "      <td>578</td>\n",
       "    </tr>\n",
       "  </tbody>\n",
       "</table>\n",
       "</div>"
      ],
      "text/plain": [
       "  id           protein                                         \\\n",
       "5  OLS17906.1   Ribosome-binding ATPase YchF                    \n",
       "6  OLS28338.1   Ribosome-binding ATPase YchF                    \n",
       "1  KKK42550.1   Ribosome-binding ATPase YchF                    \n",
       "2  KON32962.1   hypothetical protein AC479_06170                \n",
       "4  KXH70566.1   hypothetical protein AM326_04170                \n",
       "0  EHP69451.1   putative GTPase, probable translation factor    \n",
       "7  PIU59358.1   redox-regulated ATPase YchF                     \n",
       "3  KON34017.1   translation-associated GTPase                   \n",
       "\n",
       "  species                                                          Orthogroup  \n",
       "5  Candidatus Odinarchaeota archaeon LCB_4                         578         \n",
       "6  Candidatus Thorarchaeota archaeon AB_25                         578         \n",
       "1  Lokiarchaeum sp. GC14_75                                        578         \n",
       "2  miscellaneous Crenarchaeota group-6 archaeon AD8-1              578         \n",
       "4  Candidatus Thorarchaeota archaeon SMTZ-45                       578         \n",
       "0  Metallosphaera yellowstonensis MK1                              578         \n",
       "7  Candidatus Bathyarchaeota archaeon CG07_land_8_20_14_0_80_47_9  578         \n",
       "3  miscellaneous Crenarchaeota group-6 archaeon AD8-1              578         "
      ]
     },
     "execution_count": 448,
     "metadata": {},
     "output_type": "execute_result"
    }
   ],
   "source": [
    "parse(578)"
   ]
  },
  {
   "cell_type": "code",
   "execution_count": 184,
   "metadata": {},
   "outputs": [
    {
     "name": "stdout",
     "output_type": "stream",
     "text": [
      "11013\n"
     ]
    },
    {
     "data": {
      "image/png": "[encoded data removed]",
      "text/plain": [
       "<matplotlib.figure.Figure at 0x7f8055c29a20>"
      ]
     },
     "metadata": {},
     "output_type": "display_data"
    }
   ],
   "source": [
    "#orthogroups=orthogroups1545\n",
    "print(len(orthogroups))\n",
    "stringhits([\"ercc4\"])\n",
    "#ercc4 lipoate\n"
   ]
  },
  {
   "cell_type": "code",
   "execution_count": 39,
   "metadata": {},
   "outputs": [
    {
     "data": {
      "image/png": "[encoded data removed]",
      "text/plain": [
       "<matplotlib.figure.Figure at 0x7f8055cd3eb8>"
      ]
     },
     "metadata": {},
     "output_type": "display_data"
    },
    {
     "data": {
      "image/png": "[encoded data removed]",
      "text/plain": [
       "<matplotlib.figure.Figure at 0x7f8055ce1c18>"
      ]
     },
     "metadata": {},
     "output_type": "display_data"
    }
   ],
   "source": [
    "orthogroups=orthogroups14\n",
    "stringhits([\"phosphodiesterase\"])\n",
    "orthogroups=orthogroups15\n",
    "stringhits([\"phosphodiesterase\"])"
   ]
  },
  {
   "cell_type": "code",
   "execution_count": 604,
   "metadata": {},
   "outputs": [
    {
     "data": {
      "image/png": "[encoded data removed]",
      "text/plain": [
       "<matplotlib.figure.Figure at 0x7f80537fd898>"
      ]
     },
     "metadata": {},
     "output_type": "display_data"
    }
   ],
   "source": [
    "stringhits([\"riboph\"])"
   ]
  },
  {
   "cell_type": "code",
   "execution_count": 564,
   "metadata": {},
   "outputs": [
    {
     "data": {
      "text/plain": [
       "True"
      ]
     },
     "execution_count": 564,
     "metadata": {},
     "output_type": "execute_result"
    }
   ],
   "source": [
    "395 in robustogs"
   ]
  },
  {
   "cell_type": "code",
   "execution_count": 605,
   "metadata": {},
   "outputs": [
    {
     "name": "stdout",
     "output_type": "stream",
     "text": [
      "6 proteins from 6 species in orthogroup number 845\n"
     ]
    },
    {
     "data": {
      "text/html": [
       "<div>\n",
       "<style>\n",
       "    .dataframe thead tr:only-child th {\n",
       "        text-align: right;\n",
       "    }\n",
       "\n",
       "    .dataframe thead th {\n",
       "        text-align: left;\n",
       "    }\n",
       "\n",
       "    .dataframe tbody tr th {\n",
       "        vertical-align: top;\n",
       "    }\n",
       "</style>\n",
       "<table border=\"1\" class=\"dataframe\">\n",
       "  <thead>\n",
       "    <tr style=\"text-align: left;\">\n",
       "      <th></th>\n",
       "      <th>id</th>\n",
       "      <th>protein</th>\n",
       "      <th>species</th>\n",
       "      <th>Orthogroup</th>\n",
       "    </tr>\n",
       "  </thead>\n",
       "  <tbody>\n",
       "    <tr>\n",
       "      <th>0</th>\n",
       "      <td>KKK41353.1</td>\n",
       "      <td>Ribophorin 1 superfamily protein</td>\n",
       "      <td>Lokiarchaeum sp. GC14_75</td>\n",
       "      <td>845</td>\n",
       "    </tr>\n",
       "    <tr>\n",
       "      <th>1</th>\n",
       "      <td>MBS85441.1</td>\n",
       "      <td>hypothetical protein CME83_02620</td>\n",
       "      <td>Candidatus Heimdallarchaeota archaeon</td>\n",
       "      <td>845</td>\n",
       "    </tr>\n",
       "    <tr>\n",
       "      <th>5</th>\n",
       "      <td>PIU59598.1</td>\n",
       "      <td>hypothetical protein COS86_03355</td>\n",
       "      <td>Candidatus Bathyarchaeota archaeon CG07_land_8_20_14_0_80_47_9</td>\n",
       "      <td>845</td>\n",
       "    </tr>\n",
       "    <tr>\n",
       "      <th>3</th>\n",
       "      <td>OLS17937.1</td>\n",
       "      <td>hypothetical protein OdinLCB4_11710</td>\n",
       "      <td>Candidatus Odinarchaeota archaeon LCB_4</td>\n",
       "      <td>845</td>\n",
       "    </tr>\n",
       "    <tr>\n",
       "      <th>2</th>\n",
       "      <td>OLS13459.1</td>\n",
       "      <td>hypothetical protein RBG13Loki_2913</td>\n",
       "      <td>Candidatus Lokiarchaeota archaeon CR_4</td>\n",
       "      <td>845</td>\n",
       "    </tr>\n",
       "    <tr>\n",
       "      <th>4</th>\n",
       "      <td>OLS31459.1</td>\n",
       "      <td>hypothetical protein ThorAB25_02870</td>\n",
       "      <td>Candidatus Thorarchaeota archaeon AB_25</td>\n",
       "      <td>845</td>\n",
       "    </tr>\n",
       "  </tbody>\n",
       "</table>\n",
       "</div>"
      ],
      "text/plain": [
       "  id           protein                                \\\n",
       "0  KKK41353.1   Ribophorin 1 superfamily protein       \n",
       "1  MBS85441.1   hypothetical protein CME83_02620       \n",
       "5  PIU59598.1   hypothetical protein COS86_03355       \n",
       "3  OLS17937.1   hypothetical protein OdinLCB4_11710    \n",
       "2  OLS13459.1   hypothetical protein RBG13Loki_2913    \n",
       "4  OLS31459.1   hypothetical protein ThorAB25_02870    \n",
       "\n",
       "  species                                                          Orthogroup  \n",
       "0  Lokiarchaeum sp. GC14_75                                        845         \n",
       "1  Candidatus Heimdallarchaeota archaeon                           845         \n",
       "5  Candidatus Bathyarchaeota archaeon CG07_land_8_20_14_0_80_47_9  845         \n",
       "3  Candidatus Odinarchaeota archaeon LCB_4                         845         \n",
       "2  Candidatus Lokiarchaeota archaeon CR_4                          845         \n",
       "4  Candidatus Thorarchaeota archaeon AB_25                         845         "
      ]
     },
     "execution_count": 605,
     "metadata": {},
     "output_type": "execute_result"
    }
   ],
   "source": [
    "parse(845)"
   ]
  },
  {
   "cell_type": "code",
   "execution_count": 758,
   "metadata": {
    "scrolled": false
   },
   "outputs": [
    {
     "data": {
      "image/png": "[encoded data removed]",
      "text/plain": [
       "<matplotlib.figure.Figure at 0x7f8053bacd68>"
      ]
     },
     "metadata": {},
     "output_type": "display_data"
    }
   ],
   "source": [
    "stringhits([\"prenyl\"])"
   ]
  },
  {
   "cell_type": "code",
   "execution_count": 759,
   "metadata": {},
   "outputs": [
    {
     "name": "stdout",
     "output_type": "stream",
     "text": [
      "8 proteins from 7 species in orthogroup number 577\n"
     ]
    },
    {
     "data": {
      "text/html": [
       "<div>\n",
       "<style>\n",
       "    .dataframe thead tr:only-child th {\n",
       "        text-align: right;\n",
       "    }\n",
       "\n",
       "    .dataframe thead th {\n",
       "        text-align: left;\n",
       "    }\n",
       "\n",
       "    .dataframe tbody tr th {\n",
       "        vertical-align: top;\n",
       "    }\n",
       "</style>\n",
       "<table border=\"1\" class=\"dataframe\">\n",
       "  <thead>\n",
       "    <tr style=\"text-align: left;\">\n",
       "      <th></th>\n",
       "      <th>id</th>\n",
       "      <th>protein</th>\n",
       "      <th>species</th>\n",
       "      <th>Orthogroup</th>\n",
       "    </tr>\n",
       "  </thead>\n",
       "  <tbody>\n",
       "    <tr>\n",
       "      <th>6</th>\n",
       "      <td>OLS21173.1</td>\n",
       "      <td>(2Z,6E)-farnesyl diphosphate synthase</td>\n",
       "      <td>Candidatus Thorarchaeota archaeon AB_25</td>\n",
       "      <td>577</td>\n",
       "    </tr>\n",
       "    <tr>\n",
       "      <th>5</th>\n",
       "      <td>OLS17352.1</td>\n",
       "      <td>Tritrans,polycis-undecaprenyl-diphosphate synthase (GGDP specific)</td>\n",
       "      <td>Candidatus Odinarchaeota archaeon LCB_4</td>\n",
       "      <td>577</td>\n",
       "    </tr>\n",
       "    <tr>\n",
       "      <th>1</th>\n",
       "      <td>KKK42142.1</td>\n",
       "      <td>Tritrans,polycis-undecaprenyl-diphosphate synthase (GGDP specific)</td>\n",
       "      <td>Lokiarchaeum sp. GC14_75</td>\n",
       "      <td>577</td>\n",
       "    </tr>\n",
       "    <tr>\n",
       "      <th>2</th>\n",
       "      <td>KKK46322.1</td>\n",
       "      <td>Tritrans,polycis-undecaprenyl-diphosphate synthase (GGDP specific)</td>\n",
       "      <td>Lokiarchaeum sp. GC14_75</td>\n",
       "      <td>577</td>\n",
       "    </tr>\n",
       "    <tr>\n",
       "      <th>3</th>\n",
       "      <td>KON34016.1</td>\n",
       "      <td>UDP diphosphate synthase</td>\n",
       "      <td>miscellaneous Crenarchaeota group-6 archaeon AD8-1</td>\n",
       "      <td>577</td>\n",
       "    </tr>\n",
       "    <tr>\n",
       "      <th>4</th>\n",
       "      <td>OLS12014.1</td>\n",
       "      <td>UDP pyrophosphate synthetase</td>\n",
       "      <td>Candidatus Lokiarchaeota archaeon CR_4</td>\n",
       "      <td>577</td>\n",
       "    </tr>\n",
       "    <tr>\n",
       "      <th>7</th>\n",
       "      <td>PIU59359.1</td>\n",
       "      <td>di-trans,poly-cis-decaprenylcistransferase</td>\n",
       "      <td>Candidatus Bathyarchaeota archaeon CG07_land_8_20_14_0_80_47_9</td>\n",
       "      <td>577</td>\n",
       "    </tr>\n",
       "    <tr>\n",
       "      <th>0</th>\n",
       "      <td>EHP69248.1</td>\n",
       "      <td>undecaprenyl diphosphate synthase</td>\n",
       "      <td>Metallosphaera yellowstonensis MK1</td>\n",
       "      <td>577</td>\n",
       "    </tr>\n",
       "  </tbody>\n",
       "</table>\n",
       "</div>"
      ],
      "text/plain": [
       "  id            \\\n",
       "6  OLS21173.1    \n",
       "5  OLS17352.1    \n",
       "1  KKK42142.1    \n",
       "2  KKK46322.1    \n",
       "3  KON34016.1    \n",
       "4  OLS12014.1    \n",
       "7  PIU59359.1    \n",
       "0  EHP69248.1    \n",
       "\n",
       "  protein                                                               \\\n",
       "6  (2Z,6E)-farnesyl diphosphate synthase                                 \n",
       "5  Tritrans,polycis-undecaprenyl-diphosphate synthase (GGDP specific)    \n",
       "1  Tritrans,polycis-undecaprenyl-diphosphate synthase (GGDP specific)    \n",
       "2  Tritrans,polycis-undecaprenyl-diphosphate synthase (GGDP specific)    \n",
       "3  UDP diphosphate synthase                                              \n",
       "4  UDP pyrophosphate synthetase                                          \n",
       "7  di-trans,poly-cis-decaprenylcistransferase                            \n",
       "0  undecaprenyl diphosphate synthase                                     \n",
       "\n",
       "  species                                                          Orthogroup  \n",
       "6  Candidatus Thorarchaeota archaeon AB_25                         577         \n",
       "5  Candidatus Odinarchaeota archaeon LCB_4                         577         \n",
       "1  Lokiarchaeum sp. GC14_75                                        577         \n",
       "2  Lokiarchaeum sp. GC14_75                                        577         \n",
       "3  miscellaneous Crenarchaeota group-6 archaeon AD8-1              577         \n",
       "4  Candidatus Lokiarchaeota archaeon CR_4                          577         \n",
       "7  Candidatus Bathyarchaeota archaeon CG07_land_8_20_14_0_80_47_9  577         \n",
       "0  Metallosphaera yellowstonensis MK1                              577         "
      ]
     },
     "execution_count": 759,
     "metadata": {},
     "output_type": "execute_result"
    }
   ],
   "source": [
    "parse(577)"
   ]
  },
  {
   "cell_type": "code",
   "execution_count": 751,
   "metadata": {},
   "outputs": [
    {
     "data": {
      "image/png": "[encoded data removed]",
      "text/plain": [
       "<matplotlib.figure.Figure at 0x7f8050b6f748>"
      ]
     },
     "metadata": {},
     "output_type": "display_data"
    }
   ],
   "source": [
    "l=stringhits([\"acyltransferase\"])"
   ]
  },
  {
   "cell_type": "code",
   "execution_count": 721,
   "metadata": {},
   "outputs": [],
   "source": [
    "## 578 369  395!\n",
    "def clustal(ogindex):\n",
    "    og=ogindex\n",
    "    global filename\n",
    "    filename=\"orthogroup\"+str(og)\n",
    "    d={}\n",
    "    global phynames\n",
    "    phynames={}\n",
    "    for seqid in orthogroups[og]:\n",
    "            seqs=SeqIO.parse(\"alltaxa.fasta\",\"fasta\")\n",
    "            for s in seqs:\n",
    "                if s.id==seqid:\n",
    "                    species=s.description.split(\"[\")[-1]\n",
    "                    d[species+seqid]=str(s.seq)\n",
    "                    phynames[seqid[1:]]=names[species]+\"-\"+\" \".join(s.description.split('[')[:-1])[20:]\n",
    "    f=open(\"OGfastas/\"+filename+\".fasta\",\"w+\")\n",
    "    for i in d:\n",
    "        f.write(\">\"+i[-9:]+\"\\n\"+d[i]+\"\\n\")\n",
    "    f.close()\n",
    "    !mafft --genafpair --maxiterate 10000 OGfastas/$filename\\.fasta > OGfastas/$filename\\aligned.fasta\n",
    "    !clustalx OGfastas/$filename\\aligned.fasta"
   ]
  },
  {
   "cell_type": "code",
   "execution_count": 722,
   "metadata": {
    "scrolled": true
   },
   "outputs": [
    {
     "name": "stdout",
     "output_type": "stream",
     "text": [
      "\n",
      "nseq =  8\n",
      "distance =  localgenaf\n",
      "iterate =  16\n",
      "cycle =  1\n",
      "nthread = 0\n",
      "lastonce = 0\n",
      "done.\n",
      "scoremtx = 1\n",
      "charsize=128\n",
      "    6 / 8\n",
      "\n",
      "##### writing hat3\n",
      "pairlocalalign (aa) Version 7.271 alg=N, model=BLOSUM62, 2.00, -0.00, -0.00, noshift, amax=0.0\n",
      "0 thread(s)\n",
      "minimumweight = 0.000500\n",
      "nthread = 0\n",
      "blosum 62 / kimura 200\n",
      "sueff_global = 0.100000\n",
      "Loading 'hat3' ... \n",
      "done.\n",
      "done.\n",
      "scoremtx = 1\n",
      "charsize=128\n",
      "Gap Penalty = -1.53, +0.00, +0.00\n",
      "Loading 'hat2' ... done.\n",
      "Constructing a UPGMA tree ... \n",
      "    0 / 8\n",
      "done.\n",
      "\n",
      "Progressive alignment ... \n",
      "STEP     7 /7 c\n",
      "done.\n",
      "tbfast (aa) Version 7.271 alg=A, model=BLOSUM62, 1.53, -0.00, -0.00, noshift, amax=0.0\n",
      "0 thread(s)\n",
      "minimumweight = 0.000500\n",
      "autosubalignment = 0.000000\n",
      "nthread = 0\n",
      "randomseed = 0\n",
      "blosum 62 / kimura 200\n",
      "poffset = 0\n",
      "niter = 16\n",
      "sueff_global = 0.100000\n",
      "Loading 'hat3' ... done.\n",
      "done.\n",
      "scoremtx = 1\n",
      "charsize=128\n",
      "\n",
      "    0 / 8\n",
      "Segment   1/  1    1- 417\n",
      "STEP 002-006-1  rejected..    identical.   \n",
      "Converged.\n",
      "\n",
      "done\n",
      "dvtditr (aa) Version 7.271 alg=A, model=BLOSUM62, 1.53, -0.00, -0.00, noshift, amax=0.0\n",
      "0 thread(s)\n",
      "\n",
      "\n",
      "Strategy:\n",
      " E-INS-i (Suitable for sequences with long unalignable regions, very slow)\n",
      " Iterative refinement method (<16) with LOCAL pairwise alignment with generalized affine gap costs (Altschul 1998)\n",
      "\n",
      "If unsure which option to use, try 'mafft --auto input > output'.\n",
      "For more information, see 'mafft --help', 'mafft --man' and the mafft page.\n",
      "\n",
      "The default gap scoring scheme has been changed in version 7.110 (2013 Oct).\n",
      "It tends to insert more gaps into gap-rich regions than previous versions.\n",
      "To disable this change, add the --leavegappyregion option.\n",
      "\n",
      "Parameters for the E-INS-i option have been changed in version 7.243 (2015 Jun).\n",
      "To switch to the old parameters, use --oldgenafpair, instead of --genafpair.\n",
      "\n",
      "Sequence format is Pearson\n",
      "Sequence 1: HP69451.1    416 aa\n",
      "Sequence 2: KK42550.1    416 aa\n",
      "Sequence 3: ON32962.1    416 aa\n",
      "Sequence 4: ON34017.1    416 aa\n",
      "Sequence 5: XH70566.1    416 aa\n",
      "Sequence 6: LS17906.1    416 aa\n",
      "Sequence 7: LS28338.1    416 aa\n",
      "Sequence 8: IU59358.1    416 aa\n",
      "Sequence format is Pearson\n",
      "Sequences assumed to be PROTEIN\n"
     ]
    }
   ],
   "source": [
    "orthogroups=orthogroups15\n",
    "ogindex=578\n",
    "clustal(ogindex)"
   ]
  },
  {
   "cell_type": "code",
   "execution_count": 715,
   "metadata": {
    "scrolled": true
   },
   "outputs": [],
   "source": [
    "!seqret -auto -sprotein1 -sequence fasta::OGfastas/$filename\\aligned.fasta -outseq phylip::OGfastas/$filename\\aligned.phy\n",
    "#!cat OGfastas/$filename\\aligned.phy\n",
    "#t=open(\"OGfastas/\"+filename+\"aligned.phy_phyml_tree.txt\",\"w+\").read()"
   ]
  },
  {
   "cell_type": "code",
   "execution_count": 723,
   "metadata": {},
   "outputs": [
    {
     "data": {
      "text/plain": [
       "{'HP69451.1': 'Metallo-O-GTPase, probable translation factor ',\n",
       " 'IU59358.1': 'C.Bathy-O-ulated ATPase YchF ',\n",
       " 'KK42550.1': 'Lokiarc-I-binding ATPase YchF ',\n",
       " 'LS17906.1': 'C.-Odin-I-binding ATPase YchF ',\n",
       " 'LS28338.1': 'ThorAB2-I-binding ATPase YchF ',\n",
       " 'ON32962.1': 'Crenarc-O-cal protein AC479_06170 ',\n",
       " 'ON34017.1': 'Crenarc-O-on-associated GTPase ',\n",
       " 'XH70566.1': 'ThorSMT-I-cal protein AM326_04170 '}"
      ]
     },
     "execution_count": 723,
     "metadata": {},
     "output_type": "execute_result"
    }
   ],
   "source": [
    "phynames"
   ]
  },
  {
   "cell_type": "code",
   "execution_count": 728,
   "metadata": {
    "scrolled": false
   },
   "outputs": [
    {
     "name": "stdout",
     "output_type": "stream",
     "text": [
      "\n",
      "\n",
      "\n",
      "\n",
      "\n",
      "\n",
      "                                 ..........................                                      \n",
      " ooooooooooooooooooooooooooooo        CURRENT SETTINGS        ooooooooooooooooooooooooooooooooooo\n",
      "                                 ..........................                                      \n",
      "\n",
      "                . Sequence filename:\t\t\t\t orthogroup578aligned.phy\n",
      "                . Data type:\t\t\t\t\t aa\n",
      "                . Alphabet size:\t\t\t\t 20\n",
      "                . Sequence format:\t\t\t\t interleaved\n",
      "                . Number of data sets:\t\t\t\t 1\n",
      "                . Nb of bootstrapped data sets:\t\t\t 0\n",
      "                . Compute approximate likelihood ratio test:\t yes (SH-like branch supports)\n",
      "                . Model name:\t\t\t\t\t LG\n",
      "                . Proportion of invariable sites:\t\t 0.000000\n",
      "                . Number of subst. rate categs:\t\t\t 4\n",
      "                . Gamma distribution parameter:\t\t\t estimated\n",
      "                . 'Middle' of each rate class:\t\t\t mean\n",
      "                . Amino acid equilibrium frequencies:\t\t model\n",
      "                . Optimise tree topology:\t\t\t yes\n",
      "                . Tree topology search:\t\t\t\t Best of NNIs and SPRs\n",
      "                . Starting tree:\t\t\t\t BioNJ\n",
      "                . Add random input tree:\t\t\t no\n",
      "                . Optimise branch lengths:\t\t\t yes\n",
      "                . Optimise substitution model parameters:\t yes\n",
      "                . Run ID:\t\t\t\t\t none\n",
      "                . Random seed:\t\t\t\t\t 1522758980\n",
      "                . Subtree patterns aliasing:\t\t\t no\n",
      "                . Version:\t\t\t\t\t 20120412\n",
      "\n",
      " oooooooooooooooooooooooooooooooooooooooooooooooooooooooooooooooooooooooooooooooooooooooooooooooo\n",
      "\n",
      "\n",
      "\n",
      ". 357 patterns found (out of a total of 416 sites). \n",
      "\n",
      ". 80 sites without polymorphism (19.23%).\n",
      "\n",
      ". Computing pairwise distances...\n",
      "\n",
      ". Building BioNJ tree...\n",
      "\n",
      ". This analysis requires at least 5 Mo of memory space.\n",
      "\n",
      ". Refining the input tree...\n",
      "\n",
      ". Maximizing likelihood (using NNI moves)...\n",
      "\n",
      ". (    1 sec) [     -5418.9733] [Alpha              ][  1.192503]\n",
      ". (    1 sec) [     -5418.9733] [Topology           ][# nnis=  0]\n",
      ". (    1 sec) [     -5418.0890] [Topology           ][# nnis=  0]\n",
      ". (    2 sec) [     -5417.8860] [Topology           ]\n",
      ". (    2 sec) [     -5417.8860] [Branch lengths     ]\n",
      ". (    2 sec) [     -5417.7654] [Alpha              ][  1.161005]\n",
      ". (    2 sec) [     -5417.7654] [Branch lengths     ]\n",
      ". (    2 sec) [     -5417.7397] [Alpha              ][  1.154496]\n",
      ". (    2 sec) [     -5417.7397] [Branch lengths     ]\n",
      ". (    2 sec) [     -5417.7355] [Alpha              ][  1.153219]\n",
      ". (    2 sec) [     -5417.7355] [Branch lengths     ]\n",
      ". (    2 sec) [     -5417.7348] [Alpha              ][  1.152066]\n",
      ". (    2 sec) [     -5417.7348] [Alpha              ][  1.152066]\n",
      "\n",
      ". Checking for NNIs, optimizing five branches...\n",
      "\n",
      "\n",
      "\n",
      ". Maximizing likelihood (using SPR moves)...\n",
      "\n",
      ". Refining the tree...\n",
      "\n",
      ". (    5 sec) [     -5445.2254] [  968] [depth=    1]\n",
      ". (    5 sec) [     -5443.6896] [  963] [depth=    1]\n",
      ". (    5 sec) [     -5440.3224] [  961] [depth=    1]\n",
      ". (    5 sec) [     -5439.7295] [  963] [depth=    1]\n",
      ". (    6 sec) [     -5439.7295] [Alpha              ][  1.000000]\n",
      ". (    6 sec) [     -5418.9872] [Alpha              ][  1.193248]\n",
      ". (    8 sec) [     -5417.8429] [Branch lengths     ]\n",
      ". (    8 sec) [     -5417.8429] [Topology           ][# nnis=  0]\n",
      ". (    8 sec) [     -5417.8003] [Topology           ][# nnis=  0]\n",
      ". (    8 sec) [     -5417.7886] [Topology           ]\n",
      ". (    8 sec) [     -5417.7886] [Branch lengths     ]\n",
      ". (    8 sec) [     -5417.7434] [Alpha              ][  1.157435]\n",
      ". (    8 sec) [     -5417.7434] [Branch lengths     ]\n",
      ". (    9 sec) [     -5417.7362] [Alpha              ][  1.153583]\n",
      ". (    9 sec) [     -5417.7362] [Branch lengths     ]\n",
      ". (    9 sec) [     -5417.7349] [Alpha              ][  1.152430]\n",
      ". (    9 sec) [     -5417.7349] [Branch lengths     ]\n",
      ". (    9 sec) [     -5417.7347] [Alpha              ][  1.152430]\n",
      ". (    9 sec) [     -5417.7347] [Alpha              ][  1.152430]\n",
      "\n",
      ". Checking for NNIs, optimizing five branches...\n",
      "\n",
      "\n",
      ". Log likelihood obtained after NNI moves : -5417.734811\n",
      ". Log likelihood obtained after SPR moves : -5417.734696\n",
      "\n",
      ". Log likelihood of the current tree: -5417.734696.\n",
      "\n",
      ". Compute fast branch supports on the most likely tree...\n",
      "\n",
      ". Printing the most likely tree in file 'orthogroup578aligned.phy_phyml_tree.txt'...\n",
      "\n",
      ". Time used 0h0m14s\n",
      "\n",
      "oooooooooooooooooooooooooooooooooooooooooooooooooooooooooooooooooooooooooooooooooooooooooooooooo\n"
     ]
    }
   ],
   "source": [
    "%PhyML -i OGfastas/$filename\\aligned.phy -d aa -s BEST"
   ]
  },
  {
   "cell_type": "code",
   "execution_count": 720,
   "metadata": {},
   "outputs": [
    {
     "data": {
      "text/plain": [
       "{'HP69451.1': 'Metallo-O-putative GTPase, probable translation factor ',\n",
       " 'IU59358.1': 'C.Bathy-O-redox-regulated ATPase YchF ',\n",
       " 'KK42550.1': 'Lokiarc-I-Ribosome-binding ATPase YchF ',\n",
       " 'LS17906.1': 'C.-Odin-I-Ribosome-binding ATPase YchF ',\n",
       " 'LS28338.1': 'ThorAB2-I-Ribosome-binding ATPase YchF ',\n",
       " 'ON32962.1': 'Crenarc-O-hypothetical protein AC479_06170 ',\n",
       " 'ON34017.1': 'Crenarc-O-translation-associated GTPase ',\n",
       " 'XH70566.1': 'ThorSMT-I-hypothetical protein AM326_04170 '}"
      ]
     },
     "execution_count": 720,
     "metadata": {},
     "output_type": "execute_result"
    }
   ],
   "source": [
    "phynames"
   ]
  },
  {
   "cell_type": "code",
   "execution_count": 729,
   "metadata": {
    "scrolled": false
   },
   "outputs": [
    {
     "data": {
      "text/plain": [
       "412"
      ]
     },
     "execution_count": 729,
     "metadata": {},
     "output_type": "execute_result"
    }
   ],
   "source": [
    "t=open(\"OGfastas/\"+filename+\"aligned.phy_phyml_tree.txt\").read()\n",
    "tb=t\n",
    "for i in phynames:\n",
    "    t=t.replace(i,phynames[i][:26].rstrip().replace(\" \",\"_\").replace(\",\",\".\"))\n",
    "open(\"OGfastas/\"+filename+\"aligned.phy_phyml_tree.txt\",\"w+\").write(t)"
   ]
  },
  {
   "cell_type": "code",
   "execution_count": 573,
   "metadata": {},
   "outputs": [
    {
     "data": {
      "text/plain": [
       "True"
      ]
     },
     "execution_count": 573,
     "metadata": {},
     "output_type": "execute_result"
    }
   ],
   "source": [
    "578 in robustogs"
   ]
  },
  {
   "cell_type": "code",
   "execution_count": 574,
   "metadata": {},
   "outputs": [
    {
     "data": {
      "text/plain": [
       "True"
      ]
     },
     "execution_count": 574,
     "metadata": {},
     "output_type": "execute_result"
    }
   ],
   "source": [
    "395 in robustogs"
   ]
  },
  {
   "cell_type": "code",
   "execution_count": 572,
   "metadata": {},
   "outputs": [
    {
     "name": "stdout",
     "output_type": "stream",
     "text": [
      "8 proteins from 7 species in orthogroup number 578\n"
     ]
    },
    {
     "data": {
      "text/html": [
       "<div>\n",
       "<style>\n",
       "    .dataframe thead tr:only-child th {\n",
       "        text-align: right;\n",
       "    }\n",
       "\n",
       "    .dataframe thead th {\n",
       "        text-align: left;\n",
       "    }\n",
       "\n",
       "    .dataframe tbody tr th {\n",
       "        vertical-align: top;\n",
       "    }\n",
       "</style>\n",
       "<table border=\"1\" class=\"dataframe\">\n",
       "  <thead>\n",
       "    <tr style=\"text-align: left;\">\n",
       "      <th></th>\n",
       "      <th>id</th>\n",
       "      <th>protein</th>\n",
       "      <th>species</th>\n",
       "      <th>Orthogroup</th>\n",
       "    </tr>\n",
       "  </thead>\n",
       "  <tbody>\n",
       "    <tr>\n",
       "      <th>5</th>\n",
       "      <td>OLS17906.1</td>\n",
       "      <td>Ribosome-binding ATPase YchF</td>\n",
       "      <td>Candidatus Odinarchaeota archaeon LCB_4</td>\n",
       "      <td>578</td>\n",
       "    </tr>\n",
       "    <tr>\n",
       "      <th>6</th>\n",
       "      <td>OLS28338.1</td>\n",
       "      <td>Ribosome-binding ATPase YchF</td>\n",
       "      <td>Candidatus Thorarchaeota archaeon AB_25</td>\n",
       "      <td>578</td>\n",
       "    </tr>\n",
       "    <tr>\n",
       "      <th>1</th>\n",
       "      <td>KKK42550.1</td>\n",
       "      <td>Ribosome-binding ATPase YchF</td>\n",
       "      <td>Lokiarchaeum sp. GC14_75</td>\n",
       "      <td>578</td>\n",
       "    </tr>\n",
       "    <tr>\n",
       "      <th>2</th>\n",
       "      <td>KON32962.1</td>\n",
       "      <td>hypothetical protein AC479_06170</td>\n",
       "      <td>miscellaneous Crenarchaeota group-6 archaeon AD8-1</td>\n",
       "      <td>578</td>\n",
       "    </tr>\n",
       "    <tr>\n",
       "      <th>4</th>\n",
       "      <td>KXH70566.1</td>\n",
       "      <td>hypothetical protein AM326_04170</td>\n",
       "      <td>Candidatus Thorarchaeota archaeon SMTZ-45</td>\n",
       "      <td>578</td>\n",
       "    </tr>\n",
       "    <tr>\n",
       "      <th>0</th>\n",
       "      <td>EHP69451.1</td>\n",
       "      <td>putative GTPase, probable translation factor</td>\n",
       "      <td>Metallosphaera yellowstonensis MK1</td>\n",
       "      <td>578</td>\n",
       "    </tr>\n",
       "    <tr>\n",
       "      <th>7</th>\n",
       "      <td>PIU59358.1</td>\n",
       "      <td>redox-regulated ATPase YchF</td>\n",
       "      <td>Candidatus Bathyarchaeota archaeon CG07_land_8_20_14_0_80_47_9</td>\n",
       "      <td>578</td>\n",
       "    </tr>\n",
       "    <tr>\n",
       "      <th>3</th>\n",
       "      <td>KON34017.1</td>\n",
       "      <td>translation-associated GTPase</td>\n",
       "      <td>miscellaneous Crenarchaeota group-6 archaeon AD8-1</td>\n",
       "      <td>578</td>\n",
       "    </tr>\n",
       "  </tbody>\n",
       "</table>\n",
       "</div>"
      ],
      "text/plain": [
       "  id           protein                                         \\\n",
       "5  OLS17906.1   Ribosome-binding ATPase YchF                    \n",
       "6  OLS28338.1   Ribosome-binding ATPase YchF                    \n",
       "1  KKK42550.1   Ribosome-binding ATPase YchF                    \n",
       "2  KON32962.1   hypothetical protein AC479_06170                \n",
       "4  KXH70566.1   hypothetical protein AM326_04170                \n",
       "0  EHP69451.1   putative GTPase, probable translation factor    \n",
       "7  PIU59358.1   redox-regulated ATPase YchF                     \n",
       "3  KON34017.1   translation-associated GTPase                   \n",
       "\n",
       "  species                                                          Orthogroup  \n",
       "5  Candidatus Odinarchaeota archaeon LCB_4                         578         \n",
       "6  Candidatus Thorarchaeota archaeon AB_25                         578         \n",
       "1  Lokiarchaeum sp. GC14_75                                        578         \n",
       "2  miscellaneous Crenarchaeota group-6 archaeon AD8-1              578         \n",
       "4  Candidatus Thorarchaeota archaeon SMTZ-45                       578         \n",
       "0  Metallosphaera yellowstonensis MK1                              578         \n",
       "7  Candidatus Bathyarchaeota archaeon CG07_land_8_20_14_0_80_47_9  578         \n",
       "3  miscellaneous Crenarchaeota group-6 archaeon AD8-1              578         "
      ]
     },
     "execution_count": 572,
     "metadata": {},
     "output_type": "execute_result"
    }
   ],
   "source": [
    "parse(578)"
   ]
  },
  {
   "cell_type": "code",
   "execution_count": 576,
   "metadata": {},
   "outputs": [
    {
     "name": "stdout",
     "output_type": "stream",
     "text": [
      "9 proteins from 8 species in orthogroup number 395\n"
     ]
    },
    {
     "data": {
      "text/html": [
       "<div>\n",
       "<style>\n",
       "    .dataframe thead tr:only-child th {\n",
       "        text-align: right;\n",
       "    }\n",
       "\n",
       "    .dataframe thead th {\n",
       "        text-align: left;\n",
       "    }\n",
       "\n",
       "    .dataframe tbody tr th {\n",
       "        vertical-align: top;\n",
       "    }\n",
       "</style>\n",
       "<table border=\"1\" class=\"dataframe\">\n",
       "  <thead>\n",
       "    <tr style=\"text-align: left;\">\n",
       "      <th></th>\n",
       "      <th>id</th>\n",
       "      <th>protein</th>\n",
       "      <th>species</th>\n",
       "      <th>Orthogroup</th>\n",
       "    </tr>\n",
       "  </thead>\n",
       "  <tbody>\n",
       "    <tr>\n",
       "      <th>7</th>\n",
       "      <td>OLS31600.1</td>\n",
       "      <td>Ribose-5-phosphate isomerase A</td>\n",
       "      <td>Candidatus Thorarchaeota archaeon AB_25</td>\n",
       "      <td>395</td>\n",
       "    </tr>\n",
       "    <tr>\n",
       "      <th>1</th>\n",
       "      <td>KKK44869.1</td>\n",
       "      <td>Ribose-5-phosphate isomerase A</td>\n",
       "      <td>Lokiarchaeum sp. GC14_75</td>\n",
       "      <td>395</td>\n",
       "    </tr>\n",
       "    <tr>\n",
       "      <th>2</th>\n",
       "      <td>KON33356.1</td>\n",
       "      <td>hypothetical protein AC479_04795</td>\n",
       "      <td>miscellaneous Crenarchaeota group-6 archaeon AD8-1</td>\n",
       "      <td>395</td>\n",
       "    </tr>\n",
       "    <tr>\n",
       "      <th>4</th>\n",
       "      <td>KXH76417.1</td>\n",
       "      <td>hypothetical protein AM326_02820</td>\n",
       "      <td>Candidatus Thorarchaeota archaeon SMTZ-45</td>\n",
       "      <td>395</td>\n",
       "    </tr>\n",
       "    <tr>\n",
       "      <th>3</th>\n",
       "      <td>KXH71619.1</td>\n",
       "      <td>hypothetical protein AM326_11665</td>\n",
       "      <td>Candidatus Thorarchaeota archaeon SMTZ-45</td>\n",
       "      <td>395</td>\n",
       "    </tr>\n",
       "    <tr>\n",
       "      <th>5</th>\n",
       "      <td>MBS85711.1</td>\n",
       "      <td>hypothetical protein CME83_04055</td>\n",
       "      <td>Candidatus Heimdallarchaeota archaeon</td>\n",
       "      <td>395</td>\n",
       "    </tr>\n",
       "    <tr>\n",
       "      <th>0</th>\n",
       "      <td>EHP69493.1</td>\n",
       "      <td>ribose 5-phosphate isomerase</td>\n",
       "      <td>Metallosphaera yellowstonensis MK1</td>\n",
       "      <td>395</td>\n",
       "    </tr>\n",
       "    <tr>\n",
       "      <th>8</th>\n",
       "      <td>PIU60182.1</td>\n",
       "      <td>ribose 5-phosphate isomerase A</td>\n",
       "      <td>Candidatus Bathyarchaeota archaeon CG07_land_8_20_14_0_80_47_9</td>\n",
       "      <td>395</td>\n",
       "    </tr>\n",
       "    <tr>\n",
       "      <th>6</th>\n",
       "      <td>OLS13299.1</td>\n",
       "      <td>ribose-5-phosphate isomerase A</td>\n",
       "      <td>Candidatus Lokiarchaeota archaeon CR_4</td>\n",
       "      <td>395</td>\n",
       "    </tr>\n",
       "  </tbody>\n",
       "</table>\n",
       "</div>"
      ],
      "text/plain": [
       "  id           protein                             \\\n",
       "7  OLS31600.1   Ribose-5-phosphate isomerase A      \n",
       "1  KKK44869.1   Ribose-5-phosphate isomerase A      \n",
       "2  KON33356.1   hypothetical protein AC479_04795    \n",
       "4  KXH76417.1   hypothetical protein AM326_02820    \n",
       "3  KXH71619.1   hypothetical protein AM326_11665    \n",
       "5  MBS85711.1   hypothetical protein CME83_04055    \n",
       "0  EHP69493.1   ribose 5-phosphate isomerase        \n",
       "8  PIU60182.1   ribose 5-phosphate isomerase A      \n",
       "6  OLS13299.1   ribose-5-phosphate isomerase A      \n",
       "\n",
       "  species                                                          Orthogroup  \n",
       "7  Candidatus Thorarchaeota archaeon AB_25                         395         \n",
       "1  Lokiarchaeum sp. GC14_75                                        395         \n",
       "2  miscellaneous Crenarchaeota group-6 archaeon AD8-1              395         \n",
       "4  Candidatus Thorarchaeota archaeon SMTZ-45                       395         \n",
       "3  Candidatus Thorarchaeota archaeon SMTZ-45                       395         \n",
       "5  Candidatus Heimdallarchaeota archaeon                           395         \n",
       "0  Metallosphaera yellowstonensis MK1                              395         \n",
       "8  Candidatus Bathyarchaeota archaeon CG07_land_8_20_14_0_80_47_9  395         \n",
       "6  Candidatus Lokiarchaeota archaeon CR_4                          395         "
      ]
     },
     "execution_count": 576,
     "metadata": {},
     "output_type": "execute_result"
    }
   ],
   "source": [
    "parse(395)"
   ]
  },
  {
   "cell_type": "code",
   "execution_count": 730,
   "metadata": {
    "scrolled": true
   },
   "outputs": [
    {
     "name": "stdout",
     "output_type": "stream",
     "text": [
      "4\t1\r\n",
      "4\t2\r\n",
      "4\t3\r\n",
      "4\t4\r\n"
     ]
    }
   ],
   "source": [
    "%Notung -g OGfastas/$filename\\aligned.phy_phyml_tree.txt -s OGfastas/species_tree_final.ntg"
   ]
  },
  {
   "cell_type": "code",
   "execution_count": 731,
   "metadata": {},
   "outputs": [
    {
     "name": "stdout",
     "output_type": "stream",
     "text": [
      "4\t1\r\n",
      "4\t2\r\n",
      "4\t3\r\n",
      "4\t4\r\n"
     ]
    }
   ],
   "source": [
    "%Notung -g OGfastas/orthogroup578aligned.phy_phyml_tree.txt -s OGfastas/species_tree_final.ntg"
   ]
  },
  {
   "cell_type": "code",
   "execution_count": null,
   "metadata": {},
   "outputs": [
    {
     "name": "stdout",
     "output_type": "stream",
     "text": [
      "4\t1\r\n",
      "4\t2\r\n",
      "4\t3\r\n",
      "4\t4\r\n"
     ]
    }
   ],
   "source": [
    "%Notung -g OGfastas/orthogroup395aligned.phy_phyml_tree.txt -s OGfastas/species_tree_final.ntg"
   ]
  },
  {
   "cell_type": "code",
   "execution_count": 580,
   "metadata": {},
   "outputs": [
    {
     "name": "stdout",
     "output_type": "stream",
     "text": [
      "OGfastas/aligned150.phy_phyml_tree.txt\r\n",
      "OGfastas/concatenatedforspecies.fasta_phyml_tree.txt\r\n",
      "OGfastas/concatenatedforspecies.phy_phyml_tree.txt\r\n",
      "OGfastas/orthogroup273aligned.phy_phyml_tree.txt\r\n",
      "OGfastas/orthogroup294aligned.phy_phyml_tree.txt\r\n",
      "OGfastas/orthogroup369aligned.phy_phyml_tree.txt\r\n",
      "OGfastas/orthogroup395aligned.phy_phyml_tree.txt\r\n",
      "OGfastas/orthogroup406aligned.phy_phyml_tree.txt\r\n",
      "OGfastas/orthogroup447aligned.phy_phyml_tree.txt\r\n",
      "OGfastas/orthogroup497aligned.phy_phyml_tree.txt\r\n",
      "OGfastas/orthogroup578aligned.phy_phyml_tree.txt\r\n"
     ]
    }
   ],
   "source": [
    "!ls OGfastas/*_tree.txt"
   ]
  },
  {
   "cell_type": "code",
   "execution_count": 664,
   "metadata": {},
   "outputs": [
    {
     "data": {
      "text/plain": [
       "11.067"
      ]
     },
     "execution_count": 664,
     "metadata": {},
     "output_type": "execute_result"
    }
   ],
   "source": [
    "orthogroups=orthogroups1545\n",
    "np.mean([len(orthogroups[i]) for i in range(1000)])"
   ]
  },
  {
   "cell_type": "code",
   "execution_count": 740,
   "metadata": {},
   "outputs": [],
   "source": [
    "plt.rcParams.update({'font.size': 13})"
   ]
  },
  {
   "cell_type": "code",
   "execution_count": 741,
   "metadata": {},
   "outputs": [
    {
     "data": {
      "text/plain": [
       "Text(0.5,0,'orthogroup index')"
      ]
     },
     "execution_count": 741,
     "metadata": {},
     "output_type": "execute_result"
    },
    {
     "data": {
      "image/png": "[encoded data removed]",
      "text/plain": [
       "<matplotlib.figure.Figure at 0x7f8050fdf978>"
      ]
     },
     "metadata": {},
     "output_type": "display_data"
    }
   ],
   "source": [
    "fig,axs=plt.subplots(1,3, figsize=[15,5])\n",
    "orthogroups=orthogroups1545\n",
    "axs[0].plot([len(orthogroups[i]) for i in range(500)],\"r.\",label=\"Inflation = 1.5, BLOSUM45\")\n",
    "orthogroups=orthogroups1345\n",
    "axs[0].plot([len(orthogroups[i]) for i in range(500)],\"b.\",label=\"Inflation = 1.3, BLOSUM45\")\n",
    "axs[0].legend()\n",
    "axs[0].set_ylabel(\"number of proteins in orthogroup\")\n",
    "#plt.title(\"Size of the top 500 largest orthogroups\")\n",
    "axs[0].set_xlabel(\"orthogroup index\")\n",
    "orthogroups=orthogroups13\n",
    "axs[1].plot([len(orthogroups[i]) for i in range(500)],\"r.\",label=\"Inflation = 1.3, BLOSUM62\")\n",
    "orthogroups=orthogroups1345\n",
    "axs[1].plot([len(orthogroups[i]) for i in range(500)],\"b.\",label=\"Inflation = 1.3, BLOSUM45\")\n",
    "axs[1].legend()\n",
    "axs[1].set_xlabel(\"orthogroup index\")\n",
    "\n",
    "orthogroups=orthogroups15\n",
    "axs[2].plot([len(orthogroups[i]) for i in range(500)],\"r.\",label=\"Inflation = 1.5, BLOSUM62\")\n",
    "orthogroups=orthogroups1545\n",
    "axs[2].plot([len(orthogroups[i]) for i in range(500)],\"b.\",label=\"Inflation = 1.5, BLOSUM45\")\n",
    "axs[2].legend()\n",
    "axs[2].set_xlabel(\"orthogroup index\")"
   ]
  }
 ],
 "metadata": {
  "kernelspec": {
   "display_name": "Python 3",
   "language": "python",
   "name": "python3"
  },
  "language_info": {
   "codemirror_mode": {
    "name": "ipython",
    "version": 3
   },
   "file_extension": ".py",
   "mimetype": "text/x-python",
   "name": "python",
   "nbconvert_exporter": "python",
   "pygments_lexer": "ipython3",
   "version": "3.6.3"
  }
 },
 "nbformat": 4,
 "nbformat_minor": 2
}
